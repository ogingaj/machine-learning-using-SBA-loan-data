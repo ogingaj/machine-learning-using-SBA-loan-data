{
 "cells": [
  {
   "cell_type": "code",
   "execution_count": 1,
   "id": "8aae75db-1164-4a84-b084-b0935ed2157c",
   "metadata": {},
   "outputs": [],
   "source": [
    "# Core Libraries\n",
    "import pandas as pd\n",
    "import numpy as np\n",
    "import matplotlib.pyplot as plt\n",
    "import matplotlib.ticker as mtick\n",
    "import seaborn as sns\n",
    "\n",
    "# Preprocessing\n",
    "from sklearn.preprocessing import StandardScaler\n",
    "from sklearn.decomposition import PCA\n",
    "from sklearn.model_selection import train_test_split\n",
    "\n",
    "# Models\n",
    "from sklearn.svm import SVC, LinearSVC, LinearSVR\n",
    "from sklearn.linear_model import LogisticRegression, LinearRegression\n",
    "from sklearn.ensemble import RandomForestClassifier, RandomForestRegressor\n",
    "from xgboost import XGBClassifier, XGBRegressor\n",
    "\n",
    "# Evaluation Metrics\n",
    "from sklearn.metrics import (\n",
    "    mean_squared_error,\n",
    "    r2_score,\n",
    "    accuracy_score,\n",
    "    precision_score,\n",
    "    recall_score,\n",
    "    f1_score,\n",
    "    confusion_matrix,\n",
    "    ConfusionMatrixDisplay\n",
    ")\n",
    "\n",
    "# Pipeline\n",
    "from sklearn.pipeline import make_pipeline\n"
   ]
  },
  {
   "cell_type": "code",
   "execution_count": 2,
   "id": "a4c31dfd-07ae-457c-bae8-da76164f0132",
   "metadata": {},
   "outputs": [
    {
     "data": {
      "text/html": [
       "<div>\n",
       "<style scoped>\n",
       "    .dataframe tbody tr th:only-of-type {\n",
       "        vertical-align: middle;\n",
       "    }\n",
       "\n",
       "    .dataframe tbody tr th {\n",
       "        vertical-align: top;\n",
       "    }\n",
       "\n",
       "    .dataframe thead th {\n",
       "        text-align: right;\n",
       "    }\n",
       "</style>\n",
       "<table border=\"1\" class=\"dataframe\">\n",
       "  <thead>\n",
       "    <tr style=\"text-align: right;\">\n",
       "      <th></th>\n",
       "      <th>Name</th>\n",
       "      <th>City</th>\n",
       "      <th>State</th>\n",
       "      <th>Zip</th>\n",
       "      <th>Bank</th>\n",
       "      <th>BankState</th>\n",
       "      <th>ApprovalDate</th>\n",
       "      <th>ApprovalFY</th>\n",
       "      <th>Term</th>\n",
       "      <th>NoEmp</th>\n",
       "      <th>...</th>\n",
       "      <th>Sector_Mining</th>\n",
       "      <th>Sector_Other Services</th>\n",
       "      <th>Sector_Professional Services</th>\n",
       "      <th>Sector_Public Admin</th>\n",
       "      <th>Sector_Real Estate</th>\n",
       "      <th>Sector_Retail Trade</th>\n",
       "      <th>Sector_Transportation</th>\n",
       "      <th>Sector_Unknown</th>\n",
       "      <th>Sector_Utilities</th>\n",
       "      <th>Sector_Wholesale Trade</th>\n",
       "    </tr>\n",
       "  </thead>\n",
       "  <tbody>\n",
       "    <tr>\n",
       "      <th>0</th>\n",
       "      <td>CARVEL</td>\n",
       "      <td>APEX</td>\n",
       "      <td>NC</td>\n",
       "      <td>27502</td>\n",
       "      <td>STEARNS BK NATL ASSOC</td>\n",
       "      <td>MN</td>\n",
       "      <td>7-Feb-06</td>\n",
       "      <td>2006</td>\n",
       "      <td>162</td>\n",
       "      <td>2</td>\n",
       "      <td>...</td>\n",
       "      <td>False</td>\n",
       "      <td>False</td>\n",
       "      <td>False</td>\n",
       "      <td>False</td>\n",
       "      <td>False</td>\n",
       "      <td>True</td>\n",
       "      <td>False</td>\n",
       "      <td>False</td>\n",
       "      <td>False</td>\n",
       "      <td>False</td>\n",
       "    </tr>\n",
       "    <tr>\n",
       "      <th>1</th>\n",
       "      <td>SUBWAY</td>\n",
       "      <td>LITTLE ROCK</td>\n",
       "      <td>AR</td>\n",
       "      <td>72223</td>\n",
       "      <td>HOPE FCU</td>\n",
       "      <td>MS</td>\n",
       "      <td>7-Feb-06</td>\n",
       "      <td>2006</td>\n",
       "      <td>126</td>\n",
       "      <td>7</td>\n",
       "      <td>...</td>\n",
       "      <td>False</td>\n",
       "      <td>False</td>\n",
       "      <td>False</td>\n",
       "      <td>False</td>\n",
       "      <td>False</td>\n",
       "      <td>False</td>\n",
       "      <td>False</td>\n",
       "      <td>False</td>\n",
       "      <td>False</td>\n",
       "      <td>False</td>\n",
       "    </tr>\n",
       "    <tr>\n",
       "      <th>2</th>\n",
       "      <td>WEYLAND CORPORATION</td>\n",
       "      <td>CAMARILLO</td>\n",
       "      <td>CA</td>\n",
       "      <td>93010</td>\n",
       "      <td>WELLS FARGO BANK NATL ASSOC</td>\n",
       "      <td>SD</td>\n",
       "      <td>7-Feb-06</td>\n",
       "      <td>2006</td>\n",
       "      <td>83</td>\n",
       "      <td>18</td>\n",
       "      <td>...</td>\n",
       "      <td>False</td>\n",
       "      <td>False</td>\n",
       "      <td>False</td>\n",
       "      <td>False</td>\n",
       "      <td>False</td>\n",
       "      <td>False</td>\n",
       "      <td>False</td>\n",
       "      <td>False</td>\n",
       "      <td>False</td>\n",
       "      <td>False</td>\n",
       "    </tr>\n",
       "    <tr>\n",
       "      <th>3</th>\n",
       "      <td>CHICAGO BRICK UNLIMITED INC</td>\n",
       "      <td>MIAMI</td>\n",
       "      <td>FL</td>\n",
       "      <td>33186</td>\n",
       "      <td>CITIBANK, N.A.</td>\n",
       "      <td>FL</td>\n",
       "      <td>7-Feb-06</td>\n",
       "      <td>2006</td>\n",
       "      <td>84</td>\n",
       "      <td>4</td>\n",
       "      <td>...</td>\n",
       "      <td>False</td>\n",
       "      <td>False</td>\n",
       "      <td>False</td>\n",
       "      <td>False</td>\n",
       "      <td>False</td>\n",
       "      <td>False</td>\n",
       "      <td>False</td>\n",
       "      <td>False</td>\n",
       "      <td>False</td>\n",
       "      <td>False</td>\n",
       "    </tr>\n",
       "    <tr>\n",
       "      <th>4</th>\n",
       "      <td>RZI, INC.</td>\n",
       "      <td>NEW ORLEANS</td>\n",
       "      <td>LA</td>\n",
       "      <td>70130</td>\n",
       "      <td>BUSINESS RES. CAP. SPECIALTY B</td>\n",
       "      <td>LA</td>\n",
       "      <td>7-Feb-06</td>\n",
       "      <td>2006</td>\n",
       "      <td>60</td>\n",
       "      <td>3</td>\n",
       "      <td>...</td>\n",
       "      <td>False</td>\n",
       "      <td>False</td>\n",
       "      <td>False</td>\n",
       "      <td>False</td>\n",
       "      <td>True</td>\n",
       "      <td>False</td>\n",
       "      <td>False</td>\n",
       "      <td>False</td>\n",
       "      <td>False</td>\n",
       "      <td>False</td>\n",
       "    </tr>\n",
       "  </tbody>\n",
       "</table>\n",
       "<p>5 rows × 46 columns</p>\n",
       "</div>"
      ],
      "text/plain": [
       "                          Name         City State    Zip  \\\n",
       "0                       CARVEL         APEX    NC  27502   \n",
       "1                       SUBWAY  LITTLE ROCK    AR  72223   \n",
       "2          WEYLAND CORPORATION    CAMARILLO    CA  93010   \n",
       "3  CHICAGO BRICK UNLIMITED INC        MIAMI    FL  33186   \n",
       "4                    RZI, INC.  NEW ORLEANS    LA  70130   \n",
       "\n",
       "                             Bank BankState ApprovalDate  ApprovalFY  Term  \\\n",
       "0           STEARNS BK NATL ASSOC        MN     7-Feb-06        2006   162   \n",
       "1                        HOPE FCU        MS     7-Feb-06        2006   126   \n",
       "2     WELLS FARGO BANK NATL ASSOC        SD     7-Feb-06        2006    83   \n",
       "3                  CITIBANK, N.A.        FL     7-Feb-06        2006    84   \n",
       "4  BUSINESS RES. CAP. SPECIALTY B        LA     7-Feb-06        2006    60   \n",
       "\n",
       "   NoEmp  ...  Sector_Mining  Sector_Other Services  \\\n",
       "0      2  ...          False                  False   \n",
       "1      7  ...          False                  False   \n",
       "2     18  ...          False                  False   \n",
       "3      4  ...          False                  False   \n",
       "4      3  ...          False                  False   \n",
       "\n",
       "   Sector_Professional Services Sector_Public Admin  Sector_Real Estate  \\\n",
       "0                         False               False               False   \n",
       "1                         False               False               False   \n",
       "2                         False               False               False   \n",
       "3                         False               False               False   \n",
       "4                         False               False                True   \n",
       "\n",
       "  Sector_Retail Trade  Sector_Transportation  Sector_Unknown  \\\n",
       "0                True                  False           False   \n",
       "1               False                  False           False   \n",
       "2               False                  False           False   \n",
       "3               False                  False           False   \n",
       "4               False                  False           False   \n",
       "\n",
       "   Sector_Utilities  Sector_Wholesale Trade  \n",
       "0             False                   False  \n",
       "1             False                   False  \n",
       "2             False                   False  \n",
       "3             False                   False  \n",
       "4             False                   False  \n",
       "\n",
       "[5 rows x 46 columns]"
      ]
     },
     "execution_count": 2,
     "metadata": {},
     "output_type": "execute_result"
    }
   ],
   "source": [
    "#read pre-processed data \n",
    "df = pd.read_csv(r\"C:\\Users\\Ochieng' Oginga\\Documents\\Post_S\\Spring_2025\\Data_Science_II\\Project\\Data\\Oginga_Stage4.csv\")\n",
    "\n",
    "#show head \n",
    "df.head()"
   ]
  },
  {
   "cell_type": "markdown",
   "id": "f4eada78-1338-44d4-8a0c-bc02ccf0034e",
   "metadata": {},
   "source": [
    "### size check "
   ]
  },
  {
   "cell_type": "code",
   "execution_count": 3,
   "id": "10353708-bfbb-43b4-88c3-5414f72ff353",
   "metadata": {},
   "outputs": [
    {
     "data": {
      "text/plain": [
       "(572333, 46)"
      ]
     },
     "execution_count": 3,
     "metadata": {},
     "output_type": "execute_result"
    }
   ],
   "source": [
    "df.shape"
   ]
  },
  {
   "cell_type": "markdown",
   "id": "131d869b-87ab-4d5f-a6ba-643389616c49",
   "metadata": {},
   "source": [
    "### Descriptives "
   ]
  },
  {
   "cell_type": "markdown",
   "id": "87510580-7668-4da3-b93d-e616a4bad777",
   "metadata": {},
   "source": [
    "a) Numeric descriptive statistics"
   ]
  },
  {
   "cell_type": "code",
   "execution_count": 28,
   "id": "cc0892b7-2c60-4b7a-a018-bef5981c0b8d",
   "metadata": {},
   "outputs": [
    {
     "data": {
      "text/html": [
       "<div>\n",
       "<style scoped>\n",
       "    .dataframe tbody tr th:only-of-type {\n",
       "        vertical-align: middle;\n",
       "    }\n",
       "\n",
       "    .dataframe tbody tr th {\n",
       "        vertical-align: top;\n",
       "    }\n",
       "\n",
       "    .dataframe thead th {\n",
       "        text-align: right;\n",
       "    }\n",
       "</style>\n",
       "<table border=\"1\" class=\"dataframe\">\n",
       "  <thead>\n",
       "    <tr style=\"text-align: right;\">\n",
       "      <th></th>\n",
       "      <th>Name</th>\n",
       "      <th>City</th>\n",
       "      <th>State</th>\n",
       "      <th>Zip</th>\n",
       "      <th>Bank</th>\n",
       "      <th>BankState</th>\n",
       "      <th>ApprovalDate</th>\n",
       "      <th>ApprovalFY</th>\n",
       "      <th>Term</th>\n",
       "      <th>NoEmp</th>\n",
       "      <th>...</th>\n",
       "      <th>Sector_Mining</th>\n",
       "      <th>Sector_Other Services</th>\n",
       "      <th>Sector_Professional Services</th>\n",
       "      <th>Sector_Public Admin</th>\n",
       "      <th>Sector_Real Estate</th>\n",
       "      <th>Sector_Retail Trade</th>\n",
       "      <th>Sector_Transportation</th>\n",
       "      <th>Sector_Unknown</th>\n",
       "      <th>Sector_Utilities</th>\n",
       "      <th>Sector_Wholesale Trade</th>\n",
       "    </tr>\n",
       "  </thead>\n",
       "  <tbody>\n",
       "    <tr>\n",
       "      <th>count</th>\n",
       "      <td>572333</td>\n",
       "      <td>572333</td>\n",
       "      <td>572333</td>\n",
       "      <td>572333.000000</td>\n",
       "      <td>572333</td>\n",
       "      <td>572333</td>\n",
       "      <td>572333</td>\n",
       "      <td>572333.000000</td>\n",
       "      <td>572333.000000</td>\n",
       "      <td>572333.000000</td>\n",
       "      <td>...</td>\n",
       "      <td>572333</td>\n",
       "      <td>572333</td>\n",
       "      <td>572333</td>\n",
       "      <td>572333</td>\n",
       "      <td>572333</td>\n",
       "      <td>572333</td>\n",
       "      <td>572333</td>\n",
       "      <td>572333</td>\n",
       "      <td>572333</td>\n",
       "      <td>572333</td>\n",
       "    </tr>\n",
       "    <tr>\n",
       "      <th>unique</th>\n",
       "      <td>503960</td>\n",
       "      <td>26389</td>\n",
       "      <td>51</td>\n",
       "      <td>NaN</td>\n",
       "      <td>4599</td>\n",
       "      <td>55</td>\n",
       "      <td>4907</td>\n",
       "      <td>NaN</td>\n",
       "      <td>NaN</td>\n",
       "      <td>NaN</td>\n",
       "      <td>...</td>\n",
       "      <td>2</td>\n",
       "      <td>2</td>\n",
       "      <td>2</td>\n",
       "      <td>2</td>\n",
       "      <td>2</td>\n",
       "      <td>2</td>\n",
       "      <td>2</td>\n",
       "      <td>2</td>\n",
       "      <td>2</td>\n",
       "      <td>2</td>\n",
       "    </tr>\n",
       "    <tr>\n",
       "      <th>top</th>\n",
       "      <td>SUBWAY</td>\n",
       "      <td>LOS ANGELES</td>\n",
       "      <td>CA</td>\n",
       "      <td>NaN</td>\n",
       "      <td>BANK OF AMERICA NATL ASSOC</td>\n",
       "      <td>CA</td>\n",
       "      <td>30-Jan-04</td>\n",
       "      <td>NaN</td>\n",
       "      <td>NaN</td>\n",
       "      <td>NaN</td>\n",
       "      <td>...</td>\n",
       "      <td>False</td>\n",
       "      <td>False</td>\n",
       "      <td>False</td>\n",
       "      <td>False</td>\n",
       "      <td>False</td>\n",
       "      <td>False</td>\n",
       "      <td>False</td>\n",
       "      <td>False</td>\n",
       "      <td>False</td>\n",
       "      <td>False</td>\n",
       "    </tr>\n",
       "    <tr>\n",
       "      <th>freq</th>\n",
       "      <td>937</td>\n",
       "      <td>8412</td>\n",
       "      <td>82707</td>\n",
       "      <td>NaN</td>\n",
       "      <td>68797</td>\n",
       "      <td>78333</td>\n",
       "      <td>981</td>\n",
       "      <td>NaN</td>\n",
       "      <td>NaN</td>\n",
       "      <td>NaN</td>\n",
       "      <td>...</td>\n",
       "      <td>571156</td>\n",
       "      <td>518318</td>\n",
       "      <td>517442</td>\n",
       "      <td>572235</td>\n",
       "      <td>560509</td>\n",
       "      <td>474753</td>\n",
       "      <td>551563</td>\n",
       "      <td>549492</td>\n",
       "      <td>571880</td>\n",
       "      <td>537222</td>\n",
       "    </tr>\n",
       "    <tr>\n",
       "      <th>mean</th>\n",
       "      <td>NaN</td>\n",
       "      <td>NaN</td>\n",
       "      <td>NaN</td>\n",
       "      <td>52526.476848</td>\n",
       "      <td>NaN</td>\n",
       "      <td>NaN</td>\n",
       "      <td>NaN</td>\n",
       "      <td>2004.824689</td>\n",
       "      <td>96.625847</td>\n",
       "      <td>8.801560</td>\n",
       "      <td>...</td>\n",
       "      <td>NaN</td>\n",
       "      <td>NaN</td>\n",
       "      <td>NaN</td>\n",
       "      <td>NaN</td>\n",
       "      <td>NaN</td>\n",
       "      <td>NaN</td>\n",
       "      <td>NaN</td>\n",
       "      <td>NaN</td>\n",
       "      <td>NaN</td>\n",
       "      <td>NaN</td>\n",
       "    </tr>\n",
       "    <tr>\n",
       "      <th>std</th>\n",
       "      <td>NaN</td>\n",
       "      <td>NaN</td>\n",
       "      <td>NaN</td>\n",
       "      <td>31533.588428</td>\n",
       "      <td>NaN</td>\n",
       "      <td>NaN</td>\n",
       "      <td>NaN</td>\n",
       "      <td>2.982871</td>\n",
       "      <td>70.744067</td>\n",
       "      <td>43.751445</td>\n",
       "      <td>...</td>\n",
       "      <td>NaN</td>\n",
       "      <td>NaN</td>\n",
       "      <td>NaN</td>\n",
       "      <td>NaN</td>\n",
       "      <td>NaN</td>\n",
       "      <td>NaN</td>\n",
       "      <td>NaN</td>\n",
       "      <td>NaN</td>\n",
       "      <td>NaN</td>\n",
       "      <td>NaN</td>\n",
       "    </tr>\n",
       "    <tr>\n",
       "      <th>min</th>\n",
       "      <td>NaN</td>\n",
       "      <td>NaN</td>\n",
       "      <td>NaN</td>\n",
       "      <td>0.000000</td>\n",
       "      <td>NaN</td>\n",
       "      <td>NaN</td>\n",
       "      <td>NaN</td>\n",
       "      <td>1994.000000</td>\n",
       "      <td>0.000000</td>\n",
       "      <td>0.000000</td>\n",
       "      <td>...</td>\n",
       "      <td>NaN</td>\n",
       "      <td>NaN</td>\n",
       "      <td>NaN</td>\n",
       "      <td>NaN</td>\n",
       "      <td>NaN</td>\n",
       "      <td>NaN</td>\n",
       "      <td>NaN</td>\n",
       "      <td>NaN</td>\n",
       "      <td>NaN</td>\n",
       "      <td>NaN</td>\n",
       "    </tr>\n",
       "    <tr>\n",
       "      <th>25%</th>\n",
       "      <td>NaN</td>\n",
       "      <td>NaN</td>\n",
       "      <td>NaN</td>\n",
       "      <td>22480.000000</td>\n",
       "      <td>NaN</td>\n",
       "      <td>NaN</td>\n",
       "      <td>NaN</td>\n",
       "      <td>2003.000000</td>\n",
       "      <td>60.000000</td>\n",
       "      <td>2.000000</td>\n",
       "      <td>...</td>\n",
       "      <td>NaN</td>\n",
       "      <td>NaN</td>\n",
       "      <td>NaN</td>\n",
       "      <td>NaN</td>\n",
       "      <td>NaN</td>\n",
       "      <td>NaN</td>\n",
       "      <td>NaN</td>\n",
       "      <td>NaN</td>\n",
       "      <td>NaN</td>\n",
       "      <td>NaN</td>\n",
       "    </tr>\n",
       "    <tr>\n",
       "      <th>50%</th>\n",
       "      <td>NaN</td>\n",
       "      <td>NaN</td>\n",
       "      <td>NaN</td>\n",
       "      <td>54112.000000</td>\n",
       "      <td>NaN</td>\n",
       "      <td>NaN</td>\n",
       "      <td>NaN</td>\n",
       "      <td>2005.000000</td>\n",
       "      <td>84.000000</td>\n",
       "      <td>4.000000</td>\n",
       "      <td>...</td>\n",
       "      <td>NaN</td>\n",
       "      <td>NaN</td>\n",
       "      <td>NaN</td>\n",
       "      <td>NaN</td>\n",
       "      <td>NaN</td>\n",
       "      <td>NaN</td>\n",
       "      <td>NaN</td>\n",
       "      <td>NaN</td>\n",
       "      <td>NaN</td>\n",
       "      <td>NaN</td>\n",
       "    </tr>\n",
       "    <tr>\n",
       "      <th>75%</th>\n",
       "      <td>NaN</td>\n",
       "      <td>NaN</td>\n",
       "      <td>NaN</td>\n",
       "      <td>83713.000000</td>\n",
       "      <td>NaN</td>\n",
       "      <td>NaN</td>\n",
       "      <td>NaN</td>\n",
       "      <td>2007.000000</td>\n",
       "      <td>102.000000</td>\n",
       "      <td>8.000000</td>\n",
       "      <td>...</td>\n",
       "      <td>NaN</td>\n",
       "      <td>NaN</td>\n",
       "      <td>NaN</td>\n",
       "      <td>NaN</td>\n",
       "      <td>NaN</td>\n",
       "      <td>NaN</td>\n",
       "      <td>NaN</td>\n",
       "      <td>NaN</td>\n",
       "      <td>NaN</td>\n",
       "      <td>NaN</td>\n",
       "    </tr>\n",
       "    <tr>\n",
       "      <th>max</th>\n",
       "      <td>NaN</td>\n",
       "      <td>NaN</td>\n",
       "      <td>NaN</td>\n",
       "      <td>99999.000000</td>\n",
       "      <td>NaN</td>\n",
       "      <td>NaN</td>\n",
       "      <td>NaN</td>\n",
       "      <td>2014.000000</td>\n",
       "      <td>569.000000</td>\n",
       "      <td>8000.000000</td>\n",
       "      <td>...</td>\n",
       "      <td>NaN</td>\n",
       "      <td>NaN</td>\n",
       "      <td>NaN</td>\n",
       "      <td>NaN</td>\n",
       "      <td>NaN</td>\n",
       "      <td>NaN</td>\n",
       "      <td>NaN</td>\n",
       "      <td>NaN</td>\n",
       "      <td>NaN</td>\n",
       "      <td>NaN</td>\n",
       "    </tr>\n",
       "  </tbody>\n",
       "</table>\n",
       "<p>11 rows × 46 columns</p>\n",
       "</div>"
      ],
      "text/plain": [
       "          Name         City   State            Zip  \\\n",
       "count   572333       572333  572333  572333.000000   \n",
       "unique  503960        26389      51            NaN   \n",
       "top     SUBWAY  LOS ANGELES      CA            NaN   \n",
       "freq       937         8412   82707            NaN   \n",
       "mean       NaN          NaN     NaN   52526.476848   \n",
       "std        NaN          NaN     NaN   31533.588428   \n",
       "min        NaN          NaN     NaN       0.000000   \n",
       "25%        NaN          NaN     NaN   22480.000000   \n",
       "50%        NaN          NaN     NaN   54112.000000   \n",
       "75%        NaN          NaN     NaN   83713.000000   \n",
       "max        NaN          NaN     NaN   99999.000000   \n",
       "\n",
       "                              Bank BankState ApprovalDate     ApprovalFY  \\\n",
       "count                       572333    572333       572333  572333.000000   \n",
       "unique                        4599        55         4907            NaN   \n",
       "top     BANK OF AMERICA NATL ASSOC        CA    30-Jan-04            NaN   \n",
       "freq                         68797     78333          981            NaN   \n",
       "mean                           NaN       NaN          NaN    2004.824689   \n",
       "std                            NaN       NaN          NaN       2.982871   \n",
       "min                            NaN       NaN          NaN    1994.000000   \n",
       "25%                            NaN       NaN          NaN    2003.000000   \n",
       "50%                            NaN       NaN          NaN    2005.000000   \n",
       "75%                            NaN       NaN          NaN    2007.000000   \n",
       "max                            NaN       NaN          NaN    2014.000000   \n",
       "\n",
       "                 Term          NoEmp  ...  Sector_Mining  \\\n",
       "count   572333.000000  572333.000000  ...         572333   \n",
       "unique            NaN            NaN  ...              2   \n",
       "top               NaN            NaN  ...          False   \n",
       "freq              NaN            NaN  ...         571156   \n",
       "mean        96.625847       8.801560  ...            NaN   \n",
       "std         70.744067      43.751445  ...            NaN   \n",
       "min          0.000000       0.000000  ...            NaN   \n",
       "25%         60.000000       2.000000  ...            NaN   \n",
       "50%         84.000000       4.000000  ...            NaN   \n",
       "75%        102.000000       8.000000  ...            NaN   \n",
       "max        569.000000    8000.000000  ...            NaN   \n",
       "\n",
       "        Sector_Other Services  Sector_Professional Services  \\\n",
       "count                  572333                        572333   \n",
       "unique                      2                             2   \n",
       "top                     False                         False   \n",
       "freq                   518318                        517442   \n",
       "mean                      NaN                           NaN   \n",
       "std                       NaN                           NaN   \n",
       "min                       NaN                           NaN   \n",
       "25%                       NaN                           NaN   \n",
       "50%                       NaN                           NaN   \n",
       "75%                       NaN                           NaN   \n",
       "max                       NaN                           NaN   \n",
       "\n",
       "       Sector_Public Admin  Sector_Real Estate Sector_Retail Trade  \\\n",
       "count               572333              572333              572333   \n",
       "unique                   2                   2                   2   \n",
       "top                  False               False               False   \n",
       "freq                572235              560509              474753   \n",
       "mean                   NaN                 NaN                 NaN   \n",
       "std                    NaN                 NaN                 NaN   \n",
       "min                    NaN                 NaN                 NaN   \n",
       "25%                    NaN                 NaN                 NaN   \n",
       "50%                    NaN                 NaN                 NaN   \n",
       "75%                    NaN                 NaN                 NaN   \n",
       "max                    NaN                 NaN                 NaN   \n",
       "\n",
       "        Sector_Transportation  Sector_Unknown  Sector_Utilities  \\\n",
       "count                  572333          572333            572333   \n",
       "unique                      2               2                 2   \n",
       "top                     False           False             False   \n",
       "freq                   551563          549492            571880   \n",
       "mean                      NaN             NaN               NaN   \n",
       "std                       NaN             NaN               NaN   \n",
       "min                       NaN             NaN               NaN   \n",
       "25%                       NaN             NaN               NaN   \n",
       "50%                       NaN             NaN               NaN   \n",
       "75%                       NaN             NaN               NaN   \n",
       "max                       NaN             NaN               NaN   \n",
       "\n",
       "        Sector_Wholesale Trade  \n",
       "count                   572333  \n",
       "unique                       2  \n",
       "top                      False  \n",
       "freq                    537222  \n",
       "mean                       NaN  \n",
       "std                        NaN  \n",
       "min                        NaN  \n",
       "25%                        NaN  \n",
       "50%                        NaN  \n",
       "75%                        NaN  \n",
       "max                        NaN  \n",
       "\n",
       "[11 rows x 46 columns]"
      ]
     },
     "execution_count": 28,
     "metadata": {},
     "output_type": "execute_result"
    }
   ],
   "source": [
    "#get description of the data \n",
    "df.describe(include='all')\n"
   ]
  },
  {
   "cell_type": "markdown",
   "id": "b47566df-0314-412f-b149-00453731ccd1",
   "metadata": {},
   "source": [
    "i. Summary of numeric variables "
   ]
  },
  {
   "cell_type": "code",
   "execution_count": 29,
   "id": "d11acdcd-0d0d-49d9-8454-087b04b77fb7",
   "metadata": {},
   "outputs": [
    {
     "data": {
      "text/html": [
       "<div>\n",
       "<style scoped>\n",
       "    .dataframe tbody tr th:only-of-type {\n",
       "        vertical-align: middle;\n",
       "    }\n",
       "\n",
       "    .dataframe tbody tr th {\n",
       "        vertical-align: top;\n",
       "    }\n",
       "\n",
       "    .dataframe thead th {\n",
       "        text-align: right;\n",
       "    }\n",
       "</style>\n",
       "<table border=\"1\" class=\"dataframe\">\n",
       "  <thead>\n",
       "    <tr style=\"text-align: right;\">\n",
       "      <th></th>\n",
       "      <th>Zip</th>\n",
       "      <th>ApprovalFY</th>\n",
       "      <th>Term</th>\n",
       "      <th>NoEmp</th>\n",
       "      <th>NewExist</th>\n",
       "      <th>CreateJob</th>\n",
       "      <th>RetainedJob</th>\n",
       "      <th>DisbursementGross</th>\n",
       "      <th>ChgOffPrinGr</th>\n",
       "      <th>GrAppv</th>\n",
       "      <th>SBA_Appv</th>\n",
       "      <th>ChgOffDate_binary</th>\n",
       "      <th>UrbanRural_binary</th>\n",
       "      <th>MIS_Status_Binary</th>\n",
       "      <th>IsFranchise</th>\n",
       "      <th>LowDoc_binary</th>\n",
       "      <th>RevLineCr_binary</th>\n",
       "    </tr>\n",
       "  </thead>\n",
       "  <tbody>\n",
       "    <tr>\n",
       "      <th>count</th>\n",
       "      <td>572333.000000</td>\n",
       "      <td>572333.000000</td>\n",
       "      <td>572333.000000</td>\n",
       "      <td>572333.000000</td>\n",
       "      <td>572333.000000</td>\n",
       "      <td>572333.000000</td>\n",
       "      <td>572333.000000</td>\n",
       "      <td>5.723330e+05</td>\n",
       "      <td>5.723330e+05</td>\n",
       "      <td>5.723330e+05</td>\n",
       "      <td>5.723330e+05</td>\n",
       "      <td>572333.000000</td>\n",
       "      <td>572333.000000</td>\n",
       "      <td>572333.000000</td>\n",
       "      <td>572333.000000</td>\n",
       "      <td>572333.000000</td>\n",
       "      <td>572333.000000</td>\n",
       "    </tr>\n",
       "    <tr>\n",
       "      <th>mean</th>\n",
       "      <td>52526.476848</td>\n",
       "      <td>2004.824689</td>\n",
       "      <td>96.625847</td>\n",
       "      <td>8.801560</td>\n",
       "      <td>1.285879</td>\n",
       "      <td>2.424426</td>\n",
       "      <td>5.958591</td>\n",
       "      <td>1.928716e+05</td>\n",
       "      <td>1.702337e+04</td>\n",
       "      <td>1.785447e+05</td>\n",
       "      <td>1.352192e+05</td>\n",
       "      <td>0.241809</td>\n",
       "      <td>0.183114</td>\n",
       "      <td>0.765161</td>\n",
       "      <td>0.055803</td>\n",
       "      <td>0.074114</td>\n",
       "      <td>0.334014</td>\n",
       "    </tr>\n",
       "    <tr>\n",
       "      <th>std</th>\n",
       "      <td>31533.588428</td>\n",
       "      <td>2.982871</td>\n",
       "      <td>70.744067</td>\n",
       "      <td>43.751445</td>\n",
       "      <td>0.453835</td>\n",
       "      <td>13.775755</td>\n",
       "      <td>24.015743</td>\n",
       "      <td>3.094678e+05</td>\n",
       "      <td>7.365140e+04</td>\n",
       "      <td>3.027037e+05</td>\n",
       "      <td>2.487573e+05</td>\n",
       "      <td>0.428179</td>\n",
       "      <td>0.386760</td>\n",
       "      <td>0.423898</td>\n",
       "      <td>0.229541</td>\n",
       "      <td>0.261957</td>\n",
       "      <td>0.471645</td>\n",
       "    </tr>\n",
       "    <tr>\n",
       "      <th>min</th>\n",
       "      <td>0.000000</td>\n",
       "      <td>1994.000000</td>\n",
       "      <td>0.000000</td>\n",
       "      <td>0.000000</td>\n",
       "      <td>0.000000</td>\n",
       "      <td>0.000000</td>\n",
       "      <td>0.000000</td>\n",
       "      <td>4.000000e+03</td>\n",
       "      <td>0.000000e+00</td>\n",
       "      <td>1.000000e+03</td>\n",
       "      <td>5.000000e+02</td>\n",
       "      <td>0.000000</td>\n",
       "      <td>0.000000</td>\n",
       "      <td>0.000000</td>\n",
       "      <td>0.000000</td>\n",
       "      <td>0.000000</td>\n",
       "      <td>0.000000</td>\n",
       "    </tr>\n",
       "    <tr>\n",
       "      <th>25%</th>\n",
       "      <td>22480.000000</td>\n",
       "      <td>2003.000000</td>\n",
       "      <td>60.000000</td>\n",
       "      <td>2.000000</td>\n",
       "      <td>1.000000</td>\n",
       "      <td>0.000000</td>\n",
       "      <td>0.000000</td>\n",
       "      <td>3.500000e+04</td>\n",
       "      <td>0.000000e+00</td>\n",
       "      <td>2.500000e+04</td>\n",
       "      <td>1.300000e+04</td>\n",
       "      <td>0.000000</td>\n",
       "      <td>0.000000</td>\n",
       "      <td>1.000000</td>\n",
       "      <td>0.000000</td>\n",
       "      <td>0.000000</td>\n",
       "      <td>0.000000</td>\n",
       "    </tr>\n",
       "    <tr>\n",
       "      <th>50%</th>\n",
       "      <td>54112.000000</td>\n",
       "      <td>2005.000000</td>\n",
       "      <td>84.000000</td>\n",
       "      <td>4.000000</td>\n",
       "      <td>1.000000</td>\n",
       "      <td>0.000000</td>\n",
       "      <td>2.000000</td>\n",
       "      <td>8.000000e+04</td>\n",
       "      <td>0.000000e+00</td>\n",
       "      <td>6.000000e+04</td>\n",
       "      <td>3.750000e+04</td>\n",
       "      <td>0.000000</td>\n",
       "      <td>0.000000</td>\n",
       "      <td>1.000000</td>\n",
       "      <td>0.000000</td>\n",
       "      <td>0.000000</td>\n",
       "      <td>0.000000</td>\n",
       "    </tr>\n",
       "    <tr>\n",
       "      <th>75%</th>\n",
       "      <td>83713.000000</td>\n",
       "      <td>2007.000000</td>\n",
       "      <td>102.000000</td>\n",
       "      <td>8.000000</td>\n",
       "      <td>2.000000</td>\n",
       "      <td>2.000000</td>\n",
       "      <td>6.000000</td>\n",
       "      <td>2.000000e+05</td>\n",
       "      <td>0.000000e+00</td>\n",
       "      <td>1.800000e+05</td>\n",
       "      <td>1.275000e+05</td>\n",
       "      <td>0.000000</td>\n",
       "      <td>0.000000</td>\n",
       "      <td>1.000000</td>\n",
       "      <td>0.000000</td>\n",
       "      <td>0.000000</td>\n",
       "      <td>1.000000</td>\n",
       "    </tr>\n",
       "    <tr>\n",
       "      <th>max</th>\n",
       "      <td>99999.000000</td>\n",
       "      <td>2014.000000</td>\n",
       "      <td>569.000000</td>\n",
       "      <td>8000.000000</td>\n",
       "      <td>2.000000</td>\n",
       "      <td>5085.000000</td>\n",
       "      <td>9500.000000</td>\n",
       "      <td>1.144632e+07</td>\n",
       "      <td>2.223766e+06</td>\n",
       "      <td>5.472000e+06</td>\n",
       "      <td>5.472000e+06</td>\n",
       "      <td>1.000000</td>\n",
       "      <td>1.000000</td>\n",
       "      <td>1.000000</td>\n",
       "      <td>1.000000</td>\n",
       "      <td>1.000000</td>\n",
       "      <td>1.000000</td>\n",
       "    </tr>\n",
       "  </tbody>\n",
       "</table>\n",
       "</div>"
      ],
      "text/plain": [
       "                 Zip     ApprovalFY           Term          NoEmp  \\\n",
       "count  572333.000000  572333.000000  572333.000000  572333.000000   \n",
       "mean    52526.476848    2004.824689      96.625847       8.801560   \n",
       "std     31533.588428       2.982871      70.744067      43.751445   \n",
       "min         0.000000    1994.000000       0.000000       0.000000   \n",
       "25%     22480.000000    2003.000000      60.000000       2.000000   \n",
       "50%     54112.000000    2005.000000      84.000000       4.000000   \n",
       "75%     83713.000000    2007.000000     102.000000       8.000000   \n",
       "max     99999.000000    2014.000000     569.000000    8000.000000   \n",
       "\n",
       "            NewExist      CreateJob    RetainedJob  DisbursementGross  \\\n",
       "count  572333.000000  572333.000000  572333.000000       5.723330e+05   \n",
       "mean        1.285879       2.424426       5.958591       1.928716e+05   \n",
       "std         0.453835      13.775755      24.015743       3.094678e+05   \n",
       "min         0.000000       0.000000       0.000000       4.000000e+03   \n",
       "25%         1.000000       0.000000       0.000000       3.500000e+04   \n",
       "50%         1.000000       0.000000       2.000000       8.000000e+04   \n",
       "75%         2.000000       2.000000       6.000000       2.000000e+05   \n",
       "max         2.000000    5085.000000    9500.000000       1.144632e+07   \n",
       "\n",
       "       ChgOffPrinGr        GrAppv      SBA_Appv  ChgOffDate_binary  \\\n",
       "count  5.723330e+05  5.723330e+05  5.723330e+05      572333.000000   \n",
       "mean   1.702337e+04  1.785447e+05  1.352192e+05           0.241809   \n",
       "std    7.365140e+04  3.027037e+05  2.487573e+05           0.428179   \n",
       "min    0.000000e+00  1.000000e+03  5.000000e+02           0.000000   \n",
       "25%    0.000000e+00  2.500000e+04  1.300000e+04           0.000000   \n",
       "50%    0.000000e+00  6.000000e+04  3.750000e+04           0.000000   \n",
       "75%    0.000000e+00  1.800000e+05  1.275000e+05           0.000000   \n",
       "max    2.223766e+06  5.472000e+06  5.472000e+06           1.000000   \n",
       "\n",
       "       UrbanRural_binary  MIS_Status_Binary    IsFranchise  LowDoc_binary  \\\n",
       "count      572333.000000      572333.000000  572333.000000  572333.000000   \n",
       "mean            0.183114           0.765161       0.055803       0.074114   \n",
       "std             0.386760           0.423898       0.229541       0.261957   \n",
       "min             0.000000           0.000000       0.000000       0.000000   \n",
       "25%             0.000000           1.000000       0.000000       0.000000   \n",
       "50%             0.000000           1.000000       0.000000       0.000000   \n",
       "75%             0.000000           1.000000       0.000000       0.000000   \n",
       "max             1.000000           1.000000       1.000000       1.000000   \n",
       "\n",
       "       RevLineCr_binary  \n",
       "count     572333.000000  \n",
       "mean           0.334014  \n",
       "std            0.471645  \n",
       "min            0.000000  \n",
       "25%            0.000000  \n",
       "50%            0.000000  \n",
       "75%            1.000000  \n",
       "max            1.000000  "
      ]
     },
     "execution_count": 29,
     "metadata": {},
     "output_type": "execute_result"
    }
   ],
   "source": [
    "#get summary of the numeric variables \n",
    "df.describe()"
   ]
  },
  {
   "cell_type": "markdown",
   "id": "0055d176-472a-41e9-8d34-4817ad5483f1",
   "metadata": {},
   "source": [
    "ii. Summary for categorical variables "
   ]
  },
  {
   "cell_type": "code",
   "execution_count": 30,
   "id": "750cb890-c4e6-4ecf-ab4a-a1a376229730",
   "metadata": {},
   "outputs": [
    {
     "data": {
      "text/html": [
       "<div>\n",
       "<style scoped>\n",
       "    .dataframe tbody tr th:only-of-type {\n",
       "        vertical-align: middle;\n",
       "    }\n",
       "\n",
       "    .dataframe tbody tr th {\n",
       "        vertical-align: top;\n",
       "    }\n",
       "\n",
       "    .dataframe thead th {\n",
       "        text-align: right;\n",
       "    }\n",
       "</style>\n",
       "<table border=\"1\" class=\"dataframe\">\n",
       "  <thead>\n",
       "    <tr style=\"text-align: right;\">\n",
       "      <th></th>\n",
       "      <th>Name</th>\n",
       "      <th>City</th>\n",
       "      <th>State</th>\n",
       "      <th>Bank</th>\n",
       "      <th>BankState</th>\n",
       "      <th>ApprovalDate</th>\n",
       "      <th>DisbursementDate</th>\n",
       "      <th>BalanceGross</th>\n",
       "    </tr>\n",
       "  </thead>\n",
       "  <tbody>\n",
       "    <tr>\n",
       "      <th>count</th>\n",
       "      <td>572333</td>\n",
       "      <td>572333</td>\n",
       "      <td>572333</td>\n",
       "      <td>572333</td>\n",
       "      <td>572333</td>\n",
       "      <td>572333</td>\n",
       "      <td>572333</td>\n",
       "      <td>572333</td>\n",
       "    </tr>\n",
       "    <tr>\n",
       "      <th>unique</th>\n",
       "      <td>503960</td>\n",
       "      <td>26389</td>\n",
       "      <td>51</td>\n",
       "      <td>4599</td>\n",
       "      <td>55</td>\n",
       "      <td>4907</td>\n",
       "      <td>2851</td>\n",
       "      <td>14</td>\n",
       "    </tr>\n",
       "    <tr>\n",
       "      <th>top</th>\n",
       "      <td>SUBWAY</td>\n",
       "      <td>LOS ANGELES</td>\n",
       "      <td>CA</td>\n",
       "      <td>BANK OF AMERICA NATL ASSOC</td>\n",
       "      <td>CA</td>\n",
       "      <td>30-Jan-04</td>\n",
       "      <td>31-Mar-06</td>\n",
       "      <td>$0.00</td>\n",
       "    </tr>\n",
       "    <tr>\n",
       "      <th>freq</th>\n",
       "      <td>937</td>\n",
       "      <td>8412</td>\n",
       "      <td>82707</td>\n",
       "      <td>68797</td>\n",
       "      <td>78333</td>\n",
       "      <td>981</td>\n",
       "      <td>6938</td>\n",
       "      <td>572320</td>\n",
       "    </tr>\n",
       "  </tbody>\n",
       "</table>\n",
       "</div>"
      ],
      "text/plain": [
       "          Name         City   State                        Bank BankState  \\\n",
       "count   572333       572333  572333                      572333    572333   \n",
       "unique  503960        26389      51                        4599        55   \n",
       "top     SUBWAY  LOS ANGELES      CA  BANK OF AMERICA NATL ASSOC        CA   \n",
       "freq       937         8412   82707                       68797     78333   \n",
       "\n",
       "       ApprovalDate DisbursementDate BalanceGross  \n",
       "count        572333           572333       572333  \n",
       "unique         4907             2851           14  \n",
       "top       30-Jan-04        31-Mar-06       $0.00   \n",
       "freq            981             6938       572320  "
      ]
     },
     "execution_count": 30,
     "metadata": {},
     "output_type": "execute_result"
    }
   ],
   "source": [
    "#summary of categorical variables \n",
    "df.describe(include=[object])"
   ]
  },
  {
   "cell_type": "markdown",
   "id": "b5b06596-b02b-485c-946a-bce77af79ffc",
   "metadata": {},
   "source": [
    "b. Graphical descriptions"
   ]
  },
  {
   "cell_type": "markdown",
   "id": "177f8ffe-7bcc-4e21-bbc6-443940f38998",
   "metadata": {},
   "source": [
    "i) Histogram for numeric values \n"
   ]
  },
  {
   "cell_type": "code",
   "execution_count": 6,
   "id": "cf8028c4-7d5e-4afe-84b3-c93d1b01d406",
   "metadata": {},
   "outputs": [
    {
     "data": {
      "text/plain": [
       "array([[<Axes: title={'center': 'Zip'}>,\n",
       "        <Axes: title={'center': 'ApprovalFY'}>,\n",
       "        <Axes: title={'center': 'Term'}>,\n",
       "        <Axes: title={'center': 'NoEmp'}>],\n",
       "       [<Axes: title={'center': 'NewExist'}>,\n",
       "        <Axes: title={'center': 'CreateJob'}>,\n",
       "        <Axes: title={'center': 'RetainedJob'}>,\n",
       "        <Axes: title={'center': 'DisbursementGross'}>],\n",
       "       [<Axes: title={'center': 'ChgOffPrinGr'}>,\n",
       "        <Axes: title={'center': 'GrAppv'}>,\n",
       "        <Axes: title={'center': 'SBA_Appv'}>,\n",
       "        <Axes: title={'center': 'ChgOffDate_binary'}>],\n",
       "       [<Axes: title={'center': 'UrbanRural_binary'}>,\n",
       "        <Axes: title={'center': 'MIS_Status_Binary'}>,\n",
       "        <Axes: title={'center': 'IsFranchise'}>,\n",
       "        <Axes: title={'center': 'LowDoc_binary'}>],\n",
       "       [<Axes: title={'center': 'RevLineCr_binary'}>, <Axes: >, <Axes: >,\n",
       "        <Axes: >]], dtype=object)"
      ]
     },
     "execution_count": 6,
     "metadata": {},
     "output_type": "execute_result"
    },
    {
     "data": {
      "image/png": "[encoded data removed]",
      "text/plain": [
       "<Figure size 1200x1000 with 20 Axes>"
      ]
     },
     "metadata": {},
     "output_type": "display_data"
    }
   ],
   "source": [
    "#create a histogram for bumeric variables with bins of 20 \n",
    "df.hist(figsize=(12, 10), bins=20)"
   ]
  },
  {
   "cell_type": "markdown",
   "id": "d4cb10e6-d4b8-4954-b9b6-5c75e7461373",
   "metadata": {},
   "source": [
    "ii. Historgram of Loan approval by year"
   ]
  },
  {
   "cell_type": "code",
   "execution_count": 7,
   "id": "7e3a06b2-73c3-4bae-80c1-654c14a9ea21",
   "metadata": {},
   "outputs": [
    {
     "data": {
      "image/png": "[encoded data removed]",
      "text/plain": [
       "<Figure size 1000x500 with 1 Axes>"
      ]
     },
     "metadata": {},
     "output_type": "display_data"
    }
   ],
   "source": [
    " # Ensure ApprovalFY is numeric\n",
    "df['ApprovalFY'] = pd.to_numeric(df['ApprovalFY'], errors='coerce')\n",
    "\n",
    "# Drop any NaN values that might have been introduced during conversion\n",
    "df = df.dropna(subset=['ApprovalFY'])\n",
    "\n",
    "# Aggregate and plot\n",
    "df.groupby('ApprovalFY')['GrAppv'].sum().plot(kind='bar', figsize=(10, 5))\n",
    "\n",
    "plt.xlabel(\"Approval Fiscal Year\")\n",
    "plt.ylabel(\"Approved Gross ($)\")\n",
    "plt.title(\"Total Approved Gross by ApprovalFY\")\n",
    "plt.xticks(rotation=45)\n",
    "plt.show()"
   ]
  },
  {
   "cell_type": "markdown",
   "id": "ffb55f74-3358-4827-9b71-a4fdfe26f4bf",
   "metadata": {},
   "source": [
    "The peak of loan approval was 2005"
   ]
  },
  {
   "cell_type": "markdown",
   "id": "a3fe9751-b0d3-456e-b4fe-4156335a7364",
   "metadata": {},
   "source": [
    "iii. Histogram of loan disbursement by year"
   ]
  },
  {
   "cell_type": "code",
   "execution_count": 8,
   "id": "954e656f-548a-49df-b41e-824420ee47c5",
   "metadata": {},
   "outputs": [
    {
     "data": {
      "image/png": "[encoded data removed]",
      "text/plain": [
       "<Figure size 1000x500 with 1 Axes>"
      ]
     },
     "metadata": {},
     "output_type": "display_data"
    }
   ],
   "source": [
    "# Extract the last two digits (year) from DisbursementDate and convert to integer\n",
    "df['DisbursementYear'] = df['DisbursementDate'].str[-2:].astype(int)\n",
    "\n",
    "# Fix potential century issue: Convert 00-23 to 2000-2023, and 80-99 to 1980-1999\n",
    "df['DisbursementYear'] = df['DisbursementYear'].apply(lambda x: x + 2000 if x < 24 else x + 1900)\n",
    "\n",
    "# Aggregate total disbursement by year\n",
    "yearly_disbursement = df.groupby('DisbursementYear')['DisbursementGross'].sum()\n",
    "\n",
    "# Plot\n",
    "fig, ax = plt.subplots(figsize=(10, 5))\n",
    "yearly_disbursement.plot(kind='bar', ax=ax)\n",
    "\n",
    "# Formatting\n",
    "ax.set_xlabel(\"Disbursement Year\")\n",
    "ax.set_ylabel(\"Total Loan Disbursement ($)\")\n",
    "ax.set_title(\"Total Loan Disbursement by Year\")\n",
    "ax.yaxis.set_major_formatter(mtick.StrMethodFormatter('${x:,.0f}'))  # Format as dollars\n",
    "plt.xticks(rotation=45)\n",
    "\n",
    "plt.show()"
   ]
  },
  {
   "cell_type": "markdown",
   "id": "43a8811c-7603-4973-aa3e-c40e54f0d411",
   "metadata": {},
   "source": [
    "The peak of loan disbursement year was 2005 matching the year that had the highest loan approval "
   ]
  },
  {
   "cell_type": "markdown",
   "id": "7543d8e6-525f-4fed-a5b8-be4dd4593612",
   "metadata": {},
   "source": [
    "Box plots for outliers and distributions "
   ]
  },
  {
   "cell_type": "code",
   "execution_count": 9,
   "id": "40499d74-067d-4876-8cf7-3331b1fc8486",
   "metadata": {},
   "outputs": [
    {
     "data": {
      "image/png": "[encoded data removed]",
      "text/plain": [
       "<Figure size 1200x600 with 1 Axes>"
      ]
     },
     "metadata": {},
     "output_type": "display_data"
    }
   ],
   "source": [
    "#box plotting\n",
    "plt.figure(figsize=(12, 6))\n",
    "sns.boxplot(data=df.select_dtypes(include=['number']))\n",
    "plt.xticks(rotation=90)\n",
    "plt.show()\n"
   ]
  },
  {
   "cell_type": "markdown",
   "id": "7eb351b6-894d-4989-9acb-68baa96f691e",
   "metadata": {},
   "source": [
    "Disbursement gross has a six outliers, GrAppc and SBA_appv only have 1 each. The rest of the dataset has no noticeable outliers"
   ]
  },
  {
   "cell_type": "markdown",
   "id": "dacf8a26-a216-41b9-9059-84b8a11a4edf",
   "metadata": {},
   "source": [
    "Check current columns"
   ]
  },
  {
   "cell_type": "code",
   "execution_count": 10,
   "id": "052f12a4-8be6-45e3-983a-2fc5fc1084ae",
   "metadata": {},
   "outputs": [
    {
     "data": {
      "text/plain": [
       "Index(['Name', 'City', 'State', 'Zip', 'Bank', 'BankState', 'ApprovalDate',\n",
       "       'ApprovalFY', 'Term', 'NoEmp', 'NewExist', 'CreateJob', 'RetainedJob',\n",
       "       'DisbursementDate', 'DisbursementGross', 'BalanceGross', 'ChgOffPrinGr',\n",
       "       'GrAppv', 'SBA_Appv', 'ChgOffDate_binary', 'UrbanRural_binary',\n",
       "       'MIS_Status_Binary', 'IsFranchise', 'LowDoc_binary', 'RevLineCr_binary',\n",
       "       'Sector_Accommodation & Food', 'Sector_Admin & Waste Mgmt',\n",
       "       'Sector_Agriculture', 'Sector_Arts & Recreation', 'Sector_Construction',\n",
       "       'Sector_Education', 'Sector_Finance', 'Sector_Healthcare',\n",
       "       'Sector_Information', 'Sector_Management', 'Sector_Manufacturing',\n",
       "       'Sector_Mining', 'Sector_Other Services',\n",
       "       'Sector_Professional Services', 'Sector_Public Admin',\n",
       "       'Sector_Real Estate', 'Sector_Retail Trade', 'Sector_Transportation',\n",
       "       'Sector_Unknown', 'Sector_Utilities', 'Sector_Wholesale Trade',\n",
       "       'DisbursementYear'],\n",
       "      dtype='object')"
      ]
     },
     "execution_count": 10,
     "metadata": {},
     "output_type": "execute_result"
    }
   ],
   "source": [
    "#check columns \n",
    "df.columns"
   ]
  },
  {
   "cell_type": "markdown",
   "id": "c65b3592-bc09-4f5f-9f6e-780d9a1f82c0",
   "metadata": {},
   "source": [
    "### size check "
   ]
  },
  {
   "cell_type": "code",
   "execution_count": 4,
   "id": "d85981a1-9f4d-48f9-a2a9-ebce11d3bd19",
   "metadata": {},
   "outputs": [
    {
     "data": {
      "text/plain": [
       "(572333, 46)"
      ]
     },
     "execution_count": 4,
     "metadata": {},
     "output_type": "execute_result"
    }
   ],
   "source": [
    "\n",
    "\n",
    "df.shape"
   ]
  },
  {
   "cell_type": "markdown",
   "id": "eb4e5d56-2518-4718-86bb-041beb14bbc9",
   "metadata": {},
   "source": [
    "## 1. Continuous Variables "
   ]
  },
  {
   "cell_type": "markdown",
   "id": "babbe768-0d77-4cd5-932b-44f0aa7314af",
   "metadata": {},
   "source": [
    "### A. Predicting Gross Approved Loan (GrAppv) \n",
    "\n",
    "This section uses four models—Logistic Regression, Random Forest, XGBoost, and SVM—to predict the gross approved loan. The target variable is GRAppv."
   ]
  },
  {
   "cell_type": "markdown",
   "id": "68a98311-dc0f-4254-b101-3b23fd158340",
   "metadata": {},
   "source": [
    "i) Linear Regression"
   ]
  },
  {
   "cell_type": "code",
   "execution_count": 33,
   "id": "cc8a5977-bb2e-4b08-b590-0a4057c9db2f",
   "metadata": {},
   "outputs": [
    {
     "name": "stdout",
     "output_type": "stream",
     "text": [
      "Train MSE: 1989391154.14, R²: 0.9783\n",
      "Validation MSE: 1794591167.47, R²: 0.9802\n",
      "Test MSE: 1981584865.49, R²: 0.9785\n"
     ]
    }
   ],
   "source": [
    "#set features and target \n",
    "features = ['Term', 'NoEmp', 'NewExist', 'CreateJob', 'RetainedJob', 'DisbursementGross', 'ChgOffPrinGr', 'SBA_Appv', \n",
    "            'ChgOffDate_binary', 'UrbanRural_binary', 'MIS_Status_Binary', \n",
    "            'IsFranchise', 'LowDoc_binary', 'RevLineCr_binary',\n",
    "            'Sector_Accommodation & Food', 'Sector_Admin & Waste Mgmt',\n",
    "            'Sector_Agriculture', 'Sector_Arts & Recreation', 'Sector_Construction',\n",
    "            'Sector_Education', 'Sector_Finance', 'Sector_Healthcare',\n",
    "            'Sector_Information', 'Sector_Management', 'Sector_Manufacturing',\n",
    "            'Sector_Mining', 'Sector_Other Services', 'Sector_Professional Services',\n",
    "            'Sector_Public Admin', 'Sector_Real Estate', 'Sector_Retail Trade',\n",
    "            'Sector_Transportation', 'Sector_Unknown', 'Sector_Utilities',\n",
    "            'Sector_Wholesale Trade']\n",
    "\n",
    "X = df[features]\n",
    "y = df['GrAppv']\n",
    "\n",
    "#Split into 80% train+val, 20% test\n",
    "X_train_val, X_test, y_train_val, y_test = train_test_split(X, y, test_size=0.20, random_state=42)\n",
    "\n",
    "#Split train_val into 87.5% train, 12.5% val ( to achieve 70% train, 10% val)\n",
    "X_train, X_val, y_train, y_val = train_test_split(X_train_val, y_train_val, test_size=0.125, random_state=42)\n",
    "\n",
    "#Scale features for standardization \n",
    "scaler = StandardScaler()\n",
    "X_train_scaled = scaler.fit_transform(X_train)\n",
    "X_val_scaled = scaler.transform(X_val)\n",
    "X_test_scaled = scaler.transform(X_test)\n",
    "\n",
    "# Fit Linear Regression Model\n",
    "lin_reg = LinearRegression()\n",
    "lin_reg.fit(X_train_scaled, y_train)\n",
    "\n",
    "# Predict\n",
    "y_train_pred = lin_reg.predict(X_train_scaled)\n",
    "y_val_pred = lin_reg.predict(X_val_scaled)\n",
    "y_test_pred = lin_reg.predict(X_test_scaled)\n",
    "\n",
    "# Evaluate\n",
    "def evaluate(y_true, y_pred, label=\"\"):\n",
    "    mse = mean_squared_error(y_true, y_pred)\n",
    "    r2 = r2_score(y_true, y_pred)\n",
    "    print(f\"{label} MSE: {mse:.2f}, R²: {r2:.4f}\")\n",
    "\n",
    "evaluate(y_train, y_train_pred, \"Train\")\n",
    "evaluate(y_val, y_val_pred, \"Validation\")\n",
    "evaluate(y_test, y_test_pred, \"Test\")"
   ]
  },
  {
   "cell_type": "markdown",
   "id": "a1b06e41-de29-44fa-9993-d2cfb686962e",
   "metadata": {},
   "source": [
    "ii) Random Forest "
   ]
  },
  {
   "cell_type": "code",
   "execution_count": 12,
   "id": "314039c4-39d3-46c1-b00c-19a925d318bc",
   "metadata": {},
   "outputs": [
    {
     "name": "stdout",
     "output_type": "stream",
     "text": [
      "Random Forest Train MSE: 129422729.8295, R²: 0.9986\n",
      "Random Forest Validation MSE: 246892299.9305, R²: 0.9973\n",
      "Random Forest Test MSE: 259425575.0244, R²: 0.9972\n"
     ]
    }
   ],
   "source": [
    "# Train Random Forest Regressor with scaled data\n",
    "rf_model = RandomForestRegressor(\n",
    "    n_estimators=100,\n",
    "    max_depth=10,\n",
    "    n_jobs=-1,\n",
    "    random_state=42\n",
    ")\n",
    "# Use scaled features\n",
    "rf_model.fit(X_train_scaled, y_train)  \n",
    "\n",
    "# Predictions\n",
    "y_train_pred_rf = rf_model.predict(X_train_scaled)\n",
    "y_val_pred_rf = rf_model.predict(X_val_scaled)\n",
    "y_test_pred_rf = rf_model.predict(X_test_scaled)\n",
    "\n",
    "# Evaluate model performance\n",
    "train_mse_rf = mean_squared_error(y_train, y_train_pred_rf)\n",
    "val_mse_rf = mean_squared_error(y_val, y_val_pred_rf)\n",
    "test_mse_rf = mean_squared_error(y_test, y_test_pred_rf)\n",
    "\n",
    "train_r2_rf = r2_score(y_train, y_train_pred_rf)\n",
    "val_r2_rf = r2_score(y_val, y_val_pred_rf)\n",
    "test_r2_rf = r2_score(y_test, y_test_pred_rf)\n",
    "\n",
    "# Print results\n",
    "print(f\"Random Forest Train MSE: {train_mse_rf:.4f}, R²: {train_r2_rf:.4f}\")\n",
    "print(f\"Random Forest Validation MSE: {val_mse_rf:.4f}, R²: {val_r2_rf:.4f}\")\n",
    "print(f\"Random Forest Test MSE: {test_mse_rf:.4f}, R²: {test_r2_rf:.4f}\")\n"
   ]
  },
  {
   "cell_type": "markdown",
   "id": "60812844-aa34-4f14-b421-ea8985627076",
   "metadata": {},
   "source": [
    "iii) XG Boost"
   ]
  },
  {
   "cell_type": "code",
   "execution_count": 13,
   "id": "a004059f-7a60-45bb-86c3-24e4f8961840",
   "metadata": {},
   "outputs": [
    {
     "name": "stdout",
     "output_type": "stream",
     "text": [
      "Train MSE: 1075209796.1439, R²: 0.9883\n",
      "Validation MSE: 1834541327.1724, R²: 0.9798\n",
      "Test MSE: 1923854431.4823, R²: 0.9791\n"
     ]
    }
   ],
   "source": [
    "\n",
    "# Train XGBoost Regressor\n",
    "xgb_model = XGBRegressor(n_estimators=50, random_state=42, eval_metric=\"rmse\", n_jobs=-1)\n",
    "xgb_model.fit(X_train, y_train)\n",
    "\n",
    "# Predictions\n",
    "y_train_pred = xgb_model.predict(X_train)\n",
    "y_val_pred = xgb_model.predict(X_val)\n",
    "y_test_pred = xgb_model.predict(X_test)\n",
    "\n",
    "# Evaluate model performance\n",
    "train_mse = mean_squared_error(y_train, y_train_pred)\n",
    "val_mse = mean_squared_error(y_val, y_val_pred)\n",
    "test_mse = mean_squared_error(y_test, y_test_pred)\n",
    "\n",
    "train_r2 = r2_score(y_train, y_train_pred)\n",
    "val_r2 = r2_score(y_val, y_val_pred)\n",
    "test_r2 = r2_score(y_test, y_test_pred)\n",
    "\n",
    "# Print results\n",
    "print(f\"Train MSE: {train_mse:.4f}, R²: {train_r2:.4f}\")\n",
    "print(f\"Validation MSE: {val_mse:.4f}, R²: {val_r2:.4f}\")\n",
    "print(f\"Test MSE: {test_mse:.4f}, R²: {test_r2:.4f}\")\n"
   ]
  },
  {
   "cell_type": "markdown",
   "id": "6e694b7c-6556-49a9-a86e-4e3a5558de86",
   "metadata": {},
   "source": [
    "iv) Support Machine Vectors "
   ]
  },
  {
   "cell_type": "code",
   "execution_count": 14,
   "id": "3eb841e0-72a4-471f-8093-c2976802c2f8",
   "metadata": {},
   "outputs": [
    {
     "name": "stdout",
     "output_type": "stream",
     "text": [
      "Train MSE: 21029628772.2606, R²: 0.7705\n",
      "Validation MSE: 20930006005.8791, R²: 0.7696\n",
      "Test MSE: 21209814478.5109, R²: 0.7695\n"
     ]
    }
   ],
   "source": [
    "# Create a pipeline with StandardScaler, PCA, and LinearSVR\n",
    "svr_pipeline = make_pipeline(\n",
    "    StandardScaler(),\n",
    "    PCA(n_components=0.95),  # Retain 95% of variance\n",
    "    LinearSVR(random_state=42, max_iter=10000)\n",
    ")\n",
    "\n",
    "# Fit model on training data\n",
    "svr_pipeline.fit(X_train, y_train)\n",
    "\n",
    "# Predictions\n",
    "y_train_pred = svr_pipeline.predict(X_train)\n",
    "y_val_pred = svr_pipeline.predict(X_val)\n",
    "y_test_pred = svr_pipeline.predict(X_test)\n",
    "\n",
    "# Evaluate model performance\n",
    "train_mse = mean_squared_error(y_train, y_train_pred)\n",
    "val_mse = mean_squared_error(y_val, y_val_pred)\n",
    "test_mse = mean_squared_error(y_test, y_test_pred)\n",
    "\n",
    "train_r2 = r2_score(y_train, y_train_pred)\n",
    "val_r2 = r2_score(y_val, y_val_pred)\n",
    "test_r2 = r2_score(y_test, y_test_pred)\n",
    "\n",
    "# Print results\n",
    "print(f\"Train MSE: {train_mse:.4f}, R²: {train_r2:.4f}\")\n",
    "print(f\"Validation MSE: {val_mse:.4f}, R²: {val_r2:.4f}\")\n",
    "print(f\"Test MSE: {test_mse:.4f}, R²: {test_r2:.4f}\")\n"
   ]
  },
  {
   "cell_type": "code",
   "execution_count": 15,
   "id": "d063e038-9501-492e-8b2f-999fa300008f",
   "metadata": {},
   "outputs": [
    {
     "data": {
      "image/png": "[encoded data removed]",
      "text/plain": [
       "<Figure size 1000x600 with 1 Axes>"
      ]
     },
     "metadata": {},
     "output_type": "display_data"
    }
   ],
   "source": [
    "# Predictions for each model\n",
    "y_test_pred_lin = lin_reg.predict(X_test_scaled)          # Linear Regression (trained on scaled)\n",
    "y_test_pred_rf = rf_model.predict(X_test_scaled)          # Random Forest (trained on scaled)\n",
    "y_test_pred_xgb = xgb_model.predict(X_test)               # XGBoost (trained on unscaled)\n",
    "y_test_pred_svr = svr_pipeline.predict(X_test)            # SVM pipeline handles scaling\n",
    "\n",
    "# Store predictions in a DataFrame\n",
    "df_plot_multi = pd.DataFrame({\n",
    "    'Actual': y_test.values,\n",
    "    'LinearReg': y_test_pred_lin,\n",
    "    'RandomForest': y_test_pred_rf,\n",
    "    'XGBoost': y_test_pred_xgb,\n",
    "    'SVM': y_test_pred_svr\n",
    "})\n",
    "\n",
    "# Sort and bin by actual values\n",
    "df_plot_multi = df_plot_multi.sort_values(by='Actual').reset_index(drop=True)\n",
    "df_plot_multi['bin'] = df_plot_multi.index // 100  # 100 observations per bin\n",
    "\n",
    "# Group by bin and compute mean\n",
    "df_binned_multi = df_plot_multi.groupby('bin').mean()\n",
    "\n",
    "# Plot\n",
    "plt.figure(figsize=(10, 6))\n",
    "plt.plot(df_binned_multi['Actual'], df_binned_multi['LinearReg'], label='Linear Regression', linestyle='-', marker='o')\n",
    "plt.plot(df_binned_multi['Actual'], df_binned_multi['RandomForest'], label='Random Forest', linestyle='-', marker='x')\n",
    "plt.plot(df_binned_multi['Actual'], df_binned_multi['XGBoost'], label='XGBoost', linestyle='-', marker='^')\n",
    "plt.plot(df_binned_multi['Actual'], df_binned_multi['SVM'], label='SVM', linestyle='-', marker='s')\n",
    "plt.plot(df_binned_multi['Actual'], df_binned_multi['Actual'], linestyle='--', color='black', label='Perfect Prediction')\n",
    "\n",
    "# Labels and title\n",
    "plt.xlabel('Average Actual Gross Approval ($)')\n",
    "plt.ylabel('Average Predicted Gross Approval ($)')\n",
    "plt.title('Comparison: Binned Predicted vs Actual for Multiple Models')\n",
    "plt.legend()\n",
    "plt.grid(True)\n",
    "plt.tight_layout()\n",
    "plt.show()\n"
   ]
  },
  {
   "cell_type": "markdown",
   "id": "2373637b-989d-4d85-8b58-e42f371d5555",
   "metadata": {},
   "source": [
    "Random forest and linear regressions were the closest models to match the perfect prediction "
   ]
  },
  {
   "cell_type": "markdown",
   "id": "b61aa3c2-c848-467f-829d-f0f8cc2c3f51",
   "metadata": {},
   "source": [
    "### B. Predicting the Amount of Charged-Off Principal\n",
    "\n",
    "Understanding what factors contribute to larger charge-offs can help refine lending policies."
   ]
  },
  {
   "cell_type": "code",
   "execution_count": 35,
   "id": "6a858041-6d7d-4d6e-8666-e3e79bb8ea61",
   "metadata": {},
   "outputs": [
    {
     "data": {
      "text/plain": [
       "(572333, 46)"
      ]
     },
     "execution_count": 35,
     "metadata": {},
     "output_type": "execute_result"
    }
   ],
   "source": [
    "df.shape"
   ]
  },
  {
   "cell_type": "code",
   "execution_count": 5,
   "id": "870efef8-69aa-4d5d-bf4a-4bb4ba6701ea",
   "metadata": {},
   "outputs": [],
   "source": [
    "# Define features and target variable\n",
    "features = ['NoEmp', 'NewExist', 'DisbursementGross', 'GrAppv', 'SBA_Appv', 'UrbanRural_binary', 'MIS_Status_Binary', \n",
    "            'IsFranchise', 'LowDoc_binary', 'RevLineCr_binary',\n",
    "            'Sector_Accommodation & Food', 'Sector_Admin & Waste Mgmt',\n",
    "            'Sector_Agriculture', 'Sector_Arts & Recreation', 'Sector_Construction',\n",
    "            'Sector_Education', 'Sector_Finance', 'Sector_Healthcare',\n",
    "            'Sector_Information', 'Sector_Management', 'Sector_Manufacturing',\n",
    "            'Sector_Mining', 'Sector_Other Services', 'Sector_Professional Services',\n",
    "            'Sector_Public Admin', 'Sector_Real Estate', 'Sector_Retail Trade',\n",
    "            'Sector_Transportation', 'Sector_Unknown', 'Sector_Utilities',\n",
    "            'Sector_Wholesale Trade']\n",
    "\n",
    "X = df[features]\n",
    "y = df['ChgOffPrinGr']\n",
    "\n",
    "# Split data into 70% train, 10% validation, 20% test\n",
    "X_train_val, X_test, y_train_val, y_test = train_test_split(X, y, test_size=0.20, random_state=42)\n",
    "X_train, X_val, y_train, y_val = train_test_split(X_train_val, y_train_val, test_size=0.125, random_state=42)\n"
   ]
  },
  {
   "cell_type": "markdown",
   "id": "4525961b-08b8-410c-bee4-bbffa9fbabdb",
   "metadata": {},
   "source": [
    "i) Linear Regression as base model "
   ]
  },
  {
   "cell_type": "code",
   "execution_count": 37,
   "id": "c9686b50-1e26-486a-956a-5f2fa3b54506",
   "metadata": {},
   "outputs": [
    {
     "name": "stdout",
     "output_type": "stream",
     "text": [
      "Train MSE: 3951924938.0516, R²: 0.2622\n",
      "Validation MSE: 4257093285.2348, R²: 0.2606\n",
      "Test MSE: 4052395221.0307, R²: 0.2626\n"
     ]
    }
   ],
   "source": [
    "# Standardize the features (Linear Regression performs better with normalized data)\n",
    "scaler = StandardScaler()\n",
    "X_train_scaled = scaler.fit_transform(X_train)\n",
    "X_val_scaled = scaler.transform(X_val)\n",
    "X_test_scaled = scaler.transform(X_test)\n",
    "\n",
    "# Train Linear Regression model\n",
    "lr_model = LinearRegression()\n",
    "lr_model.fit(X_train_scaled, y_train)\n",
    "\n",
    "# Predictions\n",
    "y_train_pred = lr_model.predict(X_train_scaled)\n",
    "y_val_pred = lr_model.predict(X_val_scaled)\n",
    "y_test_pred = lr_model.predict(X_test_scaled)\n",
    "\n",
    "# Evaluate model performance\n",
    "train_mse = mean_squared_error(y_train, y_train_pred)\n",
    "val_mse = mean_squared_error(y_val, y_val_pred)\n",
    "test_mse = mean_squared_error(y_test, y_test_pred)\n",
    "\n",
    "train_r2 = r2_score(y_train, y_train_pred)\n",
    "val_r2 = r2_score(y_val, y_val_pred)\n",
    "test_r2 = r2_score(y_test, y_test_pred)\n",
    "\n",
    "# Print results\n",
    "print(f\"Train MSE: {train_mse:.4f}, R²: {train_r2:.4f}\")\n",
    "print(f\"Validation MSE: {val_mse:.4f}, R²: {val_r2:.4f}\")\n",
    "print(f\"Test MSE: {test_mse:.4f}, R²: {test_r2:.4f}\")"
   ]
  },
  {
   "cell_type": "markdown",
   "id": "afa96aa9-c5d4-4229-ba1d-6fb789620811",
   "metadata": {},
   "source": [
    "ii) Random Forest "
   ]
  },
  {
   "cell_type": "code",
   "execution_count": 38,
   "id": "c8bd9b50-d3a4-4016-8456-548ecd21c95b",
   "metadata": {},
   "outputs": [
    {
     "name": "stdout",
     "output_type": "stream",
     "text": [
      "Train RMSE: 13003.0535, R²: 0.9684\n",
      "Validation RMSE: 32454.0521, R²: 0.8171\n",
      "Test RMSE: 29366.0614, R²: 0.8431\n"
     ]
    }
   ],
   "source": [
    "# Train Random Forest model\n",
    "rf_model = RandomForestRegressor(n_estimators=10, random_state=42)\n",
    "rf_model.fit(X_train, y_train)\n",
    "\n",
    "# Predictions\n",
    "y_train_pred = rf_model.predict(X_train)\n",
    "y_val_pred = rf_model.predict(X_val)\n",
    "y_test_pred = rf_model.predict(X_test)\n",
    "\n",
    "# Evaluate performance\n",
    "train_mse = mean_squared_error(y_train, y_train_pred)\n",
    "val_mse = mean_squared_error(y_val, y_val_pred)\n",
    "test_mse = mean_squared_error(y_test, y_test_pred)\n",
    "\n",
    "train_rmse = np.sqrt(train_mse)\n",
    "val_rmse = np.sqrt(val_mse)\n",
    "test_rmse = np.sqrt(test_mse)\n",
    "\n",
    "train_r2 = r2_score(y_train, y_train_pred)\n",
    "val_r2 = r2_score(y_val, y_val_pred)\n",
    "test_r2 = r2_score(y_test, y_test_pred)\n",
    "\n",
    "# Print results\n",
    "print(f\"Train RMSE: {train_rmse:.4f}, R²: {train_r2:.4f}\")\n",
    "print(f\"Validation RMSE: {val_rmse:.4f}, R²: {val_r2:.4f}\")\n",
    "print(f\"Test RMSE: {test_rmse:.4f}, R²: {test_r2:.4f}\")\n"
   ]
  },
  {
   "cell_type": "markdown",
   "id": "ce580b93-2551-4605-b097-5a4b4973e69e",
   "metadata": {},
   "source": [
    "iii) XG Boost\n",
    "\n",
    "Use XGBoost Regressor because 'ChgOffPrinGr' is a continuous variable "
   ]
  },
  {
   "cell_type": "code",
   "execution_count": 39,
   "id": "48d3a621-9276-462f-99d5-5082c47cea82",
   "metadata": {},
   "outputs": [
    {
     "name": "stdout",
     "output_type": "stream",
     "text": [
      "Train MSE: 545313973.2197, R²: 0.8982\n",
      "Validation MSE: 1000066416.2729, R²: 0.8263\n",
      "Test MSE: 752650245.9733, R²: 0.8630\n"
     ]
    }
   ],
   "source": [
    "# Train XGBoost model (regression)\n",
    "xgb_model = XGBRegressor(n_estimators=50, random_state=42)\n",
    "xgb_model.fit(X_train, y_train)\n",
    "\n",
    "# Predictions\n",
    "y_train_pred = xgb_model.predict(X_train)\n",
    "y_val_pred = xgb_model.predict(X_val)\n",
    "y_test_pred = xgb_model.predict(X_test)\n",
    "\n",
    "# Evaluate model performance\n",
    "train_mse = mean_squared_error(y_train, y_train_pred)\n",
    "val_mse = mean_squared_error(y_val, y_val_pred)\n",
    "test_mse = mean_squared_error(y_test, y_test_pred)\n",
    "\n",
    "train_r2 = r2_score(y_train, y_train_pred)\n",
    "val_r2 = r2_score(y_val, y_val_pred)\n",
    "test_r2 = r2_score(y_test, y_test_pred)\n",
    "\n",
    "# Print results\n",
    "print(f\"Train MSE: {train_mse:.4f}, R²: {train_r2:.4f}\")\n",
    "print(f\"Validation MSE: {val_mse:.4f}, R²: {val_r2:.4f}\")\n",
    "print(f\"Test MSE: {test_mse:.4f}, R²: {test_r2:.4f}\")"
   ]
  },
  {
   "cell_type": "markdown",
   "id": "ffbd4ceb-3a8b-4f1d-b33f-25e9252e5d63",
   "metadata": {},
   "source": [
    "iv) SVM"
   ]
  },
  {
   "cell_type": "markdown",
   "id": "5453fb06-e7d4-4887-9e60-006c47918739",
   "metadata": {},
   "source": [
    "Since SVM is computationally expensive, I will sub-sample 2% of the dataset and gauge its performance. "
   ]
  },
  {
   "cell_type": "code",
   "execution_count": 9,
   "id": "bff9365e-3ca2-4afb-9dc4-1bd50507b749",
   "metadata": {},
   "outputs": [
    {
     "name": "stdout",
     "output_type": "stream",
     "text": [
      "Train MSE: 10889396403.4802, R²: -0.7378\n",
      "Validation MSE: 11950641000.6477, R²: -1.0756\n",
      "Test MSE: 11890937938.6569, R²: -1.1637\n"
     ]
    }
   ],
   "source": [
    "# Subsample 10% of the training data\n",
    "X_train_sub, _, y_train_sub, _ = train_test_split(X_train, y_train, train_size=0.02, random_state=42, shuffle=True)\n",
    "\n",
    "# Standardize the features\n",
    "scaler = StandardScaler()\n",
    "X_train_sub_scaled = scaler.fit_transform(X_train_sub)\n",
    "X_val_scaled = scaler.transform(X_val)\n",
    "X_test_scaled = scaler.transform(X_test)\n",
    "\n",
    "# Train Linear SVM model\n",
    "svm_model = LinearSVC(max_iter=1000, random_state=42)\n",
    "svm_model.fit(X_train_sub_scaled, y_train_sub)\n",
    "\n",
    "# Predictions\n",
    "y_train_pred = svm_model.predict(X_train_sub_scaled)\n",
    "y_val_pred = svm_model.predict(X_val_scaled)\n",
    "y_test_pred = svm_model.predict(X_test_scaled)\n",
    "\n",
    "# Evaluate model performance\n",
    "train_mse = mean_squared_error(y_train_sub, y_train_pred)\n",
    "val_mse = mean_squared_error(y_val, y_val_pred)\n",
    "test_mse = mean_squared_error(y_test, y_test_pred)\n",
    "\n",
    "train_r2 = r2_score(y_train_sub, y_train_pred)\n",
    "val_r2 = r2_score(y_val, y_val_pred)\n",
    "test_r2 = r2_score(y_test, y_test_pred)\n",
    "\n",
    "# Print results\n",
    "print(f\"Train MSE: {train_mse:.4f}, R²: {train_r2:.4f}\")\n",
    "print(f\"Validation MSE: {val_mse:.4f}, R²: {val_r2:.4f}\")\n",
    "print(f\"Test MSE: {test_mse:.4f}, R²: {test_r2:.4f}\")"
   ]
  },
  {
   "cell_type": "markdown",
   "id": "5030bd9d-83b4-4710-9878-985539185ecb",
   "metadata": {},
   "source": [
    "### Comparison of Model Performance "
   ]
  },
  {
   "cell_type": "code",
   "execution_count": 10,
   "id": "4222f97a-d6d3-4f8d-9f2e-7b2d27d3db25",
   "metadata": {},
   "outputs": [
    {
     "data": {
      "text/html": [
       "<div>\n",
       "<style scoped>\n",
       "    .dataframe tbody tr th:only-of-type {\n",
       "        vertical-align: middle;\n",
       "    }\n",
       "\n",
       "    .dataframe tbody tr th {\n",
       "        vertical-align: top;\n",
       "    }\n",
       "\n",
       "    .dataframe thead th {\n",
       "        text-align: right;\n",
       "    }\n",
       "</style>\n",
       "<table border=\"1\" class=\"dataframe\">\n",
       "  <thead>\n",
       "    <tr style=\"text-align: right;\">\n",
       "      <th></th>\n",
       "      <th>Model</th>\n",
       "      <th>Train MSE</th>\n",
       "      <th>Train R²</th>\n",
       "      <th>Val MSE</th>\n",
       "      <th>Val R²</th>\n",
       "      <th>Test MSE</th>\n",
       "      <th>Test R²</th>\n",
       "    </tr>\n",
       "  </thead>\n",
       "  <tbody>\n",
       "    <tr>\n",
       "      <th>0</th>\n",
       "      <td>Linear Regression</td>\n",
       "      <td>4.222555e+09</td>\n",
       "      <td>0.2544</td>\n",
       "      <td>3.914277e+09</td>\n",
       "      <td>0.2850</td>\n",
       "      <td>4.280890e+09</td>\n",
       "      <td>0.2639</td>\n",
       "    </tr>\n",
       "    <tr>\n",
       "      <th>1</th>\n",
       "      <td>Random Forest</td>\n",
       "      <td>1.312258e+04</td>\n",
       "      <td>0.9696</td>\n",
       "      <td>3.566790e+04</td>\n",
       "      <td>0.7676</td>\n",
       "      <td>3.281153e+04</td>\n",
       "      <td>0.8149</td>\n",
       "    </tr>\n",
       "    <tr>\n",
       "      <th>2</th>\n",
       "      <td>XGBoost</td>\n",
       "      <td>2.385226e+08</td>\n",
       "      <td>0.9579</td>\n",
       "      <td>1.185832e+09</td>\n",
       "      <td>0.7834</td>\n",
       "      <td>1.090246e+09</td>\n",
       "      <td>0.8125</td>\n",
       "    </tr>\n",
       "    <tr>\n",
       "      <th>3</th>\n",
       "      <td>Linear SVM (10%)</td>\n",
       "      <td>1.088940e+10</td>\n",
       "      <td>-0.7378</td>\n",
       "      <td>1.195064e+10</td>\n",
       "      <td>-1.0756</td>\n",
       "      <td>1.189094e+10</td>\n",
       "      <td>-1.1637</td>\n",
       "    </tr>\n",
       "  </tbody>\n",
       "</table>\n",
       "</div>"
      ],
      "text/plain": [
       "               Model     Train MSE  Train R²       Val MSE  Val R²  \\\n",
       "0  Linear Regression  4.222555e+09    0.2544  3.914277e+09  0.2850   \n",
       "1      Random Forest  1.312258e+04    0.9696  3.566790e+04  0.7676   \n",
       "2            XGBoost  2.385226e+08    0.9579  1.185832e+09  0.7834   \n",
       "3   Linear SVM (10%)  1.088940e+10   -0.7378  1.195064e+10 -1.0756   \n",
       "\n",
       "       Test MSE  Test R²  \n",
       "0  4.280890e+09   0.2639  \n",
       "1  3.281153e+04   0.8149  \n",
       "2  1.090246e+09   0.8125  \n",
       "3  1.189094e+10  -1.1637  "
      ]
     },
     "execution_count": 10,
     "metadata": {},
     "output_type": "execute_result"
    }
   ],
   "source": [
    "# Create a dictionary of results\n",
    "results = {\n",
    "    'Model': ['Linear Regression', 'Random Forest', 'XGBoost', 'Linear SVM (10%)'],\n",
    "    'Train MSE': [4222554684.93, 13122.5781, 238522649.4237, 10889396403.4802],\n",
    "    'Train R²': [0.2544, 0.9696, 0.9579, -0.7378],\n",
    "    'Val MSE': [3914276643.5948, 35667.8978, 1185831992.6504, 11950641000.6477],\n",
    "    'Val R²': [0.2850, 0.7676, 0.7834, -1.0756],\n",
    "    'Test MSE': [4280889619.9658, 32811.5325, 1090246310.4710, 11890937938.6569],\n",
    "    'Test R²': [0.2639, 0.8149, 0.8125, -1.1637]\n",
    "}\n",
    "\n",
    "# Convert to DataFrame\n",
    "results_df = pd.DataFrame(results)\n",
    "\n",
    "# Display it\n",
    "results_df\n"
   ]
  },
  {
   "cell_type": "markdown",
   "id": "60b9ca1e-219a-46bc-9a59-a76096abd849",
   "metadata": {},
   "source": [
    "The overall best perfomer is XG Boost followed by Random Forest. The poorest perfomer is SVM. There is likelihood that additional performance improvement could be achieved by giving SVM more training data, however, I am not sure if it is worth the compuattional expense given that Random Forest and XGBoost captured 81% of variation in the dataset at a fraction of the computational need. "
   ]
  },
  {
   "cell_type": "markdown",
   "id": "43df58d5-08b4-47f8-8c31-7c7668e3b024",
   "metadata": {},
   "source": [
    "### Visual Presentation of Actual vs Multiple Model Predictions \n",
    "\n",
    "## May need to be removed if graphing issue is not resolved "
   ]
  },
  {
   "cell_type": "code",
   "execution_count": 8,
   "id": "f2293d10-0731-484e-bae6-656166bc0b96",
   "metadata": {},
   "outputs": [
    {
     "data": {
      "image/png": "[encoded data removed]",
      "text/plain": [
       "<Figure size 1200x700 with 1 Axes>"
      ]
     },
     "metadata": {},
     "output_type": "display_data"
    }
   ],
   "source": [
    "# Get predictions for each model\n",
    "y_test_pred_rf = rf_model.predict(X_test)                # RandomForestRegressor\n",
    "y_test_pred_xgb = xgb_model.predict(X_test)              # XGBoost Regressor\n",
    "y_test_pred_svm = svm_model.predict(X_test_scaled)       # SVM predictions using scaled data\n",
    "y_test_pred_lr = lr_model.predict(X_test_scaled)         # Linear Regression predictions using scaled data\n",
    "\n",
    "# Store predictions in a DataFrame\n",
    "df_plot_multi = pd.DataFrame({\n",
    "    'Actual': y_test.values,\n",
    "    'RandomForest': y_test_pred_rf,\n",
    "    'XGBoost': y_test_pred_xgb,\n",
    "    'SVM': y_test_pred_svm,\n",
    "    'LinearReg': y_test_pred_lr\n",
    "})\n",
    "\n",
    "# Sort and bin by actual values\n",
    "df_plot_multi = df_plot_multi.sort_values(by='Actual').reset_index(drop=True)\n",
    "# Adjust bin size based on your dataset size\n",
    "bin_size = max(1, len(df_plot_multi) // 100)  # Ensure at least 1 observation per bin\n",
    "df_plot_multi['bin'] = df_plot_multi.index // bin_size\n",
    "\n",
    "# Group by bin and compute mean\n",
    "df_binned_multi = df_plot_multi.groupby('bin').mean()\n",
    "\n",
    "# Plot\n",
    "plt.figure(figsize=(12, 7))\n",
    "plt.plot(df_binned_multi['Actual'], df_binned_multi['RandomForest'], label='Random Forest', linestyle='-', marker='x')\n",
    "plt.plot(df_binned_multi['Actual'], df_binned_multi['XGBoost'], label='XGBoost', linestyle='-', marker='^')\n",
    "plt.plot(df_binned_multi['Actual'], df_binned_multi['SVM'], label='SVM', linestyle='-', marker='s')\n",
    "plt.plot(df_binned_multi['Actual'], df_binned_multi['LinearReg'], label='Linear Regression', linestyle='-', marker='o')\n",
    "\n",
    "# Perfect prediction line\n",
    "plt.plot(df_binned_multi['Actual'], df_binned_multi['Actual'], linestyle='--', color='black', label='Perfect Prediction')\n",
    "\n",
    "# Labels and title\n",
    "plt.xlabel('Average Actual ChgOffPrinGr ($)')\n",
    "plt.ylabel('Average Predicted ChgOffPrinGr ($)')\n",
    "plt.title('Comparison: Binned Predicted vs Actual for Multiple Models')\n",
    "plt.legend()\n",
    "plt.grid(True)\n",
    "plt.tight_layout()\n",
    "plt.show()"
   ]
  },
  {
   "cell_type": "markdown",
   "id": "e6b22658-ab4c-44be-a9fa-3b1ac054aaea",
   "metadata": {},
   "source": [
    "### C. Job Creation Impact Prediction\n",
    "\n",
    "This prediction can help  analyze which loans create the most jobs, aiding in economic policy decisions."
   ]
  },
  {
   "cell_type": "code",
   "execution_count": 11,
   "id": "75aa421c-6b34-44d6-8cd8-5a2b917a7502",
   "metadata": {},
   "outputs": [
    {
     "data": {
      "text/plain": [
       "(572333, 46)"
      ]
     },
     "execution_count": 11,
     "metadata": {},
     "output_type": "execute_result"
    }
   ],
   "source": [
    "df.shape"
   ]
  },
  {
   "cell_type": "code",
   "execution_count": 12,
   "id": "d3275b27-5400-43ff-b995-f7ded89ccf14",
   "metadata": {},
   "outputs": [],
   "source": [
    "# Take 100% sample of the dataset\n",
    "#df = df.sample(frac=1, random_state=42)\n",
    "\n",
    "# Define features and target variable\n",
    "features = [\"DisbursementGross\", \"Term\", 'NoEmp', \"NewExist\", \"UrbanRural_binary\", 'RetainedJob', 'ChgOffPrinGr', 'SBA_Appv', \n",
    "            'ChgOffDate_binary', 'MIS_Status_Binary', \n",
    "            'IsFranchise', 'LowDoc_binary', 'RevLineCr_binary',\n",
    "            'Sector_Accommodation & Food', 'Sector_Admin & Waste Mgmt',\n",
    "            'Sector_Agriculture', 'Sector_Arts & Recreation', 'Sector_Construction',\n",
    "            'Sector_Education', 'Sector_Finance', 'Sector_Healthcare',\n",
    "            'Sector_Information', 'Sector_Management', 'Sector_Manufacturing',\n",
    "            'Sector_Mining', 'Sector_Other Services', 'Sector_Professional Services',\n",
    "            'Sector_Public Admin', 'Sector_Real Estate', 'Sector_Retail Trade',\n",
    "            'Sector_Transportation', 'Sector_Unknown', 'Sector_Utilities',\n",
    "            'Sector_Wholesale Trade']\n",
    "X = df[features]\n",
    "y = df['CreateJob']\n",
    "\n",
    "# Split data into 70% train, 10% validation, 20% test\n",
    "X_train_val, X_test, y_train_val, y_test = train_test_split(X, y, test_size=0.20, random_state=42)\n",
    "X_train, X_val, y_train, y_val = train_test_split(X_train_val, y_train_val, test_size=0.125, random_state=42)"
   ]
  },
  {
   "cell_type": "code",
   "execution_count": 23,
   "id": "4da46907-7907-4682-9d94-eafd86623154",
   "metadata": {},
   "outputs": [
    {
     "name": "stdout",
     "output_type": "stream",
     "text": [
      "Train set size: 400632\n",
      "Validation set size: 57234\n",
      "Test set size: 114467\n"
     ]
    }
   ],
   "source": [
    "#see the split\n",
    "print(f\"Train set size: {X_train.shape[0]}\")\n",
    "print(f\"Validation set size: {X_val.shape[0]}\")\n",
    "print(f\"Test set size: {X_test.shape[0]}\")\n"
   ]
  },
  {
   "cell_type": "markdown",
   "id": "b03f69c4-59e8-4f1d-950b-97c9f8ca2989",
   "metadata": {},
   "source": [
    "1. Linear Regression"
   ]
  },
  {
   "cell_type": "code",
   "execution_count": 14,
   "id": "13d20203-f6a6-4c70-a921-db7cbf5b83c2",
   "metadata": {},
   "outputs": [
    {
     "name": "stdout",
     "output_type": "stream",
     "text": [
      "Linear Regression:\n",
      "Train MSE: 143.6146, R²: 0.0519\n",
      "Validation MSE: 102.7379, R²: -0.0590\n",
      "Test MSE: 360.3609, R²: 0.0265\n"
     ]
    }
   ],
   "source": [
    "# Train Linear Regression model\n",
    "lin_reg = LinearRegression()\n",
    "lin_reg.fit(X_train, y_train)\n",
    "\n",
    "# Predictions\n",
    "y_train_pred_lin = lin_reg.predict(X_train)\n",
    "y_val_pred_lin = lin_reg.predict(X_val)\n",
    "y_test_pred_lin = lin_reg.predict(X_test)\n",
    "\n",
    "# Evaluate model performance\n",
    "train_mse_lin = mean_squared_error(y_train, y_train_pred_lin)\n",
    "val_mse_lin = mean_squared_error(y_val, y_val_pred_lin)\n",
    "test_mse_lin = mean_squared_error(y_test, y_test_pred_lin)\n",
    "\n",
    "train_r2_lin = r2_score(y_train, y_train_pred_lin)\n",
    "val_r2_lin = r2_score(y_val, y_val_pred_lin)\n",
    "test_r2_lin = r2_score(y_test, y_test_pred_lin)\n",
    "\n",
    "# Print results\n",
    "print(f\"Linear Regression:\")\n",
    "print(f\"Train MSE: {train_mse_lin:.4f}, R²: {train_r2_lin:.4f}\")\n",
    "print(f\"Validation MSE: {val_mse_lin:.4f}, R²: {val_r2_lin:.4f}\")\n",
    "print(f\"Test MSE: {test_mse_lin:.4f}, R²: {test_r2_lin:.4f}\")"
   ]
  },
  {
   "cell_type": "markdown",
   "id": "af6a2001-4e07-47d4-a268-032e737bc307",
   "metadata": {},
   "source": [
    "2. Random Forest "
   ]
  },
  {
   "cell_type": "code",
   "execution_count": 15,
   "id": "e154fb7d-b05c-45d5-a73b-d2ab8cc02bfd",
   "metadata": {},
   "outputs": [
    {
     "name": "stdout",
     "output_type": "stream",
     "text": [
      "Train MSE: 26.2989, R^2: 0.8264\n",
      "Validation MSE: 105.9432, R^2: -0.0921\n",
      "Test MSE: 386.1715, R^2: -0.0432\n"
     ]
    }
   ],
   "source": [
    "# Train Random Forest model - using regressor now\n",
    "rf_model = RandomForestRegressor(n_estimators=10, random_state=42)\n",
    "rf_model.fit(X_train, y_train)\n",
    "\n",
    "# Predictions\n",
    "y_train_pred = rf_model.predict(X_train)\n",
    "y_val_pred = rf_model.predict(X_val)\n",
    "y_test_pred = rf_model.predict(X_test)\n",
    "\n",
    "# Evaluate model performance with regression metrics\n",
    "train_mse = mean_squared_error(y_train, y_train_pred)\n",
    "val_mse = mean_squared_error(y_val, y_val_pred)\n",
    "test_mse = mean_squared_error(y_test, y_test_pred)\n",
    "\n",
    "train_r2 = r2_score(y_train, y_train_pred)\n",
    "val_r2 = r2_score(y_val, y_val_pred)\n",
    "test_r2 = r2_score(y_test, y_test_pred)\n",
    "\n",
    "# Print results\n",
    "print(f\"Train MSE: {train_mse:.4f}, R²: {train_r2:.4f}\")\n",
    "print(f\"Validation MSE: {val_mse:.4f}, R²: {val_r2:.4f}\")\n",
    "print(f\"Test MSE: {test_mse:.4f}, R²: {test_r2:.4f}\")"
   ]
  },
  {
   "cell_type": "markdown",
   "id": "d1cb6a54-5060-4a4d-935d-f62aa1436b5a",
   "metadata": {},
   "source": [
    "3. XG Boost\n",
    "\n",
    "Use XGRegressor because 'CreateJob' is a continuous variable."
   ]
  },
  {
   "cell_type": "code",
   "execution_count": 15,
   "id": "0d8d8274-a22e-4248-adad-23ec3f12675d",
   "metadata": {},
   "outputs": [
    {
     "name": "stdout",
     "output_type": "stream",
     "text": [
      "[   0    1    2    3    4    5    6    7    8    9   10   11   12   13\n",
      "   14   15   16   17   18   19   20   21   22   23   24   25   26   27\n",
      "   28   29   30   31   32   33   34   35   36   37   38   39   40   41\n",
      "   42   43   44   45   46   47   48   49   50   53   54   55   57   58\n",
      "   60   62   63   64   65   66   69   70   75   77   80   82   83   84\n",
      "   85   90   92   95   96   98  100  105  110  112  114  115  116  124\n",
      "  125  130  144  146  150  157  170  179  200  256  270  300  450  451\n",
      "  453  455  750 1200]\n",
      "[  0   1   2   3   4   5   6   7   8   9  10  11  12  13  14  15  16  17\n",
      "  18  19  20  21  22  23  24  25  26  27  28  29  30  31  32  34  35  36\n",
      "  38  40  41  42  45  47  48  49  50  52  57  59  60  66  70  71  75  80\n",
      "  95  97  98 100 150 200 240 450 457]\n"
     ]
    }
   ],
   "source": [
    "# Convert target variable to integer type (if it's categorical)\n",
    "y_train = y_train.astype(int)\n",
    "y_test = y_test.astype(int)\n",
    "\n",
    "# Check unique classes in train and test sets\n",
    "print(np.unique(y_train))\n",
    "print(np.unique(y_test))"
   ]
  },
  {
   "cell_type": "code",
   "execution_count": 16,
   "id": "fe3c68bc-65d0-45f7-b2e7-ac7adf086198",
   "metadata": {},
   "outputs": [
    {
     "name": "stdout",
     "output_type": "stream",
     "text": [
      "Train MSE: 87.5700, R^2: 0.4219\n",
      "Validation MSE: 85.3770, R^2: 0.1199\n",
      "Test MSE: 369.3773, R^2: 0.0022\n"
     ]
    }
   ],
   "source": [
    "# Train XGBoost model (regression)\n",
    "xgb_model = XGBRegressor(n_estimators=50, random_state=42)\n",
    "xgb_model.fit(X_train, y_train)\n",
    "\n",
    "# Predictions\n",
    "y_train_pred = xgb_model.predict(X_train)\n",
    "y_val_pred = xgb_model.predict(X_val)\n",
    "y_test_pred = xgb_model.predict(X_test)\n",
    "\n",
    "# Evaluate model performance\n",
    "train_mse = mean_squared_error(y_train, y_train_pred)\n",
    "val_mse = mean_squared_error(y_val, y_val_pred)\n",
    "test_mse = mean_squared_error(y_test, y_test_pred)\n",
    "\n",
    "train_r2 = r2_score(y_train, y_train_pred)\n",
    "val_r2 = r2_score(y_val, y_val_pred)\n",
    "test_r2 = r2_score(y_test, y_test_pred)\n",
    "\n",
    "# Print results\n",
    "print(f\"Train MSE: {train_mse:.4f}, R²: {train_r2:.4f}\")\n",
    "print(f\"Validation MSE: {val_mse:.4f}, R²: {val_r2:.4f}\")\n",
    "print(f\"Test MSE: {test_mse:.4f}, R²: {test_r2:.4f}\")"
   ]
  },
  {
   "cell_type": "code",
   "execution_count": 19,
   "id": "c51fe298-a09a-4ce4-8adc-16bd8dd3d1c3",
   "metadata": {},
   "outputs": [
    {
     "data": {
      "text/plain": [
       "(572333, 46)"
      ]
     },
     "execution_count": 19,
     "metadata": {},
     "output_type": "execute_result"
    }
   ],
   "source": [
    "df.shape "
   ]
  },
  {
   "cell_type": "markdown",
   "id": "ad2adf73-8d02-4bb8-a7f8-55aff7a0d50a",
   "metadata": {},
   "source": [
    "4. SVM "
   ]
  },
  {
   "cell_type": "code",
   "execution_count": 20,
   "id": "7983195b-a2aa-4f8e-b19f-1e9bbb0edc12",
   "metadata": {},
   "outputs": [
    {
     "name": "stdout",
     "output_type": "stream",
     "text": [
      "Train MSE: 115.6478, R²: 0.0350\n",
      "Validation MSE: 112.4015, R²: -0.1586\n",
      "Test MSE: 373.9275, R²: -0.0101\n"
     ]
    }
   ],
   "source": [
    "# Subsample 2% of the training data\n",
    "X_train_sub2, _, y_train_sub2, _ = train_test_split(X_train, y_train, train_size=0.02, random_state=42, shuffle=True)\n",
    "\n",
    "# Standardize the features\n",
    "scaler = StandardScaler()\n",
    "X_train_sub2_scaled = scaler.fit_transform(X_train_sub2)\n",
    "X_val_scaled = scaler.transform(X_val)\n",
    "X_test_scaled = scaler.transform(X_test)\n",
    "\n",
    "# Train Linear SVM model\n",
    "svm_model = LinearSVC(max_iter=1000, random_state=42)\n",
    "svm_model.fit(X_train_sub2_scaled, y_train_sub2)\n",
    "\n",
    "# Predictions\n",
    "y_train_pred = svm_model.predict(X_train_sub2_scaled)\n",
    "y_val_pred = svm_model.predict(X_val_scaled)\n",
    "y_test_pred = svm_model.predict(X_test_scaled)\n",
    "\n",
    "# Evaluate model performance\n",
    "train_mse = mean_squared_error(y_train_sub2, y_train_pred)\n",
    "val_mse = mean_squared_error(y_val, y_val_pred)\n",
    "test_mse = mean_squared_error(y_test, y_test_pred)\n",
    "\n",
    "train_r2 = r2_score(y_train_sub2, y_train_pred)\n",
    "val_r2 = r2_score(y_val, y_val_pred)\n",
    "test_r2 = r2_score(y_test, y_test_pred)\n",
    "\n",
    "# Print results\n",
    "print(f\"Train MSE: {train_mse:.4f}, R²: {train_r2:.4f}\")\n",
    "print(f\"Validation MSE: {val_mse:.4f}, R²: {val_r2:.4f}\")\n",
    "print(f\"Test MSE: {test_mse:.4f}, R²: {test_r2:.4f}\")\n"
   ]
  },
  {
   "cell_type": "markdown",
   "id": "8ea5a400-f5cd-4bba-88fa-0e4c402ce0e2",
   "metadata": {},
   "source": [
    "### Compare Model Performance "
   ]
  },
  {
   "cell_type": "code",
   "execution_count": 24,
   "id": "75180b06-81f1-49e1-97a5-ba05672b6f30",
   "metadata": {},
   "outputs": [
    {
     "data": {
      "text/html": [
       "<div>\n",
       "<style scoped>\n",
       "    .dataframe tbody tr th:only-of-type {\n",
       "        vertical-align: middle;\n",
       "    }\n",
       "\n",
       "    .dataframe tbody tr th {\n",
       "        vertical-align: top;\n",
       "    }\n",
       "\n",
       "    .dataframe thead th {\n",
       "        text-align: right;\n",
       "    }\n",
       "</style>\n",
       "<table border=\"1\" class=\"dataframe\">\n",
       "  <thead>\n",
       "    <tr style=\"text-align: right;\">\n",
       "      <th></th>\n",
       "      <th>Model</th>\n",
       "      <th>Train MSE</th>\n",
       "      <th>Train R²</th>\n",
       "      <th>Val MSE</th>\n",
       "      <th>Val R²</th>\n",
       "      <th>Test MSE</th>\n",
       "      <th>Test R²</th>\n",
       "    </tr>\n",
       "  </thead>\n",
       "  <tbody>\n",
       "    <tr>\n",
       "      <th>0</th>\n",
       "      <td>Linear Regression</td>\n",
       "      <td>1.436146e+02</td>\n",
       "      <td>0.0519</td>\n",
       "      <td>1.027379e+02</td>\n",
       "      <td>-0.0590</td>\n",
       "      <td>3.603609e+02</td>\n",
       "      <td>0.0265</td>\n",
       "    </tr>\n",
       "    <tr>\n",
       "      <th>1</th>\n",
       "      <td>Random Forest</td>\n",
       "      <td>2.629890e+01</td>\n",
       "      <td>0.8264</td>\n",
       "      <td>1.059432e+02</td>\n",
       "      <td>-0.0921</td>\n",
       "      <td>3.861715e+02</td>\n",
       "      <td>-0.0432</td>\n",
       "    </tr>\n",
       "    <tr>\n",
       "      <th>2</th>\n",
       "      <td>XGBoost</td>\n",
       "      <td>8.757000e+01</td>\n",
       "      <td>0.4219</td>\n",
       "      <td>8.537700e+01</td>\n",
       "      <td>0.1199</td>\n",
       "      <td>3.693773e+02</td>\n",
       "      <td>0.0022</td>\n",
       "    </tr>\n",
       "    <tr>\n",
       "      <th>3</th>\n",
       "      <td>Linear SVM (10%)</td>\n",
       "      <td>1.088940e+10</td>\n",
       "      <td>0.0350</td>\n",
       "      <td>1.195064e+10</td>\n",
       "      <td>-0.1586</td>\n",
       "      <td>1.189094e+10</td>\n",
       "      <td>-0.0101</td>\n",
       "    </tr>\n",
       "  </tbody>\n",
       "</table>\n",
       "</div>"
      ],
      "text/plain": [
       "               Model     Train MSE  Train R²       Val MSE  Val R²  \\\n",
       "0  Linear Regression  1.436146e+02    0.0519  1.027379e+02 -0.0590   \n",
       "1      Random Forest  2.629890e+01    0.8264  1.059432e+02 -0.0921   \n",
       "2            XGBoost  8.757000e+01    0.4219  8.537700e+01  0.1199   \n",
       "3   Linear SVM (10%)  1.088940e+10    0.0350  1.195064e+10 -0.1586   \n",
       "\n",
       "       Test MSE  Test R²  \n",
       "0  3.603609e+02   0.0265  \n",
       "1  3.861715e+02  -0.0432  \n",
       "2  3.693773e+02   0.0022  \n",
       "3  1.189094e+10  -0.0101  "
      ]
     },
     "execution_count": 24,
     "metadata": {},
     "output_type": "execute_result"
    }
   ],
   "source": [
    "# Create a dictionary of results\n",
    "results_jobs = {\n",
    "    'Model': ['Linear Regression', 'Random Forest', 'XGBoost', 'Linear SVM (10%)'],\n",
    "    'Train MSE': [143.6146, 26.2989, 87.5700, 10889396403.4802],\n",
    "    'Train R²': [0.0519, 0.8264, 0.4219, 0.0350],\n",
    "    'Val MSE': [102.7379, 105.9432, 85.3770, 11950641000.6477],\n",
    "    'Val R²': [-0.0590, -0.0921, 0.1199, -0.1586],\n",
    "    'Test MSE': [360.3609, 386.1715, 369.3773, 11890937938.6569],\n",
    "    'Test R²': [0.0265, -0.0432, 0.0022, -0.0101]\n",
    "}\n",
    "\n",
    "# Convert to DataFrame\n",
    "results_df_jobs = pd.DataFrame(results_jobs)\n",
    "\n",
    "# Display it\n",
    "results_df_jobs\n",
    "\n"
   ]
  },
  {
   "cell_type": "markdown",
   "id": "1f73e70d-4246-4eb4-bdaa-09ed77d1470e",
   "metadata": {},
   "source": [
    "### Plotting \n",
    "\n",
    "#### Needs REVIEW"
   ]
  },
  {
   "cell_type": "code",
   "execution_count": 21,
   "id": "7e2a1441-2eea-4f8b-ae5b-5bfe966a4d54",
   "metadata": {},
   "outputs": [
    {
     "data": {
      "image/png": "[encoded data removed]",
      "text/plain": [
       "<Figure size 1000x600 with 1 Axes>"
      ]
     },
     "metadata": {},
     "output_type": "display_data"
    }
   ],
   "source": [
    "# Predictions for each model\n",
    "y_test_pred_rf = rf_model.predict(X_test)      # Random Forest Regressor\n",
    "y_test_pred_xgb = xgb_model.predict(X_test)    # XGBoost Regressor\n",
    "y_test_pred_lin = lin_reg.predict(X_test)      # Linear Regression\n",
    "\n",
    "# Store predictions in a DataFrame\n",
    "df_plot_multi = pd.DataFrame({\n",
    "    'Actual': y_test.values,\n",
    "    'RandomForest': y_test_pred_rf,\n",
    "    'XGBoost': y_test_pred_xgb,\n",
    "    'LinearReg': y_test_pred_lin\n",
    "})\n",
    "\n",
    "# Sort and bin by actual values\n",
    "df_plot_multi = df_plot_multi.sort_values(by='Actual').reset_index(drop=True)\n",
    "df_plot_multi['bin'] = df_plot_multi.index // 100  # 100 observations per bin\n",
    "\n",
    "# Group by bin and compute mean\n",
    "df_binned_multi = df_plot_multi.groupby('bin').mean()\n",
    "\n",
    "# Plot\n",
    "plt.figure(figsize=(10, 6))\n",
    "plt.plot(df_binned_multi['Actual'], df_binned_multi['RandomForest'], label='Random Forest', linestyle='-', marker='x')\n",
    "plt.plot(df_binned_multi['Actual'], df_binned_multi['XGBoost'], label='XGBoost', linestyle='-', marker='^')\n",
    "plt.plot(df_binned_multi['Actual'], df_binned_multi['LinearReg'], label='Linear Regression', linestyle='-', marker='o')\n",
    "plt.plot(df_binned_multi['Actual'], df_binned_multi['Actual'], linestyle='--', color='black', label='Perfect Prediction')\n",
    "\n",
    "# Labels and title\n",
    "plt.xlabel('Average Actual CreateJob')\n",
    "plt.ylabel('Average Predicted CreateJob')\n",
    "plt.title('Comparison: Binned Predicted vs Actual for Multiple Models')\n",
    "plt.legend()\n",
    "plt.grid(True)\n",
    "plt.tight_layout()\n",
    "plt.show()"
   ]
  },
  {
   "cell_type": "markdown",
   "id": "8b2de472-39ef-4155-bb06-eccf63a5db4a",
   "metadata": {},
   "source": [
    "## 2. Binary Variables"
   ]
  },
  {
   "cell_type": "markdown",
   "id": "19295893-209c-438c-bed5-5c720fdbb285",
   "metadata": {},
   "source": [
    "### A. Predicting loan repayment status \n",
    "\n",
    "This section uses four models—Logistic Regression, Random Forest, XGBoost, and SVM—to predict whether a loan issued by banks and guaranteed by the SBA will be paid in full (1) or charged off (0). The target variable is MIS_Status_Binary, where 0 indicates a charged-off loan, and 1 indicates full repayment."
   ]
  },
  {
   "cell_type": "code",
   "execution_count": 25,
   "id": "a71c2634-4941-4c2f-a987-12a46fe66710",
   "metadata": {},
   "outputs": [],
   "source": [
    "# Define independent variables (features)\n",
    "features = ['Term', 'NoEmp', 'NewExist', 'CreateJob', 'RetainedJob', 'DisbursementGross', 'ChgOffPrinGr', 'SBA_Appv', \n",
    "            'ChgOffDate_binary', 'UrbanRural_binary', \n",
    "            'IsFranchise', 'LowDoc_binary', 'RevLineCr_binary',\n",
    "            'Sector_Accommodation & Food', 'Sector_Admin & Waste Mgmt',\n",
    "            'Sector_Agriculture', 'Sector_Arts & Recreation', 'Sector_Construction',\n",
    "            'Sector_Education', 'Sector_Finance', 'Sector_Healthcare',\n",
    "            'Sector_Information', 'Sector_Management', 'Sector_Manufacturing',\n",
    "            'Sector_Mining', 'Sector_Other Services', 'Sector_Professional Services',\n",
    "            'Sector_Public Admin', 'Sector_Real Estate', 'Sector_Retail Trade',\n",
    "            'Sector_Transportation', 'Sector_Unknown', 'Sector_Utilities',\n",
    "            'Sector_Wholesale Trade']\n",
    "\n",
    "# Define target variable\n",
    "X = df[features]\n",
    "y = df['MIS_Status_Binary']\n",
    "\n",
    "# Split data into 70% train, 10% validation, 20% test\n",
    "#first get 20% to be test data \n",
    "X_train_val, X_test, y_train_val, y_test = train_test_split(X, y, test_size=0.20, random_state=42)\n",
    "#then split the train data further to have validation set \n",
    "X_train, X_val, y_train, y_val = train_test_split(X_train_val, y_train_val, test_size=0.125, random_state=42)"
   ]
  },
  {
   "cell_type": "code",
   "execution_count": 26,
   "id": "a26c867c-c794-48ae-848f-96b0d6afd941",
   "metadata": {},
   "outputs": [
    {
     "name": "stdout",
     "output_type": "stream",
     "text": [
      "Train set size: 400632\n",
      "Validation set size: 57234\n",
      "Test set size: 114467\n"
     ]
    }
   ],
   "source": [
    "#see the split\n",
    "print(f\"Train set size: {X_train.shape[0]}\")\n",
    "print(f\"Validation set size: {X_val.shape[0]}\")\n",
    "print(f\"Test set size: {X_test.shape[0]}\")"
   ]
  },
  {
   "cell_type": "markdown",
   "id": "9a307e67-ab58-4e59-b44e-3cd1900db642",
   "metadata": {},
   "source": [
    "1. Logistic Regression as Baseline Model "
   ]
  },
  {
   "cell_type": "code",
   "execution_count": 38,
   "id": "69bd11ec-78e1-4172-b882-2c4180756f60",
   "metadata": {},
   "outputs": [
    {
     "name": "stdout",
     "output_type": "stream",
     "text": [
      "Train Accuracy: 0.9977, Precision: 1.0000, Recall: 0.9903, F1: 0.9951\n",
      "Validation Accuracy: 0.9975, Precision: 1.0000, Recall: 0.9898, F1: 0.9949\n",
      "Test Accuracy: 0.9977, Precision: 1.0000, Recall: 0.9904, F1: 0.9952\n"
     ]
    }
   ],
   "source": [
    "# Standardize the features (Logistic Regression performs better with normalized data)\n",
    "scaler = StandardScaler()\n",
    "X_train_scaled = scaler.fit_transform(X_train)\n",
    "X_val_scaled = scaler.transform(X_val)\n",
    "X_test_scaled = scaler.transform(X_test)\n",
    "\n",
    "# Train Logistic Regression model\n",
    "log_model = LogisticRegression()\n",
    "log_model.fit(X_train_scaled, y_train)\n",
    "\n",
    "# Predictions\n",
    "y_train_pred = log_model.predict(X_train_scaled)\n",
    "y_val_pred = log_model.predict(X_val_scaled)\n",
    "y_test_pred = log_model.predict(X_test_scaled)\n",
    "\n",
    "# Evaluate model performance\n",
    "train_acc = accuracy_score(y_train, y_train_pred)\n",
    "val_acc = accuracy_score(y_val, y_val_pred)\n",
    "test_acc = accuracy_score(y_test, y_test_pred)\n",
    "\n",
    "train_precision = precision_score(y_train, y_train_pred)\n",
    "val_precision = precision_score(y_val, y_val_pred)\n",
    "test_precision = precision_score(y_test, y_test_pred)\n",
    "\n",
    "train_recall = recall_score(y_train, y_train_pred)\n",
    "val_recall = recall_score(y_val, y_val_pred)\n",
    "test_recall = recall_score(y_test, y_test_pred)\n",
    "\n",
    "train_f1 = f1_score(y_train, y_train_pred)\n",
    "val_f1 = f1_score(y_val, y_val_pred)\n",
    "test_f1 = f1_score(y_test, y_test_pred)\n",
    "\n",
    "# Print results\n",
    "print(f\"Train Accuracy: {train_acc:.4f}, Precision: {train_precision:.4f}, Recall: {train_recall:.4f}, F1: {train_f1:.4f}\")\n",
    "print(f\"Validation Accuracy: {val_acc:.4f}, Precision: {val_precision:.4f}, Recall: {val_recall:.4f}, F1: {val_f1:.4f}\")\n",
    "print(f\"Test Accuracy: {test_acc:.4f}, Precision: {test_precision:.4f}, Recall: {test_recall:.4f}, F1: {test_f1:.4f}\")\n"
   ]
  },
  {
   "cell_type": "markdown",
   "id": "db5c8517-273c-4a3b-b0e9-fe5347a30287",
   "metadata": {},
   "source": [
    "2. Random Forest "
   ]
  },
  {
   "cell_type": "code",
   "execution_count": 39,
   "id": "9028c65a-432c-47af-acb6-0890d90c4e4d",
   "metadata": {},
   "outputs": [
    {
     "name": "stdout",
     "output_type": "stream",
     "text": [
      "Train Accuracy: 1.0000, Precision: 1.0000, Recall: 1.0000, F1: 1.0000\n",
      "Validation Accuracy: 1.0000, Precision: 1.0000, Recall: 0.9999, F1: 1.0000\n",
      "Test Accuracy: 1.0000, Precision: 1.0000, Recall: 0.9999, F1: 0.9999\n"
     ]
    }
   ],
   "source": [
    "# Train Random Forest model with a different variable name\n",
    "rf_model_MIS = RandomForestClassifier(n_estimators=10, random_state=42)\n",
    "rf_model_MIS.fit(X_train, y_train)  # Use unscaled X_train\n",
    "# Predictions\n",
    "y_train_pred = rf_model_MIS.predict(X_train)\n",
    "y_val_pred = rf_model_MIS.predict(X_val)\n",
    "y_test_pred = rf_model_MIS.predict(X_test)\n",
    "\n",
    "# Evaluate model performance\n",
    "train_acc = accuracy_score(y_train, y_train_pred)\n",
    "val_acc = accuracy_score(y_val, y_val_pred)\n",
    "test_acc = accuracy_score(y_test, y_test_pred)\n",
    "\n",
    "train_precision = precision_score(y_train, y_train_pred)\n",
    "val_precision = precision_score(y_val, y_val_pred)\n",
    "test_precision = precision_score(y_test, y_test_pred)\n",
    "\n",
    "train_recall = recall_score(y_train, y_train_pred)\n",
    "val_recall = recall_score(y_val, y_val_pred)\n",
    "test_recall = recall_score(y_test, y_test_pred)\n",
    "\n",
    "train_f1 = f1_score(y_train, y_train_pred)\n",
    "val_f1 = f1_score(y_val, y_val_pred)\n",
    "test_f1 = f1_score(y_test, y_test_pred)\n",
    "\n",
    "# Print results\n",
    "print(f\"Train Accuracy: {train_acc:.4f}, Precision: {train_precision:.4f}, Recall: {train_recall:.4f}, F1: {train_f1:.4f}\")\n",
    "print(f\"Validation Accuracy: {val_acc:.4f}, Precision: {val_precision:.4f}, Recall: {val_recall:.4f}, F1: {val_f1:.4f}\")\n",
    "print(f\"Test Accuracy: {test_acc:.4f}, Precision: {test_precision:.4f}, Recall: {test_recall:.4f}, F1: {test_f1:.4f}\")\n"
   ]
  },
  {
   "cell_type": "markdown",
   "id": "d3383965-8218-4747-bb82-43e3b8ba5228",
   "metadata": {},
   "source": [
    "3. XG Boost "
   ]
  },
  {
   "cell_type": "code",
   "execution_count": 40,
   "id": "12a682fa-e9ad-4b93-a1d7-f835cfd53a24",
   "metadata": {},
   "outputs": [
    {
     "name": "stdout",
     "output_type": "stream",
     "text": [
      "Train Accuracy: 0.9998, Precision: 1.0000, Recall: 0.9994, F1: 0.9997\n",
      "Validation Accuracy: 0.9998, Precision: 0.9999, Recall: 0.9991, F1: 0.9995\n",
      "Test Accuracy: 0.9999, Precision: 0.9999, Recall: 0.9996, F1: 0.9997\n"
     ]
    }
   ],
   "source": [
    "# Train XGBoost model\n",
    "xgb_model = XGBClassifier(n_estimators=50, random_state=42, eval_metric=\"logloss\")\n",
    "xgb_model.fit(X_train, y_train)\n",
    "\n",
    "# Predictions\n",
    "y_train_pred = xgb_model.predict(X_train)\n",
    "y_val_pred = xgb_model.predict(X_val)\n",
    "y_test_pred = xgb_model.predict(X_test)\n",
    "\n",
    "# Evaluate model performance\n",
    "train_acc = accuracy_score(y_train, y_train_pred)\n",
    "val_acc = accuracy_score(y_val, y_val_pred)\n",
    "test_acc = accuracy_score(y_test, y_test_pred)\n",
    "\n",
    "train_precision = precision_score(y_train, y_train_pred)\n",
    "val_precision = precision_score(y_val, y_val_pred)\n",
    "test_precision = precision_score(y_test, y_test_pred)\n",
    "\n",
    "train_recall = recall_score(y_train, y_train_pred)\n",
    "val_recall = recall_score(y_val, y_val_pred)\n",
    "test_recall = recall_score(y_test, y_test_pred)\n",
    "\n",
    "train_f1 = f1_score(y_train, y_train_pred)\n",
    "val_f1 = f1_score(y_val, y_val_pred)\n",
    "test_f1 = f1_score(y_test, y_test_pred)\n",
    "\n",
    "# Print results\n",
    "print(f\"Train Accuracy: {train_acc:.4f}, Precision: {train_precision:.4f}, Recall: {train_recall:.4f}, F1: {train_f1:.4f}\")\n",
    "print(f\"Validation Accuracy: {val_acc:.4f}, Precision: {val_precision:.4f}, Recall: {val_recall:.4f}, F1: {val_f1:.4f}\")\n",
    "print(f\"Test Accuracy: {test_acc:.4f}, Precision: {test_precision:.4f}, Recall: {test_recall:.4f}, F1: {test_f1:.4f}\")\n"
   ]
  },
  {
   "cell_type": "markdown",
   "id": "1a9488e4-b5e6-4da2-b253-072554e9aefc",
   "metadata": {},
   "source": [
    "4. Support Machine Vectors "
   ]
  },
  {
   "cell_type": "markdown",
   "id": "3f060a35-dd9c-4013-a1e8-9d9212d47710",
   "metadata": {},
   "source": [
    "Out of the four models, SVM is the worst performer. It has a large MSE and a negative r-squared meaning that it is not the right model for this dataset. \n",
    "\n",
    "Logistic regression, Random Forest, and XGBoost all had small MSE, large r-squared, and accuracy clos to 100%. "
   ]
  },
  {
   "cell_type": "code",
   "execution_count": 30,
   "id": "dd036b8b-70c6-4156-8957-01168037eaf4",
   "metadata": {},
   "outputs": [
    {
     "name": "stdout",
     "output_type": "stream",
     "text": [
      "Train MSE: 0.0065, R²: 0.9631, Accuracy: 0.9935\n",
      "Validation MSE: 0.0071, R²: 0.9607, Accuracy: 0.9929\n",
      "Test MSE: 0.0069, R²: 0.9617, Accuracy: 0.9931\n"
     ]
    }
   ],
   "source": [
    "# Subsample 2% of the training data\n",
    "X_train_sub3, _, y_train_sub3, _ = train_test_split(X_train, y_train, train_size=0.02, random_state=42, shuffle=True)\n",
    "\n",
    "# Scale features\n",
    "scaler = StandardScaler()\n",
    "X_train_sub3_scaled = scaler.fit_transform(X_train_sub3)\n",
    "X_val_scaled = scaler.transform(X_val)\n",
    "X_test_scaled = scaler.transform(X_test)\n",
    "\n",
    "# Train LinearSVC model with scaled data\n",
    "svm_model = LinearSVC(max_iter=500, random_state=42)\n",
    "svm_model.fit(X_train_sub3_scaled, y_train_sub3)\n",
    "\n",
    "# Predictions on scaled data\n",
    "y_train_pred = svm_model.predict(X_train_sub3_scaled)\n",
    "y_val_pred = svm_model.predict(X_val_scaled)\n",
    "y_test_pred = svm_model.predict(X_test_scaled)\n",
    "\n",
    "# Evaluate model performance\n",
    "train_mse = mean_squared_error(y_train_sub3, y_train_pred)\n",
    "val_mse = mean_squared_error(y_val, y_val_pred)\n",
    "test_mse = mean_squared_error(y_test, y_test_pred)\n",
    "\n",
    "train_r2 = r2_score(y_train_sub3, y_train_pred)\n",
    "val_r2 = r2_score(y_val, y_val_pred)\n",
    "test_r2 = r2_score(y_test, y_test_pred)\n",
    "\n",
    "train_acc = accuracy_score(y_train_sub3, y_train_pred)\n",
    "val_acc = accuracy_score(y_val, y_val_pred)\n",
    "test_acc = accuracy_score(y_test, y_test_pred)\n",
    "\n",
    "# Print results\n",
    "print(f\"Train MSE: {train_mse:.4f}, R²: {train_r2:.4f}, Accuracy: {train_acc:.4f}\")\n",
    "print(f\"Validation MSE: {val_mse:.4f}, R²: {val_r2:.4f}, Accuracy: {val_acc:.4f}\")\n",
    "print(f\"Test MSE: {test_mse:.4f}, R²: {test_r2:.4f}, Accuracy: {test_acc:.4f}\")"
   ]
  },
  {
   "cell_type": "code",
   "execution_count": 31,
   "id": "74f3611e-d9b6-46fa-8786-4c9efd46cd87",
   "metadata": {},
   "outputs": [
    {
     "data": {
      "text/html": [
       "<div>\n",
       "<style scoped>\n",
       "    .dataframe tbody tr th:only-of-type {\n",
       "        vertical-align: middle;\n",
       "    }\n",
       "\n",
       "    .dataframe tbody tr th {\n",
       "        vertical-align: top;\n",
       "    }\n",
       "\n",
       "    .dataframe thead th {\n",
       "        text-align: right;\n",
       "    }\n",
       "</style>\n",
       "<table border=\"1\" class=\"dataframe\">\n",
       "  <thead>\n",
       "    <tr style=\"text-align: right;\">\n",
       "      <th></th>\n",
       "      <th>Model</th>\n",
       "      <th>Train MSE</th>\n",
       "      <th>Train R²</th>\n",
       "      <th>Train Accuracy</th>\n",
       "      <th>Val MSE</th>\n",
       "      <th>Val R²</th>\n",
       "      <th>Val Accuracy</th>\n",
       "      <th>Test MSE</th>\n",
       "      <th>Test R²</th>\n",
       "      <th>Test Accuracy</th>\n",
       "    </tr>\n",
       "  </thead>\n",
       "  <tbody>\n",
       "    <tr>\n",
       "      <th>0</th>\n",
       "      <td>Logistic Regression</td>\n",
       "      <td>0.0070</td>\n",
       "      <td>0.9611</td>\n",
       "      <td>0.9930</td>\n",
       "      <td>0.0071</td>\n",
       "      <td>0.9608</td>\n",
       "      <td>0.9929</td>\n",
       "      <td>0.0068</td>\n",
       "      <td>0.9618</td>\n",
       "      <td>0.9932</td>\n",
       "    </tr>\n",
       "    <tr>\n",
       "      <th>1</th>\n",
       "      <td>Random Forest</td>\n",
       "      <td>0.0016</td>\n",
       "      <td>0.9912</td>\n",
       "      <td>0.9984</td>\n",
       "      <td>0.0074</td>\n",
       "      <td>0.9587</td>\n",
       "      <td>0.9926</td>\n",
       "      <td>0.0071</td>\n",
       "      <td>0.9602</td>\n",
       "      <td>0.9929</td>\n",
       "    </tr>\n",
       "    <tr>\n",
       "      <th>2</th>\n",
       "      <td>XGBoost</td>\n",
       "      <td>0.0070</td>\n",
       "      <td>0.9613</td>\n",
       "      <td>0.9930</td>\n",
       "      <td>0.0071</td>\n",
       "      <td>0.9608</td>\n",
       "      <td>0.9929</td>\n",
       "      <td>0.0069</td>\n",
       "      <td>0.9617</td>\n",
       "      <td>0.9931</td>\n",
       "    </tr>\n",
       "    <tr>\n",
       "      <th>3</th>\n",
       "      <td>Linear SVM</td>\n",
       "      <td>0.0065</td>\n",
       "      <td>0.9631</td>\n",
       "      <td>0.9935</td>\n",
       "      <td>0.0071</td>\n",
       "      <td>0.9607</td>\n",
       "      <td>0.9929</td>\n",
       "      <td>0.0069</td>\n",
       "      <td>0.9617</td>\n",
       "      <td>0.9931</td>\n",
       "    </tr>\n",
       "  </tbody>\n",
       "</table>\n",
       "</div>"
      ],
      "text/plain": [
       "                 Model  Train MSE  Train R²  Train Accuracy  Val MSE  Val R²  \\\n",
       "0  Logistic Regression     0.0070    0.9611          0.9930   0.0071  0.9608   \n",
       "1        Random Forest     0.0016    0.9912          0.9984   0.0074  0.9587   \n",
       "2              XGBoost     0.0070    0.9613          0.9930   0.0071  0.9608   \n",
       "3           Linear SVM     0.0065    0.9631          0.9935   0.0071  0.9607   \n",
       "\n",
       "   Val Accuracy  Test MSE  Test R²  Test Accuracy  \n",
       "0        0.9929    0.0068   0.9618         0.9932  \n",
       "1        0.9926    0.0071   0.9602         0.9929  \n",
       "2        0.9929    0.0069   0.9617         0.9931  \n",
       "3        0.9929    0.0069   0.9617         0.9931  "
      ]
     },
     "execution_count": 31,
     "metadata": {},
     "output_type": "execute_result"
    }
   ],
   "source": [
    "#compare model performance \n",
    "# Create a dictionary of repayment results\n",
    "results_repayment = {\n",
    "    'Model': ['Logistic Regression', 'Random Forest', 'XGBoost', 'Linear SVM'],\n",
    "    'Train MSE': [0.0070, 0.0016, 0.0070, 0.0065],\n",
    "    'Train R²': [0.9611, 0.9912, 0.9613, 0.9631],\n",
    "    'Train Accuracy': [0.9930, 0.9984, 0.9930, 0.9935],\n",
    "    'Val MSE': [0.0071, 0.0074, 0.0071, 0.0071],\n",
    "    'Val R²': [0.9608, 0.9587, 0.9608, 0.9607],\n",
    "    'Val Accuracy': [0.9929, 0.9926, 0.9929, 0.9929],\n",
    "    'Test MSE': [0.0068, 0.0071, 0.0069, 0.0069],\n",
    "    'Test R²': [0.9618, 0.9602, 0.9617, 0.9617],\n",
    "    'Test Accuracy': [0.9932, 0.9929, 0.9931, 0.9931]\n",
    "}\n",
    "\n",
    "# Convert to DataFrame\n",
    "results_df_repayment = pd.DataFrame(results_repayment)\n",
    "\n",
    "# Display it\n",
    "results_df_repayment\n"
   ]
  },
  {
   "cell_type": "code",
   "execution_count": null,
   "id": "d06f3c55-f16c-4747-8fea-18b699388e86",
   "metadata": {},
   "outputs": [],
   "source": []
  },
  {
   "cell_type": "markdown",
   "id": "6eb48519-eb6d-4d9f-bafe-86523b7dc6b1",
   "metadata": {},
   "source": [
    "### B. Loan Default Prediction\n",
    "\n",
    "Predicting loan defaults can help financial institutions assess risks before issuing loans."
   ]
  },
  {
   "cell_type": "code",
   "execution_count": 32,
   "id": "58f9ca66-c67e-4961-b56e-e700e30e1b31",
   "metadata": {},
   "outputs": [],
   "source": [
    "# Define independent variables (features)\n",
    "features = ['Term', 'NoEmp', 'NewExist', 'CreateJob', 'RetainedJob', 'DisbursementGross', 'ChgOffPrinGr', 'SBA_Appv', 'UrbanRural_binary', 'MIS_Status_Binary', \n",
    "            'IsFranchise', 'LowDoc_binary', 'RevLineCr_binary',\n",
    "            'Sector_Accommodation & Food', 'Sector_Admin & Waste Mgmt',\n",
    "            'Sector_Agriculture', 'Sector_Arts & Recreation', 'Sector_Construction',\n",
    "            'Sector_Education', 'Sector_Finance', 'Sector_Healthcare',\n",
    "            'Sector_Information', 'Sector_Management', 'Sector_Manufacturing',\n",
    "            'Sector_Mining', 'Sector_Other Services', 'Sector_Professional Services',\n",
    "            'Sector_Public Admin', 'Sector_Real Estate', 'Sector_Retail Trade',\n",
    "            'Sector_Transportation', 'Sector_Unknown', 'Sector_Utilities',\n",
    "            'Sector_Wholesale Trade']\n",
    "\n",
    "# Define target variable\n",
    "X = df[features]\n",
    "y = df['ChgOffDate_binary']\n",
    "\n",
    "# Split data into 70% train, 10% validation, 20% test\n",
    "X_train_val, X_test, y_train_val, y_test = train_test_split(X, y, test_size=0.20, random_state=42)\n",
    "X_train, X_val, y_train, y_val = train_test_split(X_train_val, y_train_val, test_size=0.125, random_state=42)"
   ]
  },
  {
   "cell_type": "code",
   "execution_count": 33,
   "id": "d56918e0-ee22-434a-b608-a0c21c6e948e",
   "metadata": {},
   "outputs": [
    {
     "name": "stdout",
     "output_type": "stream",
     "text": [
      "Train set size: 400632\n",
      "Validation set size: 57234\n",
      "Test set size: 114467\n"
     ]
    }
   ],
   "source": [
    "#see the split\n",
    "print(f\"Train set size: {X_train.shape[0]}\")\n",
    "print(f\"Validation set size: {X_val.shape[0]}\")\n",
    "print(f\"Test set size: {X_test.shape[0]}\")"
   ]
  },
  {
   "cell_type": "markdown",
   "id": "879885b9-8174-495b-9911-d0dda1b1ab4a",
   "metadata": {},
   "source": [
    "1. Logistic regression "
   ]
  },
  {
   "cell_type": "code",
   "execution_count": 34,
   "id": "768eb7e4-01ce-4b45-8de6-c3347738c811",
   "metadata": {},
   "outputs": [
    {
     "name": "stdout",
     "output_type": "stream",
     "text": [
      "Train Accuracy: 0.9977\n",
      "Validation Accuracy: 0.9975\n",
      "Test Accuracy: 0.9977\n"
     ]
    }
   ],
   "source": [
    "# Standardize the features (Logistic Regression performs better with normalized data)\n",
    "scaler = StandardScaler()\n",
    "X_train_scaled = scaler.fit_transform(X_train)\n",
    "X_val_scaled = scaler.transform(X_val)\n",
    "X_test_scaled = scaler.transform(X_test)\n",
    "\n",
    "# Train Logistic Regression model\n",
    "log_model = LogisticRegression()\n",
    "log_model.fit(X_train_scaled, y_train)\n",
    "\n",
    "# Predictions\n",
    "y_train_pred = log_model.predict(X_train_scaled)\n",
    "y_val_pred = log_model.predict(X_val_scaled)\n",
    "y_test_pred = log_model.predict(X_test_scaled)\n",
    "\n",
    "# Evaluate model performance\n",
    "train_acc = accuracy_score(y_train, y_train_pred)\n",
    "val_acc = accuracy_score(y_val, y_val_pred)\n",
    "test_acc = accuracy_score(y_test, y_test_pred)\n",
    "\n",
    "# Print results\n",
    "print(f\"Train Accuracy: {train_acc:.4f}\")\n",
    "print(f\"Validation Accuracy: {val_acc:.4f}\")\n",
    "print(f\"Test Accuracy: {test_acc:.4f}\")"
   ]
  },
  {
   "cell_type": "markdown",
   "id": "0fe45fb7-4268-4632-ba1e-2cc095a37906",
   "metadata": {},
   "source": [
    "2. Random Forest "
   ]
  },
  {
   "cell_type": "code",
   "execution_count": 35,
   "id": "e989de30-2e35-4175-8f05-9b230c47b561",
   "metadata": {},
   "outputs": [
    {
     "name": "stdout",
     "output_type": "stream",
     "text": [
      "Train Accuracy: 1.0000, Precision: 1.0000, Recall: 1.0000, F1: 1.0000\n",
      "Validation Accuracy: 1.0000, Precision: 1.0000, Recall: 0.9999, F1: 1.0000\n",
      "Test Accuracy: 1.0000, Precision: 1.0000, Recall: 0.9999, F1: 0.9999\n",
      "Test Confusion Matrix:\n",
      "[[86855     0]\n",
      " [    4 27608]]\n"
     ]
    }
   ],
   "source": [
    "# Train RandomForestClassifier model using the already split data\n",
    "rf_model = RandomForestClassifier(n_estimators=10, random_state=42)\n",
    "rf_model.fit(X_train, y_train)  # Use unscaled X_train\n",
    "\n",
    "# Predictions\n",
    "y_train_pred = rf_model.predict(X_train)\n",
    "y_val_pred = rf_model.predict(X_val)\n",
    "y_test_pred = rf_model.predict(X_test)\n",
    "\n",
    "# Evaluate model performance\n",
    "train_acc = accuracy_score(y_train, y_train_pred)\n",
    "val_acc = accuracy_score(y_val, y_val_pred)\n",
    "test_acc = accuracy_score(y_test, y_test_pred)\n",
    "train_precision = precision_score(y_train, y_train_pred)\n",
    "val_precision = precision_score(y_val, y_val_pred)\n",
    "test_precision = precision_score(y_test, y_test_pred)\n",
    "train_recall = recall_score(y_train, y_train_pred)\n",
    "val_recall = recall_score(y_val, y_val_pred)\n",
    "test_recall = recall_score(y_test, y_test_pred)\n",
    "train_f1 = f1_score(y_train, y_train_pred)\n",
    "val_f1 = f1_score(y_val, y_val_pred)\n",
    "test_f1 = f1_score(y_test, y_test_pred)\n",
    "\n",
    "# Print results\n",
    "print(f\"Train Accuracy: {train_acc:.4f}, Precision: {train_precision:.4f}, Recall: {train_recall:.4f}, F1: {train_f1:.4f}\")\n",
    "print(f\"Validation Accuracy: {val_acc:.4f}, Precision: {val_precision:.4f}, Recall: {val_recall:.4f}, F1: {val_f1:.4f}\")\n",
    "print(f\"Test Accuracy: {test_acc:.4f}, Precision: {test_precision:.4f}, Recall: {test_recall:.4f}, F1: {test_f1:.4f}\")\n",
    "\n",
    "# Confusion Matrix\n",
    "print(\"Test Confusion Matrix:\")\n",
    "print(confusion_matrix(y_test, y_test_pred))"
   ]
  },
  {
   "cell_type": "markdown",
   "id": "1e4d0dda-05f8-4a52-8108-033ea01126f0",
   "metadata": {},
   "source": [
    "3. XGBoost "
   ]
  },
  {
   "cell_type": "code",
   "execution_count": 41,
   "id": "b540de2d-1fc8-4f78-a9bb-eaa0f6b5dc80",
   "metadata": {},
   "outputs": [
    {
     "name": "stdout",
     "output_type": "stream",
     "text": [
      "Train Accuracy: 0.9998, Precision: 1.0000, Recall: 0.9994, F1: 0.9997\n",
      "Validation Accuracy: 0.9998, Precision: 0.9999, Recall: 0.9991, F1: 0.9995\n",
      "Test Accuracy: 0.9999, Precision: 0.9999, Recall: 0.9996, F1: 0.9997\n",
      "Test Confusion Matrix:\n",
      "[[86853     2]\n",
      " [   12 27600]]\n"
     ]
    }
   ],
   "source": [
    "# Train XGBoost model (using already split data)\n",
    "xgb_model = XGBClassifier(n_estimators=50, random_state=42, eval_metric=\"logloss\")\n",
    "xgb_model.fit(X_train, y_train)\n",
    "\n",
    "# Predictions\n",
    "y_train_pred = xgb_model.predict(X_train)\n",
    "y_val_pred = xgb_model.predict(X_val)\n",
    "y_test_pred = xgb_model.predict(X_test)\n",
    "\n",
    "# Evaluate model performance\n",
    "train_acc = accuracy_score(y_train, y_train_pred)\n",
    "val_acc = accuracy_score(y_val, y_val_pred)\n",
    "test_acc = accuracy_score(y_test, y_test_pred)\n",
    "\n",
    "train_precision = precision_score(y_train, y_train_pred)\n",
    "val_precision = precision_score(y_val, y_val_pred)\n",
    "test_precision = precision_score(y_test, y_test_pred)\n",
    "\n",
    "train_recall = recall_score(y_train, y_train_pred)\n",
    "val_recall = recall_score(y_val, y_val_pred)\n",
    "test_recall = recall_score(y_test, y_test_pred)\n",
    "\n",
    "train_f1 = f1_score(y_train, y_train_pred)\n",
    "val_f1 = f1_score(y_val, y_val_pred)\n",
    "test_f1 = f1_score(y_test, y_test_pred)\n",
    "\n",
    "# Print results\n",
    "print(f\"Train Accuracy: {train_acc:.4f}, Precision: {train_precision:.4f}, Recall: {train_recall:.4f}, F1: {train_f1:.4f}\")\n",
    "print(f\"Validation Accuracy: {val_acc:.4f}, Precision: {val_precision:.4f}, Recall: {val_recall:.4f}, F1: {val_f1:.4f}\")\n",
    "print(f\"Test Accuracy: {test_acc:.4f}, Precision: {test_precision:.4f}, Recall: {test_recall:.4f}, F1: {test_f1:.4f}\")\n",
    "\n",
    "# Confusion Matrix\n",
    "print(\"Test Confusion Matrix:\")\n",
    "print(confusion_matrix(y_test, y_test_pred))"
   ]
  },
  {
   "cell_type": "markdown",
   "id": "51e7e420-cafc-4db8-b61f-270f44ff51b6",
   "metadata": {},
   "source": [
    "4. SVM "
   ]
  },
  {
   "cell_type": "code",
   "execution_count": 37,
   "id": "86d81caf-f31b-460e-9604-689905bcbf8a",
   "metadata": {},
   "outputs": [
    {
     "name": "stdout",
     "output_type": "stream",
     "text": [
      "Train Accuracy: 0.9960, Precision: 1.0000, Recall: 0.9829, F1: 0.9914\n",
      "Validation Accuracy: 0.9960, Precision: 0.9999, Recall: 0.9837, F1: 0.9918\n",
      "Test Accuracy: 0.9960, Precision: 0.9997, Recall: 0.9837, F1: 0.9916\n"
     ]
    }
   ],
   "source": [
    "# Subsample 2% of the training data\n",
    "X_train_sub4, _, y_train_sub4, _ = train_test_split(X_train, y_train, train_size=0.02, random_state=42, shuffle=True)\n",
    "\n",
    "# Standardize features\n",
    "scaler = StandardScaler()\n",
    "X_train_sub4_scaled = scaler.fit_transform(X_train_sub4)\n",
    "X_val_scaled = scaler.transform(X_val)\n",
    "X_test_scaled = scaler.transform(X_test)\n",
    "\n",
    "# Train Linear SVM model\n",
    "svm_model = LinearSVC(max_iter=1000, random_state=42)\n",
    "svm_model.fit(X_train_sub4_scaled, y_train_sub4)\n",
    "\n",
    "# Predictions\n",
    "y_train_pred = svm_model.predict(X_train_sub4_scaled)\n",
    "y_val_pred = svm_model.predict(X_val_scaled)\n",
    "y_test_pred = svm_model.predict(X_test_scaled)\n",
    "\n",
    "# Evaluate model performance\n",
    "train_acc = accuracy_score(y_train_sub4, y_train_pred)\n",
    "val_acc = accuracy_score(y_val, y_val_pred)\n",
    "test_acc = accuracy_score(y_test, y_test_pred)\n",
    "\n",
    "train_precision = precision_score(y_train_sub4, y_train_pred)\n",
    "val_precision = precision_score(y_val, y_val_pred)\n",
    "test_precision = precision_score(y_test, y_test_pred)\n",
    "\n",
    "train_recall = recall_score(y_train_sub4, y_train_pred)\n",
    "val_recall = recall_score(y_val, y_val_pred)\n",
    "test_recall = recall_score(y_test, y_test_pred)\n",
    "\n",
    "train_f1 = f1_score(y_train_sub4, y_train_pred)\n",
    "val_f1 = f1_score(y_val, y_val_pred)\n",
    "test_f1 = f1_score(y_test, y_test_pred)\n",
    "\n",
    "# Print results\n",
    "print(f\"Train Accuracy: {train_acc:.4f}, Precision: {train_precision:.4f}, Recall: {train_recall:.4f}, F1: {train_f1:.4f}\")\n",
    "print(f\"Validation Accuracy: {val_acc:.4f}, Precision: {val_precision:.4f}, Recall: {val_recall:.4f}, F1: {val_f1:.4f}\")\n",
    "print(f\"Test Accuracy: {test_acc:.4f}, Precision: {test_precision:.4f}, Recall: {test_recall:.4f}, F1: {test_f1:.4f}\")\n"
   ]
  },
  {
   "cell_type": "code",
   "execution_count": null,
   "id": "26235740-ca9b-45f6-bab8-00c3997279bb",
   "metadata": {},
   "outputs": [],
   "source": []
  }
 ],
 "metadata": {
  "kernelspec": {
   "display_name": "Python 3 (ipykernel)",
   "language": "python",
   "name": "python3"
  },
  "language_info": {
   "codemirror_mode": {
    "name": "ipython",
    "version": 3
   },
   "file_extension": ".py",
   "mimetype": "text/x-python",
   "name": "python",
   "nbconvert_exporter": "python",
   "pygments_lexer": "ipython3",
   "version": "3.10.11"
  }
 },
 "nbformat": 4,
 "nbformat_minor": 5
}
