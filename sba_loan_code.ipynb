{
 "cells": [
  {
   "cell_type": "markdown",
   "id": "7bdc2641-d359-44e2-8269-7598e4b3d1b8",
   "metadata": {},
   "source": [
    "### SBA Loan Project \n",
    "\n",
    "#### Josahn Oginga "
   ]
  },
  {
   "cell_type": "code",
   "execution_count": 1,
   "id": "015dd7d3-fb6a-46b5-8689-5a8ddd165cb2",
   "metadata": {},
   "outputs": [],
   "source": [
    "#import libraries \n",
    "import pandas as pd\n",
    "import numpy as np "
   ]
  },
  {
   "cell_type": "code",
   "execution_count": null,
   "id": "3cd35019-1a7e-4be7-85e2-3d58c7adbff8",
   "metadata": {},
   "outputs": [],
   "source": []
  }
 ],
 "metadata": {
  "kernelspec": {
   "display_name": "Python 3 (ipykernel)",
   "language": "python",
   "name": "python3"
  },
  "language_info": {
   "codemirror_mode": {
    "name": "ipython",
    "version": 3
   },
   "file_extension": ".py",
   "mimetype": "text/x-python",
   "name": "python",
   "nbconvert_exporter": "python",
   "pygments_lexer": "ipython3",
   "version": "3.10.11"
  }
 },
 "nbformat": 4,
 "nbformat_minor": 5
}
