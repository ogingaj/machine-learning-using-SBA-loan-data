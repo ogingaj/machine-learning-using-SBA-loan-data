{
 "cells": [
  {
   "cell_type": "markdown",
   "id": "7bdc2641-d359-44e2-8269-7598e4b3d1b8",
   "metadata": {},
   "source": [
    "### SBA Loan Project \n",
    "\n",
    "#### Josahn Oginga \n",
    "\n",
    "#### Stage 2"
   ]
  },
  {
   "cell_type": "code",
   "execution_count": 1,
   "id": "015dd7d3-fb6a-46b5-8689-5a8ddd165cb2",
   "metadata": {},
   "outputs": [],
   "source": [
    "#import libraries \n",
    "import pandas as pd\n",
    "import numpy as np "
   ]
  },
  {
   "cell_type": "code",
   "execution_count": 2,
   "id": "3cd35019-1a7e-4be7-85e2-3d58c7adbff8",
   "metadata": {},
   "outputs": [
    {
     "name": "stderr",
     "output_type": "stream",
     "text": [
      "C:\\Users\\Ochieng' Oginga\\AppData\\Local\\Temp\\ipykernel_39968\\2981810954.py:2: DtypeWarning: Columns (9) have mixed types. Specify dtype option on import or set low_memory=False.\n",
      "  df = pd.read_csv(r\"C:\\Users\\Ochieng' Oginga\\Documents\\Post_S\\Spring_2025\\Data_Science_II\\Project\\Data\\Oginga_Stage1.csv\")\n"
     ]
    },
    {
     "data": {
      "text/html": [
       "<div>\n",
       "<style scoped>\n",
       "    .dataframe tbody tr th:only-of-type {\n",
       "        vertical-align: middle;\n",
       "    }\n",
       "\n",
       "    .dataframe tbody tr th {\n",
       "        vertical-align: top;\n",
       "    }\n",
       "\n",
       "    .dataframe thead th {\n",
       "        text-align: right;\n",
       "    }\n",
       "</style>\n",
       "<table border=\"1\" class=\"dataframe\">\n",
       "  <thead>\n",
       "    <tr style=\"text-align: right;\">\n",
       "      <th></th>\n",
       "      <th>LoanNr_ChkDgt</th>\n",
       "      <th>Name</th>\n",
       "      <th>City</th>\n",
       "      <th>State</th>\n",
       "      <th>Zip</th>\n",
       "      <th>Bank</th>\n",
       "      <th>BankState</th>\n",
       "      <th>NAICS</th>\n",
       "      <th>ApprovalDate</th>\n",
       "      <th>ApprovalFY</th>\n",
       "      <th>...</th>\n",
       "      <th>RevLineCr</th>\n",
       "      <th>LowDoc</th>\n",
       "      <th>ChgOffDate</th>\n",
       "      <th>DisbursementDate</th>\n",
       "      <th>DisbursementGross</th>\n",
       "      <th>BalanceGross</th>\n",
       "      <th>MIS_Status</th>\n",
       "      <th>ChgOffPrinGr</th>\n",
       "      <th>GrAppv</th>\n",
       "      <th>SBA_Appv</th>\n",
       "    </tr>\n",
       "  </thead>\n",
       "  <tbody>\n",
       "    <tr>\n",
       "      <th>0</th>\n",
       "      <td>1000014003</td>\n",
       "      <td>ABC HOBBYCRAFT</td>\n",
       "      <td>EVANSVILLE</td>\n",
       "      <td>IN</td>\n",
       "      <td>47711</td>\n",
       "      <td>FIFTH THIRD BANK</td>\n",
       "      <td>OH</td>\n",
       "      <td>451120</td>\n",
       "      <td>28-Feb-97</td>\n",
       "      <td>1997</td>\n",
       "      <td>...</td>\n",
       "      <td>N</td>\n",
       "      <td>Y</td>\n",
       "      <td>NaN</td>\n",
       "      <td>28-Feb-99</td>\n",
       "      <td>$60,000.00</td>\n",
       "      <td>$0.00</td>\n",
       "      <td>P I F</td>\n",
       "      <td>$0.00</td>\n",
       "      <td>$60,000.00</td>\n",
       "      <td>$48,000.00</td>\n",
       "    </tr>\n",
       "    <tr>\n",
       "      <th>1</th>\n",
       "      <td>1000024006</td>\n",
       "      <td>LANDMARK BAR &amp; GRILLE (THE)</td>\n",
       "      <td>NEW PARIS</td>\n",
       "      <td>IN</td>\n",
       "      <td>46526</td>\n",
       "      <td>1ST SOURCE BANK</td>\n",
       "      <td>IN</td>\n",
       "      <td>722410</td>\n",
       "      <td>28-Feb-97</td>\n",
       "      <td>1997</td>\n",
       "      <td>...</td>\n",
       "      <td>N</td>\n",
       "      <td>Y</td>\n",
       "      <td>NaN</td>\n",
       "      <td>31-May-97</td>\n",
       "      <td>$40,000.00</td>\n",
       "      <td>$0.00</td>\n",
       "      <td>P I F</td>\n",
       "      <td>$0.00</td>\n",
       "      <td>$40,000.00</td>\n",
       "      <td>$32,000.00</td>\n",
       "    </tr>\n",
       "    <tr>\n",
       "      <th>2</th>\n",
       "      <td>1000034009</td>\n",
       "      <td>WHITLOCK DDS, TODD M.</td>\n",
       "      <td>BLOOMINGTON</td>\n",
       "      <td>IN</td>\n",
       "      <td>47401</td>\n",
       "      <td>GRANT COUNTY STATE BANK</td>\n",
       "      <td>IN</td>\n",
       "      <td>621210</td>\n",
       "      <td>28-Feb-97</td>\n",
       "      <td>1997</td>\n",
       "      <td>...</td>\n",
       "      <td>N</td>\n",
       "      <td>N</td>\n",
       "      <td>NaN</td>\n",
       "      <td>31-Dec-97</td>\n",
       "      <td>$287,000.00</td>\n",
       "      <td>$0.00</td>\n",
       "      <td>P I F</td>\n",
       "      <td>$0.00</td>\n",
       "      <td>$287,000.00</td>\n",
       "      <td>$215,250.00</td>\n",
       "    </tr>\n",
       "    <tr>\n",
       "      <th>3</th>\n",
       "      <td>1000044001</td>\n",
       "      <td>BIG BUCKS PAWN &amp; JEWELRY, LLC</td>\n",
       "      <td>BROKEN ARROW</td>\n",
       "      <td>OK</td>\n",
       "      <td>74012</td>\n",
       "      <td>1ST NATL BK &amp; TR CO OF BROKEN</td>\n",
       "      <td>OK</td>\n",
       "      <td>0</td>\n",
       "      <td>28-Feb-97</td>\n",
       "      <td>1997</td>\n",
       "      <td>...</td>\n",
       "      <td>N</td>\n",
       "      <td>Y</td>\n",
       "      <td>NaN</td>\n",
       "      <td>30-Jun-97</td>\n",
       "      <td>$35,000.00</td>\n",
       "      <td>$0.00</td>\n",
       "      <td>P I F</td>\n",
       "      <td>$0.00</td>\n",
       "      <td>$35,000.00</td>\n",
       "      <td>$28,000.00</td>\n",
       "    </tr>\n",
       "    <tr>\n",
       "      <th>4</th>\n",
       "      <td>1000054004</td>\n",
       "      <td>ANASTASIA CONFECTIONS, INC.</td>\n",
       "      <td>ORLANDO</td>\n",
       "      <td>FL</td>\n",
       "      <td>32801</td>\n",
       "      <td>FLORIDA BUS. DEVEL CORP</td>\n",
       "      <td>FL</td>\n",
       "      <td>0</td>\n",
       "      <td>28-Feb-97</td>\n",
       "      <td>1997</td>\n",
       "      <td>...</td>\n",
       "      <td>N</td>\n",
       "      <td>N</td>\n",
       "      <td>NaN</td>\n",
       "      <td>14-May-97</td>\n",
       "      <td>$229,000.00</td>\n",
       "      <td>$0.00</td>\n",
       "      <td>P I F</td>\n",
       "      <td>$0.00</td>\n",
       "      <td>$229,000.00</td>\n",
       "      <td>$229,000.00</td>\n",
       "    </tr>\n",
       "  </tbody>\n",
       "</table>\n",
       "<p>5 rows × 27 columns</p>\n",
       "</div>"
      ],
      "text/plain": [
       "   LoanNr_ChkDgt                           Name          City State    Zip  \\\n",
       "0     1000014003                 ABC HOBBYCRAFT    EVANSVILLE    IN  47711   \n",
       "1     1000024006    LANDMARK BAR & GRILLE (THE)     NEW PARIS    IN  46526   \n",
       "2     1000034009          WHITLOCK DDS, TODD M.   BLOOMINGTON    IN  47401   \n",
       "3     1000044001  BIG BUCKS PAWN & JEWELRY, LLC  BROKEN ARROW    OK  74012   \n",
       "4     1000054004    ANASTASIA CONFECTIONS, INC.       ORLANDO    FL  32801   \n",
       "\n",
       "                            Bank BankState   NAICS ApprovalDate ApprovalFY  \\\n",
       "0               FIFTH THIRD BANK        OH  451120    28-Feb-97       1997   \n",
       "1                1ST SOURCE BANK        IN  722410    28-Feb-97       1997   \n",
       "2        GRANT COUNTY STATE BANK        IN  621210    28-Feb-97       1997   \n",
       "3  1ST NATL BK & TR CO OF BROKEN        OK       0    28-Feb-97       1997   \n",
       "4        FLORIDA BUS. DEVEL CORP        FL       0    28-Feb-97       1997   \n",
       "\n",
       "   ...  RevLineCr  LowDoc  ChgOffDate  DisbursementDate  DisbursementGross  \\\n",
       "0  ...          N       Y         NaN         28-Feb-99        $60,000.00    \n",
       "1  ...          N       Y         NaN         31-May-97        $40,000.00    \n",
       "2  ...          N       N         NaN         31-Dec-97       $287,000.00    \n",
       "3  ...          N       Y         NaN         30-Jun-97        $35,000.00    \n",
       "4  ...          N       N         NaN         14-May-97       $229,000.00    \n",
       "\n",
       "   BalanceGross  MIS_Status ChgOffPrinGr        GrAppv      SBA_Appv  \n",
       "0        $0.00        P I F       $0.00    $60,000.00    $48,000.00   \n",
       "1        $0.00        P I F       $0.00    $40,000.00    $32,000.00   \n",
       "2        $0.00        P I F       $0.00   $287,000.00   $215,250.00   \n",
       "3        $0.00        P I F       $0.00    $35,000.00    $28,000.00   \n",
       "4        $0.00        P I F       $0.00   $229,000.00   $229,000.00   \n",
       "\n",
       "[5 rows x 27 columns]"
      ]
     },
     "execution_count": 2,
     "metadata": {},
     "output_type": "execute_result"
    }
   ],
   "source": [
    "#load the data \n",
    "df = pd.read_csv(r\"C:\\Users\\Ochieng' Oginga\\Documents\\Post_S\\Spring_2025\\Data_Science_II\\Project\\Data\\Oginga_Stage1.csv\")\n",
    "#show head \n",
    "df.head()"
   ]
  },
  {
   "cell_type": "markdown",
   "id": "9f2c744a-c7aa-4691-80d3-48ee423679bc",
   "metadata": {},
   "source": [
    "#### Preprocessing "
   ]
  },
  {
   "cell_type": "markdown",
   "id": "67da38ef-f831-41f3-b544-a97b1576d19c",
   "metadata": {},
   "source": [
    "1. Handle Missing Values "
   ]
  },
  {
   "cell_type": "code",
   "execution_count": 3,
   "id": "0f07958a-6ddf-4db8-9536-71c861e0f31e",
   "metadata": {},
   "outputs": [
    {
     "name": "stdout",
     "output_type": "stream",
     "text": [
      "Any missing values in the DataFrame: True\n"
     ]
    }
   ],
   "source": [
    "# Check if there are any missing values in the entire DataFrame\n",
    "any_missing = df.isnull().values.any()\n",
    "\n",
    "print(\"Any missing values in the DataFrame:\", any_missing)\n"
   ]
  },
  {
   "cell_type": "markdown",
   "id": "d45a9638-83ec-479d-978b-84d490355d10",
   "metadata": {},
   "source": [
    "Calculate the percentage of missing values per column to identify columns that need to be imputed or if the missing values are too low and won’t reduce the data’s richness and complexity. "
   ]
  },
  {
   "cell_type": "code",
   "execution_count": 4,
   "id": "a39ff43c-a6a9-4f9d-aa21-d4366beebac1",
   "metadata": {},
   "outputs": [
    {
     "name": "stdout",
     "output_type": "stream",
     "text": [
      "LoanNr_ChkDgt         0.000000\n",
      "Name                  0.001557\n",
      "City                  0.003336\n",
      "State                 0.001557\n",
      "Zip                   0.000000\n",
      "Bank                  0.173383\n",
      "BankState             0.174162\n",
      "NAICS                 0.000000\n",
      "ApprovalDate          0.000000\n",
      "ApprovalFY            0.000000\n",
      "Term                  0.000000\n",
      "NoEmp                 0.000000\n",
      "NewExist              0.015125\n",
      "CreateJob             0.000000\n",
      "RetainedJob           0.000000\n",
      "FranchiseCode         0.000000\n",
      "UrbanRural            0.000000\n",
      "RevLineCr             0.503579\n",
      "LowDoc                0.287156\n",
      "ChgOffDate           81.905526\n",
      "DisbursementDate      0.263356\n",
      "DisbursementGross     0.000000\n",
      "BalanceGross          0.000000\n",
      "MIS_Status            0.222095\n",
      "ChgOffPrinGr          0.000000\n",
      "GrAppv                0.000000\n",
      "SBA_Appv              0.000000\n",
      "dtype: float64\n"
     ]
    }
   ],
   "source": [
    "# Calculate the percentage of missing values per column\n",
    "missing_percentage = (df.isnull().mean()) * 100\n",
    "\n",
    "# Print the percentage of missing values\n",
    "print(missing_percentage)\n"
   ]
  },
  {
   "cell_type": "markdown",
   "id": "4b8386c7-f17e-4fd4-8659-f1c71a17388b",
   "metadata": {},
   "source": [
    "Drop rows that have missing values on key variables that cannot be imputed. In this case, empty rows in these columns were dropped: Name, City, State, DisbursementDate, NewExist, Bank, BankState and MIS status. \n",
    "\n",
    "Since this is a large dataset and the variables are non-numeric, it is challenging to impute with a mean or median. "
   ]
  },
  {
   "cell_type": "code",
   "execution_count": 5,
   "id": "f391f4d2-8522-4d84-9791-2ed1c741cde5",
   "metadata": {},
   "outputs": [
    {
     "name": "stdout",
     "output_type": "stream",
     "text": [
      "LoanNr_ChkDgt         0.000000\n",
      "Name                  0.000000\n",
      "City                  0.000000\n",
      "State                 0.000000\n",
      "Zip                   0.000000\n",
      "Bank                  0.000000\n",
      "BankState             0.000000\n",
      "NAICS                 0.000000\n",
      "ApprovalDate          0.000000\n",
      "ApprovalFY            0.000000\n",
      "Term                  0.000000\n",
      "NoEmp                 0.000000\n",
      "NewExist              0.000000\n",
      "CreateJob             0.000000\n",
      "RetainedJob           0.000000\n",
      "FranchiseCode         0.000000\n",
      "UrbanRural            0.000000\n",
      "RevLineCr             0.504762\n",
      "LowDoc                0.284677\n",
      "ChgOffDate           81.863937\n",
      "DisbursementDate      0.000000\n",
      "DisbursementGross     0.000000\n",
      "BalanceGross          0.000000\n",
      "MIS_Status            0.000000\n",
      "ChgOffPrinGr          0.000000\n",
      "GrAppv                0.000000\n",
      "SBA_Appv              0.000000\n",
      "dtype: float64\n"
     ]
    }
   ],
   "source": [
    "# Drop rows where the 'Name',  \"City\", \"State\", \"DisbursementDate\", \"MIS_Status\" column has missing values (NaN)\n",
    "df_clean = df.dropna(subset=['Name', \"City\", \"State\", \"DisbursementDate\", \"MIS_Status\", \"NewExist\", \"BankState\", \"Bank\"])\n",
    "\n",
    "# Check new percentage of missing values per column\n",
    "missing_percentage = (df_clean.isnull().mean()) * 100\n",
    "\n",
    "# Print the percentage of missing values\n",
    "print(missing_percentage)\n"
   ]
  },
  {
   "cell_type": "markdown",
   "id": "300ef006-4437-4f00-87a3-223fefc88d41",
   "metadata": {},
   "source": [
    "2. Binary Ecoding "
   ]
  },
  {
   "cell_type": "markdown",
   "id": "80094b57-5abe-4dfd-95fd-2c024387b7d5",
   "metadata": {},
   "source": [
    "i. Convert charge off date from a date into a binary to handle the missing values: 0 – if there is no date, and 1 if there is a date, and store in ChgOffDate_binary column. "
   ]
  },
  {
   "cell_type": "code",
   "execution_count": 6,
   "id": "3ff696fd-5cdf-46a1-8a82-ab02142e356b",
   "metadata": {},
   "outputs": [
    {
     "name": "stdout",
     "output_type": "stream",
     "text": [
      "       ChgOffDate  ChgOffDate_binary\n",
      "0             NaN                  0\n",
      "1             NaN                  0\n",
      "2             NaN                  0\n",
      "3             NaN                  0\n",
      "4             NaN                  0\n",
      "...           ...                ...\n",
      "899159        NaN                  0\n",
      "899160        NaN                  0\n",
      "899161        NaN                  0\n",
      "899162   8-Mar-00                  1\n",
      "899163        NaN                  0\n",
      "\n",
      "[893292 rows x 2 columns]\n"
     ]
    },
    {
     "name": "stderr",
     "output_type": "stream",
     "text": [
      "C:\\Users\\Ochieng' Oginga\\AppData\\Local\\Temp\\ipykernel_39968\\3815530800.py:3: SettingWithCopyWarning: \n",
      "A value is trying to be set on a copy of a slice from a DataFrame.\n",
      "Try using .loc[row_indexer,col_indexer] = value instead\n",
      "\n",
      "See the caveats in the documentation: https://pandas.pydata.org/pandas-docs/stable/user_guide/indexing.html#returning-a-view-versus-a-copy\n",
      "  df_clean.loc[:, 'ChgOffDate_binary'] = df_clean['ChgOffDate'].notna().astype(int)\n"
     ]
    }
   ],
   "source": [
    "#for charge off date \n",
    "# Use .loc to modify the original DataFrame and ensure you're creating the binary column\n",
    "df_clean.loc[:, 'ChgOffDate_binary'] = df_clean['ChgOffDate'].notna().astype(int)\n",
    "\n",
    "# Print the DataFrame to check the new column\n",
    "print(df_clean[['ChgOffDate', 'ChgOffDate_binary']])\n"
   ]
  },
  {
   "cell_type": "code",
   "execution_count": 7,
   "id": "934b55a3-0915-4ef6-84ae-010442c39b2e",
   "metadata": {},
   "outputs": [
    {
     "data": {
      "text/plain": [
       "(893292, 28)"
      ]
     },
     "execution_count": 7,
     "metadata": {},
     "output_type": "execute_result"
    }
   ],
   "source": [
    "#check shape of data\n",
    "df_clean.shape"
   ]
  },
  {
   "cell_type": "markdown",
   "id": "74c139f9-e33d-4f1f-9b8c-fb3759396992",
   "metadata": {},
   "source": [
    "ii. Remove undefined location in UrbanRural column, and using the new information, create UrbanRural_binary column, assign 0 to urban and 1 to rural. "
   ]
  },
  {
   "cell_type": "code",
   "execution_count": 8,
   "id": "c8ae7c5f-8a7b-4d31-8824-06b275c063bd",
   "metadata": {},
   "outputs": [
    {
     "name": "stdout",
     "output_type": "stream",
     "text": [
      "Percentage of undefined values in 'UrbanRural': 35.93%\n"
     ]
    }
   ],
   "source": [
    "#first check how many datapoints are undefuined \n",
    "#Calculate the percentage of '0' (undefined) in the 'UrbanRural' column\n",
    "undefined_percentage = (df_clean['UrbanRural'] == 0).mean() * 100\n",
    "\n",
    "# Print the result\n",
    "print(f\"Percentage of undefined values in 'UrbanRural': {undefined_percentage:.2f}%\")\n",
    "\n",
    "# Drop rows where 'UrbanRural' is 0\n",
    "df_clean = df_clean.drop(df_clean[df_clean['UrbanRural'] == 0].index)\n"
   ]
  },
  {
   "cell_type": "code",
   "execution_count": 9,
   "id": "b0489ba2-9a6f-4f58-9cc4-2fc9525695fd",
   "metadata": {},
   "outputs": [
    {
     "name": "stdout",
     "output_type": "stream",
     "text": [
      "     UrbanRural  UrbanRural_binary\n",
      "12            1                  0\n",
      "24            1                  0\n",
      "28            1                  0\n",
      "30            1                  0\n",
      "32            1                  0\n",
      "34            2                  1\n",
      "38            1                  0\n",
      "49            1                  0\n",
      "58            1                  0\n",
      "62            1                  0\n",
      "65            1                  0\n",
      "67            2                  1\n",
      "71            1                  0\n",
      "76            2                  1\n",
      "77            1                  0\n",
      "80            1                  0\n",
      "83            1                  0\n",
      "89            2                  1\n",
      "123           1                  0\n",
      "127           2                  1\n"
     ]
    }
   ],
   "source": [
    "#create a binary column for UrbanRural for just urban and rural entries and create the 'UrbanRural_binary' column\n",
    "df_clean.loc[:, 'UrbanRural_binary'] = df_clean['UrbanRural'].apply(lambda x: 0 if x == 1 else (1 if x == 2 else None))\n",
    "\n",
    "# Print the DataFrame to check the new column\n",
    "print(df_clean[['UrbanRural', 'UrbanRural_binary']].head(20))\n"
   ]
  },
  {
   "cell_type": "code",
   "execution_count": 10,
   "id": "daf6ce70-2f83-4dc5-882d-b29e0291588e",
   "metadata": {},
   "outputs": [
    {
     "data": {
      "text/plain": [
       "(572333, 29)"
      ]
     },
     "execution_count": 10,
     "metadata": {},
     "output_type": "execute_result"
    }
   ],
   "source": [
    "df_clean.shape"
   ]
  },
  {
   "cell_type": "markdown",
   "id": "f8f3144f-b0ae-41ce-98a9-9f20a18a718b",
   "metadata": {},
   "source": [
    "iii. Convert MIS_Status into a binary category. 1 = PIF, and 0 = charged off "
   ]
  },
  {
   "cell_type": "code",
   "execution_count": 11,
   "id": "b3ea0ebe-b6a2-4fde-b979-7142e3fa9257",
   "metadata": {},
   "outputs": [],
   "source": [
    "#using MIS_status column, create a column MIS_Status_Binary with binary variable for paid in full = 1, and charged off = 0\n",
    "df_clean['MIS_Status_Binary'] = df_clean['MIS_Status'].apply(lambda x: 1 if x == 'P I F' else 0)"
   ]
  },
  {
   "cell_type": "markdown",
   "id": "fb25d8df-a051-4bfc-abd7-b1ee24911463",
   "metadata": {},
   "source": [
    "3. Drop off non-key variables"
   ]
  },
  {
   "cell_type": "markdown",
   "id": "601db770-8883-4d75-a853-fe9c6e67a309",
   "metadata": {},
   "source": [
    "Drop off columns that are not part of the key variables: 'LoanNr_ChkDgt', 'ChgOffDate','UrbanRural', 'RevLineCr', 'LowDoc', 'BalanceGross', 'MIS_Status'"
   ]
  },
  {
   "cell_type": "code",
   "execution_count": 12,
   "id": "1147f270-2bbb-4877-a184-f2cf666629a7",
   "metadata": {},
   "outputs": [
    {
     "name": "stdout",
     "output_type": "stream",
     "text": [
      "                           Name         City State    Zip  \\\n",
      "12                       CARVEL         APEX    NC  27502   \n",
      "24                       SUBWAY  LITTLE ROCK    AR  72223   \n",
      "28          WEYLAND CORPORATION    CAMARILLO    CA  93010   \n",
      "30  CHICAGO BRICK UNLIMITED INC        MIAMI    FL  33186   \n",
      "32                    RZI, INC.  NEW ORLEANS    LA  70130   \n",
      "\n",
      "                              Bank BankState   NAICS ApprovalDate ApprovalFY  \\\n",
      "12           STEARNS BK NATL ASSOC        MN  445299     7-Feb-06       2006   \n",
      "24                        HOPE FCU        MS  722211     7-Feb-06       2006   \n",
      "28     WELLS FARGO BANK NATL ASSOC        SD  611110     7-Feb-06       2006   \n",
      "30                  CITIBANK, N.A.        FL  238140     7-Feb-06       2006   \n",
      "32  BUSINESS RES. CAP. SPECIALTY B        LA  532490     7-Feb-06       2006   \n",
      "\n",
      "    Term  ...  RetainedJob  FranchiseCode  DisbursementDate  \\\n",
      "12   162  ...            0          15100         31-Mar-06   \n",
      "24   126  ...            0              1         30-Apr-06   \n",
      "28    83  ...           23              1         28-Feb-06   \n",
      "30    84  ...            4              1         28-Feb-06   \n",
      "32    60  ...            0              1         31-May-06   \n",
      "\n",
      "    DisbursementGross  ChgOffPrinGr        GrAppv      SBA_Appv  \\\n",
      "12       $253,400.00         $0.00   $253,400.00   $190,050.00    \n",
      "24       $137,300.00         $0.00   $137,300.00   $116,705.00    \n",
      "28       $438,541.00         $0.00   $100,000.00    $50,000.00    \n",
      "30        $51,440.00         $0.00    $35,000.00    $17,500.00    \n",
      "32        $50,000.00         $0.00    $50,000.00    $42,500.00    \n",
      "\n",
      "   ChgOffDate_binary UrbanRural_binary MIS_Status_Binary  \n",
      "12                 0                 0                 1  \n",
      "24                 0                 0                 1  \n",
      "28                 0                 0                 1  \n",
      "30                 0                 0                 1  \n",
      "32                 0                 0                 1  \n",
      "\n",
      "[5 rows x 23 columns]\n"
     ]
    }
   ],
   "source": [
    "# Drop the specified columns from the DataFrame\n",
    "df_clean = df_clean.drop(columns=['LoanNr_ChkDgt', 'ChgOffDate','UrbanRural', 'RevLineCr', 'LowDoc', 'BalanceGross','MIS_Status'])\n",
    "\n",
    "# Print the DataFrame to check the result\n",
    "print(df_clean.head())"
   ]
  },
  {
   "cell_type": "code",
   "execution_count": 13,
   "id": "aafc86dc-3981-4c26-98a5-cad832b5746e",
   "metadata": {},
   "outputs": [
    {
     "data": {
      "text/plain": [
       "(572333, 23)"
      ]
     },
     "execution_count": 13,
     "metadata": {},
     "output_type": "execute_result"
    }
   ],
   "source": [
    "#see the final pre-processed dataset\n",
    "df_clean.shape"
   ]
  },
  {
   "cell_type": "markdown",
   "id": "920977f8-53f8-4796-9b09-db5f63fc24ff",
   "metadata": {},
   "source": [
    "4. Convert monetary values into numeric values  "
   ]
  },
  {
   "cell_type": "code",
   "execution_count": 14,
   "id": "7f53ac64-572e-42f3-9b4c-becb580fbea2",
   "metadata": {},
   "outputs": [],
   "source": [
    "# List of monetary columns\n",
    "dollar_columns = ['DisbursementGross', 'ChgOffPrinGr', 'GrAppv', 'SBA_Appv']\n",
    "\n",
    "# Remove $ and , then convert to float\n",
    "df_clean[dollar_columns] = df_clean[dollar_columns].replace('[\\$,]', '', regex=True).astype(float)\n"
   ]
  },
  {
   "cell_type": "markdown",
   "id": "ea67fcc2-f50d-4fdf-85ab-48c525d25ec3",
   "metadata": {},
   "source": [
    "Save processed data into data folder "
   ]
  },
  {
   "cell_type": "code",
   "execution_count": 15,
   "id": "0fbac699-0cad-417b-a657-892d5f1f406e",
   "metadata": {},
   "outputs": [],
   "source": [
    "#save the clean dataframe to data folder\n",
    "df_clean.to_csv(r\"C:\\Users\\Ochieng' Oginga\\Documents\\Post_S\\Spring_2025\\Data_Science_II\\Project\\Data\\Oginga_Stage2.csv\", index=False)"
   ]
  },
  {
   "cell_type": "markdown",
   "id": "906158d3-d11a-4f84-bcc5-30fb78a1c91d",
   "metadata": {},
   "source": [
    "### Descriptives "
   ]
  },
  {
   "cell_type": "markdown",
   "id": "257dbab9-8e6c-4f36-822f-b99423ae66ef",
   "metadata": {},
   "source": [
    "i. Numeric descriptive statistics"
   ]
  },
  {
   "cell_type": "code",
   "execution_count": 16,
   "id": "e52b0abe-6e80-47a0-a03a-026e6c15b9b3",
   "metadata": {},
   "outputs": [
    {
     "data": {
      "text/html": [
       "<div>\n",
       "<style scoped>\n",
       "    .dataframe tbody tr th:only-of-type {\n",
       "        vertical-align: middle;\n",
       "    }\n",
       "\n",
       "    .dataframe tbody tr th {\n",
       "        vertical-align: top;\n",
       "    }\n",
       "\n",
       "    .dataframe thead th {\n",
       "        text-align: right;\n",
       "    }\n",
       "</style>\n",
       "<table border=\"1\" class=\"dataframe\">\n",
       "  <thead>\n",
       "    <tr style=\"text-align: right;\">\n",
       "      <th></th>\n",
       "      <th>Name</th>\n",
       "      <th>City</th>\n",
       "      <th>State</th>\n",
       "      <th>Zip</th>\n",
       "      <th>Bank</th>\n",
       "      <th>BankState</th>\n",
       "      <th>NAICS</th>\n",
       "      <th>ApprovalDate</th>\n",
       "      <th>ApprovalFY</th>\n",
       "      <th>Term</th>\n",
       "      <th>...</th>\n",
       "      <th>RetainedJob</th>\n",
       "      <th>FranchiseCode</th>\n",
       "      <th>DisbursementDate</th>\n",
       "      <th>DisbursementGross</th>\n",
       "      <th>ChgOffPrinGr</th>\n",
       "      <th>GrAppv</th>\n",
       "      <th>SBA_Appv</th>\n",
       "      <th>ChgOffDate_binary</th>\n",
       "      <th>UrbanRural_binary</th>\n",
       "      <th>MIS_Status_Binary</th>\n",
       "    </tr>\n",
       "  </thead>\n",
       "  <tbody>\n",
       "    <tr>\n",
       "      <th>count</th>\n",
       "      <td>572333</td>\n",
       "      <td>572333</td>\n",
       "      <td>572333</td>\n",
       "      <td>572333.000000</td>\n",
       "      <td>572333</td>\n",
       "      <td>572333</td>\n",
       "      <td>572333.000000</td>\n",
       "      <td>572333</td>\n",
       "      <td>572333.0</td>\n",
       "      <td>572333.000000</td>\n",
       "      <td>...</td>\n",
       "      <td>572333.000000</td>\n",
       "      <td>572333.000000</td>\n",
       "      <td>572333</td>\n",
       "      <td>5.723330e+05</td>\n",
       "      <td>5.723330e+05</td>\n",
       "      <td>5.723330e+05</td>\n",
       "      <td>5.723330e+05</td>\n",
       "      <td>572333.000000</td>\n",
       "      <td>572333.000000</td>\n",
       "      <td>572333.000000</td>\n",
       "    </tr>\n",
       "    <tr>\n",
       "      <th>unique</th>\n",
       "      <td>503960</td>\n",
       "      <td>26389</td>\n",
       "      <td>51</td>\n",
       "      <td>NaN</td>\n",
       "      <td>4599</td>\n",
       "      <td>55</td>\n",
       "      <td>NaN</td>\n",
       "      <td>4907</td>\n",
       "      <td>25.0</td>\n",
       "      <td>NaN</td>\n",
       "      <td>...</td>\n",
       "      <td>NaN</td>\n",
       "      <td>NaN</td>\n",
       "      <td>2851</td>\n",
       "      <td>NaN</td>\n",
       "      <td>NaN</td>\n",
       "      <td>NaN</td>\n",
       "      <td>NaN</td>\n",
       "      <td>NaN</td>\n",
       "      <td>NaN</td>\n",
       "      <td>NaN</td>\n",
       "    </tr>\n",
       "    <tr>\n",
       "      <th>top</th>\n",
       "      <td>SUBWAY</td>\n",
       "      <td>LOS ANGELES</td>\n",
       "      <td>CA</td>\n",
       "      <td>NaN</td>\n",
       "      <td>BANK OF AMERICA NATL ASSOC</td>\n",
       "      <td>CA</td>\n",
       "      <td>NaN</td>\n",
       "      <td>30-Jan-04</td>\n",
       "      <td>2006.0</td>\n",
       "      <td>NaN</td>\n",
       "      <td>...</td>\n",
       "      <td>NaN</td>\n",
       "      <td>NaN</td>\n",
       "      <td>31-Mar-06</td>\n",
       "      <td>NaN</td>\n",
       "      <td>NaN</td>\n",
       "      <td>NaN</td>\n",
       "      <td>NaN</td>\n",
       "      <td>NaN</td>\n",
       "      <td>NaN</td>\n",
       "      <td>NaN</td>\n",
       "    </tr>\n",
       "    <tr>\n",
       "      <th>freq</th>\n",
       "      <td>937</td>\n",
       "      <td>8412</td>\n",
       "      <td>82707</td>\n",
       "      <td>NaN</td>\n",
       "      <td>68797</td>\n",
       "      <td>78333</td>\n",
       "      <td>NaN</td>\n",
       "      <td>981</td>\n",
       "      <td>75455.0</td>\n",
       "      <td>NaN</td>\n",
       "      <td>...</td>\n",
       "      <td>NaN</td>\n",
       "      <td>NaN</td>\n",
       "      <td>6938</td>\n",
       "      <td>NaN</td>\n",
       "      <td>NaN</td>\n",
       "      <td>NaN</td>\n",
       "      <td>NaN</td>\n",
       "      <td>NaN</td>\n",
       "      <td>NaN</td>\n",
       "      <td>NaN</td>\n",
       "    </tr>\n",
       "    <tr>\n",
       "      <th>mean</th>\n",
       "      <td>NaN</td>\n",
       "      <td>NaN</td>\n",
       "      <td>NaN</td>\n",
       "      <td>52526.476848</td>\n",
       "      <td>NaN</td>\n",
       "      <td>NaN</td>\n",
       "      <td>498976.917606</td>\n",
       "      <td>NaN</td>\n",
       "      <td>NaN</td>\n",
       "      <td>96.625847</td>\n",
       "      <td>...</td>\n",
       "      <td>5.958591</td>\n",
       "      <td>2718.594684</td>\n",
       "      <td>NaN</td>\n",
       "      <td>1.928716e+05</td>\n",
       "      <td>1.702337e+04</td>\n",
       "      <td>1.785447e+05</td>\n",
       "      <td>1.352192e+05</td>\n",
       "      <td>0.241809</td>\n",
       "      <td>0.183114</td>\n",
       "      <td>0.765161</td>\n",
       "    </tr>\n",
       "    <tr>\n",
       "      <th>std</th>\n",
       "      <td>NaN</td>\n",
       "      <td>NaN</td>\n",
       "      <td>NaN</td>\n",
       "      <td>31533.588428</td>\n",
       "      <td>NaN</td>\n",
       "      <td>NaN</td>\n",
       "      <td>195553.671067</td>\n",
       "      <td>NaN</td>\n",
       "      <td>NaN</td>\n",
       "      <td>70.744067</td>\n",
       "      <td>...</td>\n",
       "      <td>24.015743</td>\n",
       "      <td>12730.193422</td>\n",
       "      <td>NaN</td>\n",
       "      <td>3.094678e+05</td>\n",
       "      <td>7.365140e+04</td>\n",
       "      <td>3.027037e+05</td>\n",
       "      <td>2.487573e+05</td>\n",
       "      <td>0.428179</td>\n",
       "      <td>0.386760</td>\n",
       "      <td>0.423898</td>\n",
       "    </tr>\n",
       "    <tr>\n",
       "      <th>min</th>\n",
       "      <td>NaN</td>\n",
       "      <td>NaN</td>\n",
       "      <td>NaN</td>\n",
       "      <td>0.000000</td>\n",
       "      <td>NaN</td>\n",
       "      <td>NaN</td>\n",
       "      <td>0.000000</td>\n",
       "      <td>NaN</td>\n",
       "      <td>NaN</td>\n",
       "      <td>0.000000</td>\n",
       "      <td>...</td>\n",
       "      <td>0.000000</td>\n",
       "      <td>0.000000</td>\n",
       "      <td>NaN</td>\n",
       "      <td>4.000000e+03</td>\n",
       "      <td>0.000000e+00</td>\n",
       "      <td>1.000000e+03</td>\n",
       "      <td>5.000000e+02</td>\n",
       "      <td>0.000000</td>\n",
       "      <td>0.000000</td>\n",
       "      <td>0.000000</td>\n",
       "    </tr>\n",
       "    <tr>\n",
       "      <th>25%</th>\n",
       "      <td>NaN</td>\n",
       "      <td>NaN</td>\n",
       "      <td>NaN</td>\n",
       "      <td>22480.000000</td>\n",
       "      <td>NaN</td>\n",
       "      <td>NaN</td>\n",
       "      <td>423210.000000</td>\n",
       "      <td>NaN</td>\n",
       "      <td>NaN</td>\n",
       "      <td>60.000000</td>\n",
       "      <td>...</td>\n",
       "      <td>0.000000</td>\n",
       "      <td>0.000000</td>\n",
       "      <td>NaN</td>\n",
       "      <td>3.500000e+04</td>\n",
       "      <td>0.000000e+00</td>\n",
       "      <td>2.500000e+04</td>\n",
       "      <td>1.300000e+04</td>\n",
       "      <td>0.000000</td>\n",
       "      <td>0.000000</td>\n",
       "      <td>1.000000</td>\n",
       "    </tr>\n",
       "    <tr>\n",
       "      <th>50%</th>\n",
       "      <td>NaN</td>\n",
       "      <td>NaN</td>\n",
       "      <td>NaN</td>\n",
       "      <td>54112.000000</td>\n",
       "      <td>NaN</td>\n",
       "      <td>NaN</td>\n",
       "      <td>511199.000000</td>\n",
       "      <td>NaN</td>\n",
       "      <td>NaN</td>\n",
       "      <td>84.000000</td>\n",
       "      <td>...</td>\n",
       "      <td>2.000000</td>\n",
       "      <td>1.000000</td>\n",
       "      <td>NaN</td>\n",
       "      <td>8.000000e+04</td>\n",
       "      <td>0.000000e+00</td>\n",
       "      <td>6.000000e+04</td>\n",
       "      <td>3.750000e+04</td>\n",
       "      <td>0.000000</td>\n",
       "      <td>0.000000</td>\n",
       "      <td>1.000000</td>\n",
       "    </tr>\n",
       "    <tr>\n",
       "      <th>75%</th>\n",
       "      <td>NaN</td>\n",
       "      <td>NaN</td>\n",
       "      <td>NaN</td>\n",
       "      <td>83713.000000</td>\n",
       "      <td>NaN</td>\n",
       "      <td>NaN</td>\n",
       "      <td>621340.000000</td>\n",
       "      <td>NaN</td>\n",
       "      <td>NaN</td>\n",
       "      <td>102.000000</td>\n",
       "      <td>...</td>\n",
       "      <td>6.000000</td>\n",
       "      <td>1.000000</td>\n",
       "      <td>NaN</td>\n",
       "      <td>2.000000e+05</td>\n",
       "      <td>0.000000e+00</td>\n",
       "      <td>1.800000e+05</td>\n",
       "      <td>1.275000e+05</td>\n",
       "      <td>0.000000</td>\n",
       "      <td>0.000000</td>\n",
       "      <td>1.000000</td>\n",
       "    </tr>\n",
       "    <tr>\n",
       "      <th>max</th>\n",
       "      <td>NaN</td>\n",
       "      <td>NaN</td>\n",
       "      <td>NaN</td>\n",
       "      <td>99999.000000</td>\n",
       "      <td>NaN</td>\n",
       "      <td>NaN</td>\n",
       "      <td>928120.000000</td>\n",
       "      <td>NaN</td>\n",
       "      <td>NaN</td>\n",
       "      <td>569.000000</td>\n",
       "      <td>...</td>\n",
       "      <td>9500.000000</td>\n",
       "      <td>92006.000000</td>\n",
       "      <td>NaN</td>\n",
       "      <td>1.144632e+07</td>\n",
       "      <td>2.223766e+06</td>\n",
       "      <td>5.472000e+06</td>\n",
       "      <td>5.472000e+06</td>\n",
       "      <td>1.000000</td>\n",
       "      <td>1.000000</td>\n",
       "      <td>1.000000</td>\n",
       "    </tr>\n",
       "  </tbody>\n",
       "</table>\n",
       "<p>11 rows × 23 columns</p>\n",
       "</div>"
      ],
      "text/plain": [
       "          Name         City   State            Zip  \\\n",
       "count   572333       572333  572333  572333.000000   \n",
       "unique  503960        26389      51            NaN   \n",
       "top     SUBWAY  LOS ANGELES      CA            NaN   \n",
       "freq       937         8412   82707            NaN   \n",
       "mean       NaN          NaN     NaN   52526.476848   \n",
       "std        NaN          NaN     NaN   31533.588428   \n",
       "min        NaN          NaN     NaN       0.000000   \n",
       "25%        NaN          NaN     NaN   22480.000000   \n",
       "50%        NaN          NaN     NaN   54112.000000   \n",
       "75%        NaN          NaN     NaN   83713.000000   \n",
       "max        NaN          NaN     NaN   99999.000000   \n",
       "\n",
       "                              Bank BankState          NAICS ApprovalDate  \\\n",
       "count                       572333    572333  572333.000000       572333   \n",
       "unique                        4599        55            NaN         4907   \n",
       "top     BANK OF AMERICA NATL ASSOC        CA            NaN    30-Jan-04   \n",
       "freq                         68797     78333            NaN          981   \n",
       "mean                           NaN       NaN  498976.917606          NaN   \n",
       "std                            NaN       NaN  195553.671067          NaN   \n",
       "min                            NaN       NaN       0.000000          NaN   \n",
       "25%                            NaN       NaN  423210.000000          NaN   \n",
       "50%                            NaN       NaN  511199.000000          NaN   \n",
       "75%                            NaN       NaN  621340.000000          NaN   \n",
       "max                            NaN       NaN  928120.000000          NaN   \n",
       "\n",
       "        ApprovalFY           Term  ...    RetainedJob  FranchiseCode  \\\n",
       "count     572333.0  572333.000000  ...  572333.000000  572333.000000   \n",
       "unique        25.0            NaN  ...            NaN            NaN   \n",
       "top         2006.0            NaN  ...            NaN            NaN   \n",
       "freq       75455.0            NaN  ...            NaN            NaN   \n",
       "mean           NaN      96.625847  ...       5.958591    2718.594684   \n",
       "std            NaN      70.744067  ...      24.015743   12730.193422   \n",
       "min            NaN       0.000000  ...       0.000000       0.000000   \n",
       "25%            NaN      60.000000  ...       0.000000       0.000000   \n",
       "50%            NaN      84.000000  ...       2.000000       1.000000   \n",
       "75%            NaN     102.000000  ...       6.000000       1.000000   \n",
       "max            NaN     569.000000  ...    9500.000000   92006.000000   \n",
       "\n",
       "        DisbursementDate  DisbursementGross  ChgOffPrinGr        GrAppv  \\\n",
       "count             572333       5.723330e+05  5.723330e+05  5.723330e+05   \n",
       "unique              2851                NaN           NaN           NaN   \n",
       "top            31-Mar-06                NaN           NaN           NaN   \n",
       "freq                6938                NaN           NaN           NaN   \n",
       "mean                 NaN       1.928716e+05  1.702337e+04  1.785447e+05   \n",
       "std                  NaN       3.094678e+05  7.365140e+04  3.027037e+05   \n",
       "min                  NaN       4.000000e+03  0.000000e+00  1.000000e+03   \n",
       "25%                  NaN       3.500000e+04  0.000000e+00  2.500000e+04   \n",
       "50%                  NaN       8.000000e+04  0.000000e+00  6.000000e+04   \n",
       "75%                  NaN       2.000000e+05  0.000000e+00  1.800000e+05   \n",
       "max                  NaN       1.144632e+07  2.223766e+06  5.472000e+06   \n",
       "\n",
       "            SBA_Appv  ChgOffDate_binary  UrbanRural_binary  MIS_Status_Binary  \n",
       "count   5.723330e+05      572333.000000      572333.000000      572333.000000  \n",
       "unique           NaN                NaN                NaN                NaN  \n",
       "top              NaN                NaN                NaN                NaN  \n",
       "freq             NaN                NaN                NaN                NaN  \n",
       "mean    1.352192e+05           0.241809           0.183114           0.765161  \n",
       "std     2.487573e+05           0.428179           0.386760           0.423898  \n",
       "min     5.000000e+02           0.000000           0.000000           0.000000  \n",
       "25%     1.300000e+04           0.000000           0.000000           1.000000  \n",
       "50%     3.750000e+04           0.000000           0.000000           1.000000  \n",
       "75%     1.275000e+05           0.000000           0.000000           1.000000  \n",
       "max     5.472000e+06           1.000000           1.000000           1.000000  \n",
       "\n",
       "[11 rows x 23 columns]"
      ]
     },
     "execution_count": 16,
     "metadata": {},
     "output_type": "execute_result"
    }
   ],
   "source": [
    "#get description of the data \n",
    "df_clean.describe(include='all')\n"
   ]
  },
  {
   "cell_type": "markdown",
   "id": "896c6400-dbd3-485c-8ab6-4436451a487d",
   "metadata": {},
   "source": [
    "Summary of numeric variables "
   ]
  },
  {
   "cell_type": "code",
   "execution_count": 17,
   "id": "5be57818-8eb9-4fa1-9beb-66963f38d29f",
   "metadata": {},
   "outputs": [
    {
     "data": {
      "text/html": [
       "<div>\n",
       "<style scoped>\n",
       "    .dataframe tbody tr th:only-of-type {\n",
       "        vertical-align: middle;\n",
       "    }\n",
       "\n",
       "    .dataframe tbody tr th {\n",
       "        vertical-align: top;\n",
       "    }\n",
       "\n",
       "    .dataframe thead th {\n",
       "        text-align: right;\n",
       "    }\n",
       "</style>\n",
       "<table border=\"1\" class=\"dataframe\">\n",
       "  <thead>\n",
       "    <tr style=\"text-align: right;\">\n",
       "      <th></th>\n",
       "      <th>Zip</th>\n",
       "      <th>NAICS</th>\n",
       "      <th>Term</th>\n",
       "      <th>NoEmp</th>\n",
       "      <th>NewExist</th>\n",
       "      <th>CreateJob</th>\n",
       "      <th>RetainedJob</th>\n",
       "      <th>FranchiseCode</th>\n",
       "      <th>DisbursementGross</th>\n",
       "      <th>ChgOffPrinGr</th>\n",
       "      <th>GrAppv</th>\n",
       "      <th>SBA_Appv</th>\n",
       "      <th>ChgOffDate_binary</th>\n",
       "      <th>UrbanRural_binary</th>\n",
       "      <th>MIS_Status_Binary</th>\n",
       "    </tr>\n",
       "  </thead>\n",
       "  <tbody>\n",
       "    <tr>\n",
       "      <th>count</th>\n",
       "      <td>572333.000000</td>\n",
       "      <td>572333.000000</td>\n",
       "      <td>572333.000000</td>\n",
       "      <td>572333.000000</td>\n",
       "      <td>572333.000000</td>\n",
       "      <td>572333.000000</td>\n",
       "      <td>572333.000000</td>\n",
       "      <td>572333.000000</td>\n",
       "      <td>5.723330e+05</td>\n",
       "      <td>5.723330e+05</td>\n",
       "      <td>5.723330e+05</td>\n",
       "      <td>5.723330e+05</td>\n",
       "      <td>572333.000000</td>\n",
       "      <td>572333.000000</td>\n",
       "      <td>572333.000000</td>\n",
       "    </tr>\n",
       "    <tr>\n",
       "      <th>mean</th>\n",
       "      <td>52526.476848</td>\n",
       "      <td>498976.917606</td>\n",
       "      <td>96.625847</td>\n",
       "      <td>8.801560</td>\n",
       "      <td>1.285879</td>\n",
       "      <td>2.424426</td>\n",
       "      <td>5.958591</td>\n",
       "      <td>2718.594684</td>\n",
       "      <td>1.928716e+05</td>\n",
       "      <td>1.702337e+04</td>\n",
       "      <td>1.785447e+05</td>\n",
       "      <td>1.352192e+05</td>\n",
       "      <td>0.241809</td>\n",
       "      <td>0.183114</td>\n",
       "      <td>0.765161</td>\n",
       "    </tr>\n",
       "    <tr>\n",
       "      <th>std</th>\n",
       "      <td>31533.588428</td>\n",
       "      <td>195553.671067</td>\n",
       "      <td>70.744067</td>\n",
       "      <td>43.751445</td>\n",
       "      <td>0.453835</td>\n",
       "      <td>13.775755</td>\n",
       "      <td>24.015743</td>\n",
       "      <td>12730.193422</td>\n",
       "      <td>3.094678e+05</td>\n",
       "      <td>7.365140e+04</td>\n",
       "      <td>3.027037e+05</td>\n",
       "      <td>2.487573e+05</td>\n",
       "      <td>0.428179</td>\n",
       "      <td>0.386760</td>\n",
       "      <td>0.423898</td>\n",
       "    </tr>\n",
       "    <tr>\n",
       "      <th>min</th>\n",
       "      <td>0.000000</td>\n",
       "      <td>0.000000</td>\n",
       "      <td>0.000000</td>\n",
       "      <td>0.000000</td>\n",
       "      <td>0.000000</td>\n",
       "      <td>0.000000</td>\n",
       "      <td>0.000000</td>\n",
       "      <td>0.000000</td>\n",
       "      <td>4.000000e+03</td>\n",
       "      <td>0.000000e+00</td>\n",
       "      <td>1.000000e+03</td>\n",
       "      <td>5.000000e+02</td>\n",
       "      <td>0.000000</td>\n",
       "      <td>0.000000</td>\n",
       "      <td>0.000000</td>\n",
       "    </tr>\n",
       "    <tr>\n",
       "      <th>25%</th>\n",
       "      <td>22480.000000</td>\n",
       "      <td>423210.000000</td>\n",
       "      <td>60.000000</td>\n",
       "      <td>2.000000</td>\n",
       "      <td>1.000000</td>\n",
       "      <td>0.000000</td>\n",
       "      <td>0.000000</td>\n",
       "      <td>0.000000</td>\n",
       "      <td>3.500000e+04</td>\n",
       "      <td>0.000000e+00</td>\n",
       "      <td>2.500000e+04</td>\n",
       "      <td>1.300000e+04</td>\n",
       "      <td>0.000000</td>\n",
       "      <td>0.000000</td>\n",
       "      <td>1.000000</td>\n",
       "    </tr>\n",
       "    <tr>\n",
       "      <th>50%</th>\n",
       "      <td>54112.000000</td>\n",
       "      <td>511199.000000</td>\n",
       "      <td>84.000000</td>\n",
       "      <td>4.000000</td>\n",
       "      <td>1.000000</td>\n",
       "      <td>0.000000</td>\n",
       "      <td>2.000000</td>\n",
       "      <td>1.000000</td>\n",
       "      <td>8.000000e+04</td>\n",
       "      <td>0.000000e+00</td>\n",
       "      <td>6.000000e+04</td>\n",
       "      <td>3.750000e+04</td>\n",
       "      <td>0.000000</td>\n",
       "      <td>0.000000</td>\n",
       "      <td>1.000000</td>\n",
       "    </tr>\n",
       "    <tr>\n",
       "      <th>75%</th>\n",
       "      <td>83713.000000</td>\n",
       "      <td>621340.000000</td>\n",
       "      <td>102.000000</td>\n",
       "      <td>8.000000</td>\n",
       "      <td>2.000000</td>\n",
       "      <td>2.000000</td>\n",
       "      <td>6.000000</td>\n",
       "      <td>1.000000</td>\n",
       "      <td>2.000000e+05</td>\n",
       "      <td>0.000000e+00</td>\n",
       "      <td>1.800000e+05</td>\n",
       "      <td>1.275000e+05</td>\n",
       "      <td>0.000000</td>\n",
       "      <td>0.000000</td>\n",
       "      <td>1.000000</td>\n",
       "    </tr>\n",
       "    <tr>\n",
       "      <th>max</th>\n",
       "      <td>99999.000000</td>\n",
       "      <td>928120.000000</td>\n",
       "      <td>569.000000</td>\n",
       "      <td>8000.000000</td>\n",
       "      <td>2.000000</td>\n",
       "      <td>5085.000000</td>\n",
       "      <td>9500.000000</td>\n",
       "      <td>92006.000000</td>\n",
       "      <td>1.144632e+07</td>\n",
       "      <td>2.223766e+06</td>\n",
       "      <td>5.472000e+06</td>\n",
       "      <td>5.472000e+06</td>\n",
       "      <td>1.000000</td>\n",
       "      <td>1.000000</td>\n",
       "      <td>1.000000</td>\n",
       "    </tr>\n",
       "  </tbody>\n",
       "</table>\n",
       "</div>"
      ],
      "text/plain": [
       "                 Zip          NAICS           Term          NoEmp  \\\n",
       "count  572333.000000  572333.000000  572333.000000  572333.000000   \n",
       "mean    52526.476848  498976.917606      96.625847       8.801560   \n",
       "std     31533.588428  195553.671067      70.744067      43.751445   \n",
       "min         0.000000       0.000000       0.000000       0.000000   \n",
       "25%     22480.000000  423210.000000      60.000000       2.000000   \n",
       "50%     54112.000000  511199.000000      84.000000       4.000000   \n",
       "75%     83713.000000  621340.000000     102.000000       8.000000   \n",
       "max     99999.000000  928120.000000     569.000000    8000.000000   \n",
       "\n",
       "            NewExist      CreateJob    RetainedJob  FranchiseCode  \\\n",
       "count  572333.000000  572333.000000  572333.000000  572333.000000   \n",
       "mean        1.285879       2.424426       5.958591    2718.594684   \n",
       "std         0.453835      13.775755      24.015743   12730.193422   \n",
       "min         0.000000       0.000000       0.000000       0.000000   \n",
       "25%         1.000000       0.000000       0.000000       0.000000   \n",
       "50%         1.000000       0.000000       2.000000       1.000000   \n",
       "75%         2.000000       2.000000       6.000000       1.000000   \n",
       "max         2.000000    5085.000000    9500.000000   92006.000000   \n",
       "\n",
       "       DisbursementGross  ChgOffPrinGr        GrAppv      SBA_Appv  \\\n",
       "count       5.723330e+05  5.723330e+05  5.723330e+05  5.723330e+05   \n",
       "mean        1.928716e+05  1.702337e+04  1.785447e+05  1.352192e+05   \n",
       "std         3.094678e+05  7.365140e+04  3.027037e+05  2.487573e+05   \n",
       "min         4.000000e+03  0.000000e+00  1.000000e+03  5.000000e+02   \n",
       "25%         3.500000e+04  0.000000e+00  2.500000e+04  1.300000e+04   \n",
       "50%         8.000000e+04  0.000000e+00  6.000000e+04  3.750000e+04   \n",
       "75%         2.000000e+05  0.000000e+00  1.800000e+05  1.275000e+05   \n",
       "max         1.144632e+07  2.223766e+06  5.472000e+06  5.472000e+06   \n",
       "\n",
       "       ChgOffDate_binary  UrbanRural_binary  MIS_Status_Binary  \n",
       "count      572333.000000      572333.000000      572333.000000  \n",
       "mean            0.241809           0.183114           0.765161  \n",
       "std             0.428179           0.386760           0.423898  \n",
       "min             0.000000           0.000000           0.000000  \n",
       "25%             0.000000           0.000000           1.000000  \n",
       "50%             0.000000           0.000000           1.000000  \n",
       "75%             0.000000           0.000000           1.000000  \n",
       "max             1.000000           1.000000           1.000000  "
      ]
     },
     "execution_count": 17,
     "metadata": {},
     "output_type": "execute_result"
    }
   ],
   "source": [
    "#get summary of the numeric variables \n",
    "df_clean.describe()"
   ]
  },
  {
   "cell_type": "markdown",
   "id": "c241ae4f-492b-4b89-873d-451f431eb665",
   "metadata": {},
   "source": [
    "Summary for categorical variables "
   ]
  },
  {
   "cell_type": "code",
   "execution_count": 18,
   "id": "bf2fb5f0-f0da-42d2-bc3c-d52cc5695a95",
   "metadata": {},
   "outputs": [
    {
     "data": {
      "text/html": [
       "<div>\n",
       "<style scoped>\n",
       "    .dataframe tbody tr th:only-of-type {\n",
       "        vertical-align: middle;\n",
       "    }\n",
       "\n",
       "    .dataframe tbody tr th {\n",
       "        vertical-align: top;\n",
       "    }\n",
       "\n",
       "    .dataframe thead th {\n",
       "        text-align: right;\n",
       "    }\n",
       "</style>\n",
       "<table border=\"1\" class=\"dataframe\">\n",
       "  <thead>\n",
       "    <tr style=\"text-align: right;\">\n",
       "      <th></th>\n",
       "      <th>Name</th>\n",
       "      <th>City</th>\n",
       "      <th>State</th>\n",
       "      <th>Bank</th>\n",
       "      <th>BankState</th>\n",
       "      <th>ApprovalDate</th>\n",
       "      <th>ApprovalFY</th>\n",
       "      <th>DisbursementDate</th>\n",
       "    </tr>\n",
       "  </thead>\n",
       "  <tbody>\n",
       "    <tr>\n",
       "      <th>count</th>\n",
       "      <td>572333</td>\n",
       "      <td>572333</td>\n",
       "      <td>572333</td>\n",
       "      <td>572333</td>\n",
       "      <td>572333</td>\n",
       "      <td>572333</td>\n",
       "      <td>572333</td>\n",
       "      <td>572333</td>\n",
       "    </tr>\n",
       "    <tr>\n",
       "      <th>unique</th>\n",
       "      <td>503960</td>\n",
       "      <td>26389</td>\n",
       "      <td>51</td>\n",
       "      <td>4599</td>\n",
       "      <td>55</td>\n",
       "      <td>4907</td>\n",
       "      <td>25</td>\n",
       "      <td>2851</td>\n",
       "    </tr>\n",
       "    <tr>\n",
       "      <th>top</th>\n",
       "      <td>SUBWAY</td>\n",
       "      <td>LOS ANGELES</td>\n",
       "      <td>CA</td>\n",
       "      <td>BANK OF AMERICA NATL ASSOC</td>\n",
       "      <td>CA</td>\n",
       "      <td>30-Jan-04</td>\n",
       "      <td>2006</td>\n",
       "      <td>31-Mar-06</td>\n",
       "    </tr>\n",
       "    <tr>\n",
       "      <th>freq</th>\n",
       "      <td>937</td>\n",
       "      <td>8412</td>\n",
       "      <td>82707</td>\n",
       "      <td>68797</td>\n",
       "      <td>78333</td>\n",
       "      <td>981</td>\n",
       "      <td>75455</td>\n",
       "      <td>6938</td>\n",
       "    </tr>\n",
       "  </tbody>\n",
       "</table>\n",
       "</div>"
      ],
      "text/plain": [
       "          Name         City   State                        Bank BankState  \\\n",
       "count   572333       572333  572333                      572333    572333   \n",
       "unique  503960        26389      51                        4599        55   \n",
       "top     SUBWAY  LOS ANGELES      CA  BANK OF AMERICA NATL ASSOC        CA   \n",
       "freq       937         8412   82707                       68797     78333   \n",
       "\n",
       "       ApprovalDate  ApprovalFY DisbursementDate  \n",
       "count        572333      572333           572333  \n",
       "unique         4907          25             2851  \n",
       "top       30-Jan-04        2006        31-Mar-06  \n",
       "freq            981       75455             6938  "
      ]
     },
     "execution_count": 18,
     "metadata": {},
     "output_type": "execute_result"
    }
   ],
   "source": [
    "#summary of categorical variables \n",
    "df_clean.describe(include=[object])\n"
   ]
  },
  {
   "cell_type": "markdown",
   "id": "1d2183d5-9ff2-4e5d-9041-55dc32369822",
   "metadata": {},
   "source": [
    "ii. Graphical descriptions"
   ]
  },
  {
   "cell_type": "markdown",
   "id": "33c82d4d-26c3-4478-b4b3-63e1b4f77cde",
   "metadata": {},
   "source": [
    "a) Histogram for numeric values \n"
   ]
  },
  {
   "cell_type": "code",
   "execution_count": 19,
   "id": "c2cc6b05-b3d7-4f71-96b5-4ee8998e6571",
   "metadata": {},
   "outputs": [
    {
     "data": {
      "text/plain": [
       "array([[<Axes: title={'center': 'Zip'}>,\n",
       "        <Axes: title={'center': 'NAICS'}>,\n",
       "        <Axes: title={'center': 'Term'}>,\n",
       "        <Axes: title={'center': 'NoEmp'}>],\n",
       "       [<Axes: title={'center': 'NewExist'}>,\n",
       "        <Axes: title={'center': 'CreateJob'}>,\n",
       "        <Axes: title={'center': 'RetainedJob'}>,\n",
       "        <Axes: title={'center': 'FranchiseCode'}>],\n",
       "       [<Axes: title={'center': 'DisbursementGross'}>,\n",
       "        <Axes: title={'center': 'ChgOffPrinGr'}>,\n",
       "        <Axes: title={'center': 'GrAppv'}>,\n",
       "        <Axes: title={'center': 'SBA_Appv'}>],\n",
       "       [<Axes: title={'center': 'ChgOffDate_binary'}>,\n",
       "        <Axes: title={'center': 'UrbanRural_binary'}>,\n",
       "        <Axes: title={'center': 'MIS_Status_Binary'}>, <Axes: >]],\n",
       "      dtype=object)"
      ]
     },
     "execution_count": 19,
     "metadata": {},
     "output_type": "execute_result"
    },
    {
     "data": {
      "image/png": "[encoded data removed]",
      "text/plain": [
       "<Figure size 1200x1000 with 16 Axes>"
      ]
     },
     "metadata": {},
     "output_type": "display_data"
    }
   ],
   "source": [
    "#create a histogram for bumeric variables with bins of 20 \n",
    "df_clean.hist(figsize=(12, 10), bins=20)\n"
   ]
  },
  {
   "cell_type": "markdown",
   "id": "64cf80e8-413f-4cdf-b9d3-d66e66573d0c",
   "metadata": {},
   "source": [
    "ii. Historgram of Loan approval by year"
   ]
  },
  {
   "cell_type": "code",
   "execution_count": 20,
   "id": "6a7fb5fa-f4b9-4750-8c09-a7577f7a8cf5",
   "metadata": {},
   "outputs": [
    {
     "data": {
      "image/png": "[encoded data removed]",
      "text/plain": [
       "<Figure size 1000x500 with 1 Axes>"
      ]
     },
     "metadata": {},
     "output_type": "display_data"
    }
   ],
   "source": [
    "import matplotlib.pyplot as plt\n",
    "import matplotlib.ticker as mtick\n",
    "\n",
    " # Ensure ApprovalFY is numeric\n",
    "df_clean['ApprovalFY'] = pd.to_numeric(df_clean['ApprovalFY'], errors='coerce')\n",
    "\n",
    "# Drop any NaN values that might have been introduced during conversion\n",
    "df_clean = df_clean.dropna(subset=['ApprovalFY'])\n",
    "\n",
    "# Aggregate and plot\n",
    "df_clean.groupby('ApprovalFY')['GrAppv'].sum().plot(kind='bar', figsize=(10, 5))\n",
    "\n",
    "plt.xlabel(\"Approval Fiscal Year\")\n",
    "plt.ylabel(\"Approved Gross ($)\")\n",
    "plt.title(\"Total Approved Gross by ApprovalFY\")\n",
    "plt.xticks(rotation=45)\n",
    "plt.show()\n"
   ]
  },
  {
   "cell_type": "markdown",
   "id": "56dcf6df-853c-411b-8230-b56d01594602",
   "metadata": {},
   "source": [
    "The peak of loan approval was 2005"
   ]
  },
  {
   "cell_type": "markdown",
   "id": "d28f4eb0-fe15-4c4d-8d5c-f377da1a164d",
   "metadata": {},
   "source": [
    "iii. Histogram of loan disbursement by year"
   ]
  },
  {
   "cell_type": "code",
   "execution_count": 21,
   "id": "007710d1-5da9-4ebe-be97-d71a9a6112c1",
   "metadata": {},
   "outputs": [
    {
     "data": {
      "image/png": "[encoded data removed]",
      "text/plain": [
       "<Figure size 1000x500 with 1 Axes>"
      ]
     },
     "metadata": {},
     "output_type": "display_data"
    }
   ],
   "source": [
    "\n",
    "# Extract the last two digits (year) from DisbursementDate and convert to integer\n",
    "df_clean['DisbursementYear'] = df_clean['DisbursementDate'].str[-2:].astype(int)\n",
    "\n",
    "# Fix potential century issue: Convert 00-23 to 2000-2023, and 80-99 to 1980-1999\n",
    "df_clean['DisbursementYear'] = df_clean['DisbursementYear'].apply(lambda x: x + 2000 if x < 24 else x + 1900)\n",
    "\n",
    "# Aggregate total disbursement by year\n",
    "yearly_disbursement = df_clean.groupby('DisbursementYear')['DisbursementGross'].sum()\n",
    "\n",
    "# Plot\n",
    "fig, ax = plt.subplots(figsize=(10, 5))\n",
    "yearly_disbursement.plot(kind='bar', ax=ax)\n",
    "\n",
    "# Formatting\n",
    "ax.set_xlabel(\"Disbursement Year\")\n",
    "ax.set_ylabel(\"Total Loan Disbursement ($)\")\n",
    "ax.set_title(\"Total Loan Disbursement by Year\")\n",
    "ax.yaxis.set_major_formatter(mtick.StrMethodFormatter('${x:,.0f}'))  # Format as dollars\n",
    "plt.xticks(rotation=45)\n",
    "\n",
    "plt.show()"
   ]
  },
  {
   "cell_type": "markdown",
   "id": "512e50b6-d7c2-46e6-b2ac-1256878d782b",
   "metadata": {},
   "source": [
    "The peak of loan disbursement year was 2005 matching the year that had the highest loan approval "
   ]
  },
  {
   "cell_type": "markdown",
   "id": "81999401-9798-484b-a56f-5d66c9298a05",
   "metadata": {},
   "source": [
    "Box plots for outliers and distributions "
   ]
  },
  {
   "cell_type": "code",
   "execution_count": 22,
   "id": "23e23493-afd9-46e2-894b-85668c482261",
   "metadata": {},
   "outputs": [
    {
     "data": {
      "image/png": "[encoded data removed]",
      "text/plain": [
       "<Figure size 1200x600 with 1 Axes>"
      ]
     },
     "metadata": {},
     "output_type": "display_data"
    }
   ],
   "source": [
    "import seaborn as sns\n",
    "import matplotlib.pyplot as plt\n",
    "\n",
    "plt.figure(figsize=(12, 6))\n",
    "sns.boxplot(data=df_clean.select_dtypes(include=['number']))\n",
    "plt.xticks(rotation=90)\n",
    "plt.show()\n"
   ]
  },
  {
   "cell_type": "markdown",
   "id": "6852fd07-d8f7-44ee-b453-3dfb3544510b",
   "metadata": {},
   "source": [
    "Disbursement gross has a six outliers, GrAppc and SBA_appv only have 1 each"
   ]
  },
  {
   "cell_type": "code",
   "execution_count": 23,
   "id": "ad90d610-3edf-4c6d-9209-549959d7fb91",
   "metadata": {},
   "outputs": [
    {
     "data": {
      "text/plain": [
       "Index(['Name', 'City', 'State', 'Zip', 'Bank', 'BankState', 'NAICS',\n",
       "       'ApprovalDate', 'ApprovalFY', 'Term', 'NoEmp', 'NewExist', 'CreateJob',\n",
       "       'RetainedJob', 'FranchiseCode', 'DisbursementDate', 'DisbursementGross',\n",
       "       'ChgOffPrinGr', 'GrAppv', 'SBA_Appv', 'ChgOffDate_binary',\n",
       "       'UrbanRural_binary', 'MIS_Status_Binary', 'DisbursementYear'],\n",
       "      dtype='object')"
      ]
     },
     "execution_count": 23,
     "metadata": {},
     "output_type": "execute_result"
    }
   ],
   "source": [
    "#check columns \n",
    "df_clean.columns"
   ]
  },
  {
   "cell_type": "code",
   "execution_count": null,
   "id": "5406e913-60a9-4c33-b352-f6a7fd985d6d",
   "metadata": {},
   "outputs": [],
   "source": []
  },
  {
   "cell_type": "code",
   "execution_count": 24,
   "id": "c3864806-9bcb-4b3d-b9bf-82e8f29c537f",
   "metadata": {},
   "outputs": [
    {
     "name": "stdout",
     "output_type": "stream",
     "text": [
      "Training set size: 400632 samples\n",
      "Validation set size: 57234 samples\n",
      "Test set size: 114467 samples\n"
     ]
    }
   ],
   "source": [
    "#split the data into training, test, and validation set \n",
    "from sklearn.model_selection import train_test_split\n",
    "\n",
    "# MIS_Status_Binary' is the target column\n",
    "X = df_clean.drop('MIS_Status_Binary', axis=1)  # Features\n",
    "y = df_clean['MIS_Status_Binary']  # Target variable\n",
    "\n",
    "# split the data into 80% train+validation and 20% test\n",
    "X_train_val, X_test, y_train_val, y_test = train_test_split(X, y, test_size=0.20, random_state=42)\n",
    "\n",
    "# split the train+validation set into 87.5% train and 12.5% validation (to get 70% train and 10%)\n",
    "X_train, X_val, y_train, y_val = train_test_split(X_train_val, y_train_val, test_size=0.125, random_state=42)\n",
    "\n",
    "# print the shapes of the splits to verify\n",
    "print(f\"Training set size: {X_train.shape[0]} samples\")\n",
    "print(f\"Validation set size: {X_val.shape[0]} samples\")\n",
    "print(f\"Test set size: {X_test.shape[0]} samples\")\n"
   ]
  },
  {
   "cell_type": "markdown",
   "id": "3585be1e-b3b7-4480-87f5-2b6801c5fd54",
   "metadata": {},
   "source": [
    "### A. Predicting loan repayment status \n",
    "\n",
    "This section uses four models—Logistic Regression, Random Forest, XGBoost, and SVM—to predict whether a loan issued by banks and guaranteed by the SBA will be paid in full (1) or charged off (0). The target variable is MIS_Status_Binary, where 0 indicates a charged-off loan, and 1 indicates full repayment."
   ]
  },
  {
   "cell_type": "markdown",
   "id": "d3773a6f-785d-4492-a90f-7c2f871d2398",
   "metadata": {},
   "source": [
    "1. Logistic Regression as Baseline Model "
   ]
  },
  {
   "cell_type": "code",
   "execution_count": 25,
   "id": "7b9669b3-01bc-456a-ac21-7ee160e2bed8",
   "metadata": {},
   "outputs": [
    {
     "name": "stdout",
     "output_type": "stream",
     "text": [
      "Train MSE: 0.0070, R²: 0.9611, Accuracy: 0.9930\n",
      "Validation MSE: 0.0071, R²: 0.9608, Accuracy: 0.9929\n",
      "Test MSE: 0.0068, R²: 0.9618, Accuracy: 0.9932\n"
     ]
    }
   ],
   "source": [
    "from sklearn.model_selection import train_test_split\n",
    "from sklearn.preprocessing import StandardScaler\n",
    "from sklearn.linear_model import LogisticRegression\n",
    "from sklearn.metrics import mean_squared_error, r2_score, accuracy_score\n",
    "\n",
    "# Define independent variables (features)\n",
    "features = ['Term', 'DisbursementGross', 'GrAppv', 'SBA_Appv', 'NoEmp', 'NewExist',\n",
    "            'CreateJob', 'RetainedJob', 'FranchiseCode', 'ChgOffPrinGr', 'ChgOffDate_binary',\n",
    "            'ApprovalFY', 'UrbanRural_binary', 'DisbursementYear']\n",
    "\n",
    "# Define target variable\n",
    "X = df_clean[features]\n",
    "y = df_clean['MIS_Status_Binary']\n",
    "\n",
    "# Split data into 70% train, 10% validation, 20% test\n",
    "#first get 20% to be test data \n",
    "X_train_val, X_test, y_train_val, y_test = train_test_split(X, y, test_size=0.20, random_state=42)\n",
    "#then split the train data further to have validation set \n",
    "X_train, X_val, y_train, y_val = train_test_split(X_train_val, y_train_val, test_size=0.125, random_state=42)\n",
    "\n",
    "# Standardize the features (Logistic Regression performs better with normalized data)\n",
    "scaler = StandardScaler()\n",
    "X_train_scaled = scaler.fit_transform(X_train)\n",
    "X_val_scaled = scaler.transform(X_val)\n",
    "X_test_scaled = scaler.transform(X_test)\n",
    "\n",
    "# Train Logistic Regression model\n",
    "log_model = LogisticRegression()\n",
    "log_model.fit(X_train_scaled, y_train)\n",
    "\n",
    "# Predictions\n",
    "y_train_pred = log_model.predict(X_train_scaled)\n",
    "y_val_pred = log_model.predict(X_val_scaled)\n",
    "y_test_pred = log_model.predict(X_test_scaled)\n",
    "\n",
    "# Evaluate model performance\n",
    "train_mse = mean_squared_error(y_train, y_train_pred)\n",
    "val_mse = mean_squared_error(y_val, y_val_pred)\n",
    "test_mse = mean_squared_error(y_test, y_test_pred)\n",
    "\n",
    "train_r2 = r2_score(y_train, y_train_pred)\n",
    "val_r2 = r2_score(y_val, y_val_pred)\n",
    "test_r2 = r2_score(y_test, y_test_pred)\n",
    "\n",
    "train_acc = accuracy_score(y_train, y_train_pred)\n",
    "val_acc = accuracy_score(y_val, y_val_pred)\n",
    "test_acc = accuracy_score(y_test, y_test_pred)\n",
    "\n",
    "# Print results\n",
    "print(f\"Train MSE: {train_mse:.4f}, R²: {train_r2:.4f}, Accuracy: {train_acc:.4f}\")\n",
    "print(f\"Validation MSE: {val_mse:.4f}, R²: {val_r2:.4f}, Accuracy: {val_acc:.4f}\")\n",
    "print(f\"Test MSE: {test_mse:.4f}, R²: {test_r2:.4f}, Accuracy: {test_acc:.4f}\")"
   ]
  },
  {
   "cell_type": "markdown",
   "id": "34eeef58-5044-486f-85a3-b387905ad9c7",
   "metadata": {},
   "source": [
    "2. Random Forest "
   ]
  },
  {
   "cell_type": "code",
   "execution_count": 26,
   "id": "aa2e6709-b0b4-4a48-a415-259642f51e0e",
   "metadata": {},
   "outputs": [
    {
     "name": "stdout",
     "output_type": "stream",
     "text": [
      "Train MSE: 0.0000, R²: 0.9999, Accuracy: 1.0000\n",
      "Validation MSE: 0.0074, R²: 0.9589, Accuracy: 0.9926\n",
      "Test MSE: 0.0069, R²: 0.9613, Accuracy: 0.9931\n"
     ]
    }
   ],
   "source": [
    "from sklearn.ensemble import RandomForestClassifier\n",
    "\n",
    "# Train Random Forest model\n",
    "rf_model = RandomForestClassifier(n_estimators=100, random_state=42)\n",
    "rf_model.fit(X_train, y_train)  # Use unscaled X_train\n",
    "\n",
    "# Predictions\n",
    "y_train_pred = rf_model.predict(X_train)\n",
    "y_val_pred = rf_model.predict(X_val)\n",
    "y_test_pred = rf_model.predict(X_test)\n",
    "\n",
    "# Evaluate model performance\n",
    "train_mse = mean_squared_error(y_train, y_train_pred)\n",
    "val_mse = mean_squared_error(y_val, y_val_pred)\n",
    "test_mse = mean_squared_error(y_test, y_test_pred)\n",
    "\n",
    "train_r2 = r2_score(y_train, y_train_pred)\n",
    "val_r2 = r2_score(y_val, y_val_pred)\n",
    "test_r2 = r2_score(y_test, y_test_pred)\n",
    "\n",
    "train_acc = accuracy_score(y_train, y_train_pred)\n",
    "val_acc = accuracy_score(y_val, y_val_pred)\n",
    "test_acc = accuracy_score(y_test, y_test_pred)\n",
    "\n",
    "# Print results\n",
    "print(f\"Train MSE: {train_mse:.4f}, R²: {train_r2:.4f}, Accuracy: {train_acc:.4f}\")\n",
    "print(f\"Validation MSE: {val_mse:.4f}, R²: {val_r2:.4f}, Accuracy: {val_acc:.4f}\")\n",
    "print(f\"Test MSE: {test_mse:.4f}, R²: {test_r2:.4f}, Accuracy: {test_acc:.4f}\")\n"
   ]
  },
  {
   "cell_type": "markdown",
   "id": "701c087e-7ec9-4117-91c9-7a62f501cbfd",
   "metadata": {},
   "source": [
    "3. XG Boost "
   ]
  },
  {
   "cell_type": "code",
   "execution_count": 27,
   "id": "052433d6-44ca-4366-b184-ae3bb4978774",
   "metadata": {},
   "outputs": [
    {
     "name": "stdout",
     "output_type": "stream",
     "text": [
      "Train MSE: 0.0069, R²: 0.9614, Accuracy: 0.9931\n",
      "Validation MSE: 0.0071, R²: 0.9608, Accuracy: 0.9929\n",
      "Test MSE: 0.0069, R²: 0.9618, Accuracy: 0.9931\n"
     ]
    }
   ],
   "source": [
    "from xgboost import XGBClassifier\n",
    "\n",
    "# Train XGBoost model\n",
    "xgb_model = XGBClassifier(n_estimators=50, random_state=42, eval_metric=\"logloss\")\n",
    "xgb_model.fit(X_train, y_train)\n",
    "\n",
    "# Predictions\n",
    "y_train_pred = xgb_model.predict(X_train)\n",
    "y_val_pred = xgb_model.predict(X_val)\n",
    "y_test_pred = xgb_model.predict(X_test)\n",
    "\n",
    "# Evaluate model performance\n",
    "train_mse = mean_squared_error(y_train, y_train_pred)\n",
    "val_mse = mean_squared_error(y_val, y_val_pred)\n",
    "test_mse = mean_squared_error(y_test, y_test_pred)\n",
    "\n",
    "train_r2 = r2_score(y_train, y_train_pred)\n",
    "val_r2 = r2_score(y_val, y_val_pred)\n",
    "test_r2 = r2_score(y_test, y_test_pred)\n",
    "\n",
    "train_acc = accuracy_score(y_train, y_train_pred)\n",
    "val_acc = accuracy_score(y_val, y_val_pred)\n",
    "test_acc = accuracy_score(y_test, y_test_pred)\n",
    "\n",
    "# Print results\n",
    "print(f\"Train MSE: {train_mse:.4f}, R²: {train_r2:.4f}, Accuracy: {train_acc:.4f}\")\n",
    "print(f\"Validation MSE: {val_mse:.4f}, R²: {val_r2:.4f}, Accuracy: {val_acc:.4f}\")\n",
    "print(f\"Test MSE: {test_mse:.4f}, R²: {test_r2:.4f}, Accuracy: {test_acc:.4f}\")\n"
   ]
  },
  {
   "cell_type": "markdown",
   "id": "6dc1a771-eb69-4406-bffc-5fea3d04d9ae",
   "metadata": {},
   "source": [
    "4. Support Machine Vectors "
   ]
  },
  {
   "cell_type": "code",
   "execution_count": 28,
   "id": "003be70a-511a-4b2f-af09-8faef50073e0",
   "metadata": {},
   "outputs": [
    {
     "name": "stderr",
     "output_type": "stream",
     "text": [
      "C:\\Users\\Ochieng' Oginga\\AppData\\Local\\Packages\\PythonSoftwareFoundation.Python.3.10_qbz5n2kfra8p0\\LocalCache\\local-packages\\Python310\\site-packages\\sklearn\\svm\\_base.py:297: ConvergenceWarning: Solver terminated early (max_iter=500).  Consider pre-processing your data with StandardScaler or MinMaxScaler.\n",
      "  warnings.warn(\n"
     ]
    },
    {
     "name": "stdout",
     "output_type": "stream",
     "text": [
      "Train MSE: 0.2256, R²: -0.2556, Accuracy: 0.7744\n",
      "Validation MSE: 0.2261, R²: -0.2541, Accuracy: 0.7739\n",
      "Test MSE: 0.2249, R²: -0.2535, Accuracy: 0.7751\n"
     ]
    }
   ],
   "source": [
    "from sklearn.svm import SVC\n",
    "from sklearn.metrics import mean_squared_error, r2_score, accuracy_score\n",
    "\n",
    "# Train SVM model with scaled data\n",
    "svm_model = SVC(kernel='linear',max_iter=500, random_state=42)\n",
    "svm_model.fit(X_train_scaled, y_train)  # Use scaled X_train\n",
    "\n",
    "# Predictions on scaled data\n",
    "y_train_pred = svm_model.predict(X_train_scaled)\n",
    "y_val_pred = svm_model.predict(X_val_scaled)\n",
    "y_test_pred = svm_model.predict(X_test_scaled)\n",
    "\n",
    "# Evaluate model performance\n",
    "train_mse = mean_squared_error(y_train, y_train_pred)\n",
    "val_mse = mean_squared_error(y_val, y_val_pred)\n",
    "test_mse = mean_squared_error(y_test, y_test_pred)\n",
    "\n",
    "train_r2 = r2_score(y_train, y_train_pred)\n",
    "val_r2 = r2_score(y_val, y_val_pred)\n",
    "test_r2 = r2_score(y_test, y_test_pred)\n",
    "\n",
    "train_acc = accuracy_score(y_train, y_train_pred)\n",
    "val_acc = accuracy_score(y_val, y_val_pred)\n",
    "test_acc = accuracy_score(y_test, y_test_pred)\n",
    "\n",
    "# Print results\n",
    "print(f\"Train MSE: {train_mse:.4f}, R²: {train_r2:.4f}, Accuracy: {train_acc:.4f}\")\n",
    "print(f\"Validation MSE: {val_mse:.4f}, R²: {val_r2:.4f}, Accuracy: {val_acc:.4f}\")\n",
    "print(f\"Test MSE: {test_mse:.4f}, R²: {test_r2:.4f}, Accuracy: {test_acc:.4f}\")"
   ]
  },
  {
   "cell_type": "markdown",
   "id": "c316aed7-4ecc-4f49-95a4-0bee34da469a",
   "metadata": {},
   "source": [
    "Out of the four models, SVM is the worst performer. It has a large MSE and a negative r-squared meaning that it is not the right model for this dataset. \n",
    "\n",
    "Logistic regression, Random Forest, and XGBoost all had small MSE, large r-squared, and accuracy clos to 100%. "
   ]
  },
  {
   "cell_type": "markdown",
   "id": "9c7f15c0-8a1d-43e3-9e4e-07808b27c776",
   "metadata": {},
   "source": [
    "### B. Loan Default Prediction\n",
    "\n",
    "Predicting loan defaults can help financial institutions assess risks before issuing loans."
   ]
  },
  {
   "cell_type": "markdown",
   "id": "33ca3c22-bce3-40c7-9f4e-ccb3e83519e8",
   "metadata": {},
   "source": [
    "1. Logistic regression "
   ]
  },
  {
   "cell_type": "code",
   "execution_count": 30,
   "id": "2a47e7ba-5afd-42e6-9ebe-fe30ed8c9b50",
   "metadata": {},
   "outputs": [
    {
     "name": "stdout",
     "output_type": "stream",
     "text": [
      "Train Accuracy: 0.7581\n",
      "Validation Accuracy: 0.7569\n",
      "Test Accuracy: 0.7586\n"
     ]
    }
   ],
   "source": [
    "# Define independent variables (features)\n",
    "features = ['NoEmp', 'NewExist', 'DisbursementGross', 'GrAppv', 'SBA_Appv', 'UrbanRural_binary']\n",
    "\n",
    "# Define target variable\n",
    "X = df_clean[features]\n",
    "y = df_clean['ChgOffDate_binary']\n",
    "\n",
    "# Split data into 70% train, 10% validation, 20% test\n",
    "X_train_val, X_test, y_train_val, y_test = train_test_split(X, y, test_size=0.20, random_state=42)\n",
    "X_train, X_val, y_train, y_val = train_test_split(X_train_val, y_train_val, test_size=0.125, random_state=42)\n",
    "\n",
    "# Standardize the features (Logistic Regression performs better with normalized data)\n",
    "scaler = StandardScaler()\n",
    "X_train_scaled = scaler.fit_transform(X_train)\n",
    "X_val_scaled = scaler.transform(X_val)\n",
    "X_test_scaled = scaler.transform(X_test)\n",
    "\n",
    "# Train Logistic Regression model\n",
    "log_model = LogisticRegression()\n",
    "log_model.fit(X_train_scaled, y_train)\n",
    "\n",
    "# Predictions\n",
    "y_train_pred = log_model.predict(X_train_scaled)\n",
    "y_val_pred = log_model.predict(X_val_scaled)\n",
    "y_test_pred = log_model.predict(X_test_scaled)\n",
    "\n",
    "# Evaluate model performance\n",
    "train_acc = accuracy_score(y_train, y_train_pred)\n",
    "val_acc = accuracy_score(y_val, y_val_pred)\n",
    "test_acc = accuracy_score(y_test, y_test_pred)\n",
    "\n",
    "# Print results\n",
    "print(f\"Train Accuracy: {train_acc:.4f}\")\n",
    "print(f\"Validation Accuracy: {val_acc:.4f}\")\n",
    "print(f\"Test Accuracy: {test_acc:.4f}\")"
   ]
  },
  {
   "cell_type": "markdown",
   "id": "73dd5158-3fe5-467e-b2b4-9e0c37dcd6a1",
   "metadata": {},
   "source": [
    "2. Random Forest "
   ]
  },
  {
   "cell_type": "code",
   "execution_count": 33,
   "id": "df855bb5-0161-4eb9-b593-dddc9cf76015",
   "metadata": {},
   "outputs": [
    {
     "name": "stdout",
     "output_type": "stream",
     "text": [
      "Train Accuracy: 0.8883, Precision: 0.8791, Recall: 0.6236, F1: 0.7297\n",
      "Validation Accuracy: 0.7409, Precision: 0.4460, Recall: 0.2736, F1: 0.3391\n",
      "Test Accuracy: 0.7407, Precision: 0.4401, Recall: 0.2749, F1: 0.3384\n",
      "Test Confusion Matrix:\n",
      "[[77197  9658]\n",
      " [20022  7590]]\n"
     ]
    }
   ],
   "source": [
    "#import library \n",
    "from sklearn.metrics import accuracy_score, precision_score, recall_score, f1_score, confusion_matrix\n",
    "# Train Random Forest model using the already split data\n",
    "rf_model = RandomForestClassifier(n_estimators=100, random_state=42)\n",
    "rf_model.fit(X_train, y_train)  # Use unscaled X_train\n",
    "\n",
    "# Predictions\n",
    "y_train_pred = rf_model.predict(X_train)\n",
    "y_val_pred = rf_model.predict(X_val)\n",
    "y_test_pred = rf_model.predict(X_test)\n",
    "\n",
    "# Evaluate model performance\n",
    "train_acc = accuracy_score(y_train, y_train_pred)\n",
    "val_acc = accuracy_score(y_val, y_val_pred)\n",
    "test_acc = accuracy_score(y_test, y_test_pred)\n",
    "\n",
    "train_precision = precision_score(y_train, y_train_pred)\n",
    "val_precision = precision_score(y_val, y_val_pred)\n",
    "test_precision = precision_score(y_test, y_test_pred)\n",
    "\n",
    "train_recall = recall_score(y_train, y_train_pred)\n",
    "val_recall = recall_score(y_val, y_val_pred)\n",
    "test_recall = recall_score(y_test, y_test_pred)\n",
    "\n",
    "train_f1 = f1_score(y_train, y_train_pred)\n",
    "val_f1 = f1_score(y_val, y_val_pred)\n",
    "test_f1 = f1_score(y_test, y_test_pred)\n",
    "\n",
    "# Print results\n",
    "print(f\"Train Accuracy: {train_acc:.4f}, Precision: {train_precision:.4f}, Recall: {train_recall:.4f}, F1: {train_f1:.4f}\")\n",
    "print(f\"Validation Accuracy: {val_acc:.4f}, Precision: {val_precision:.4f}, Recall: {val_recall:.4f}, F1: {val_f1:.4f}\")\n",
    "print(f\"Test Accuracy: {test_acc:.4f}, Precision: {test_precision:.4f}, Recall: {test_recall:.4f}, F1: {test_f1:.4f}\")\n",
    "\n",
    "# Confusion Matrix\n",
    "print(\"Test Confusion Matrix:\")\n",
    "print(confusion_matrix(y_test, y_test_pred))"
   ]
  },
  {
   "cell_type": "markdown",
   "id": "0a0f0fee-de0d-43f1-8221-28d6e1223239",
   "metadata": {},
   "source": [
    "3. XGBoost "
   ]
  },
  {
   "cell_type": "code",
   "execution_count": 32,
   "id": "5834a51c-d358-440c-afc6-7099afd8600d",
   "metadata": {},
   "outputs": [
    {
     "name": "stdout",
     "output_type": "stream",
     "text": [
      "Train Accuracy: 0.7704, Precision: 0.6334, Recall: 0.1196, F1: 0.2012\n",
      "Validation Accuracy: 0.7696, Precision: 0.6368, Recall: 0.1207, F1: 0.2029\n",
      "Test Accuracy: 0.7703, Precision: 0.6246, Recall: 0.1198, F1: 0.2011\n",
      "Test Confusion Matrix:\n",
      "[[84866  1989]\n",
      " [24303  3309]]\n"
     ]
    }
   ],
   "source": [
    "#import library \n",
    "from sklearn.metrics import accuracy_score, precision_score, recall_score, f1_score, confusion_matrix\n",
    "\n",
    "# Train XGBoost model (using already split data)\n",
    "xgb_model = XGBClassifier(n_estimators=50, random_state=42, eval_metric=\"logloss\")\n",
    "xgb_model.fit(X_train, y_train)\n",
    "\n",
    "# Predictions\n",
    "y_train_pred = xgb_model.predict(X_train)\n",
    "y_val_pred = xgb_model.predict(X_val)\n",
    "y_test_pred = xgb_model.predict(X_test)\n",
    "\n",
    "# Evaluate model performance\n",
    "train_acc = accuracy_score(y_train, y_train_pred)\n",
    "val_acc = accuracy_score(y_val, y_val_pred)\n",
    "test_acc = accuracy_score(y_test, y_test_pred)\n",
    "\n",
    "train_precision = precision_score(y_train, y_train_pred)\n",
    "val_precision = precision_score(y_val, y_val_pred)\n",
    "test_precision = precision_score(y_test, y_test_pred)\n",
    "\n",
    "train_recall = recall_score(y_train, y_train_pred)\n",
    "val_recall = recall_score(y_val, y_val_pred)\n",
    "test_recall = recall_score(y_test, y_test_pred)\n",
    "\n",
    "train_f1 = f1_score(y_train, y_train_pred)\n",
    "val_f1 = f1_score(y_val, y_val_pred)\n",
    "test_f1 = f1_score(y_test, y_test_pred)\n",
    "\n",
    "# Print results\n",
    "print(f\"Train Accuracy: {train_acc:.4f}, Precision: {train_precision:.4f}, Recall: {train_recall:.4f}, F1: {train_f1:.4f}\")\n",
    "print(f\"Validation Accuracy: {val_acc:.4f}, Precision: {val_precision:.4f}, Recall: {val_recall:.4f}, F1: {val_f1:.4f}\")\n",
    "print(f\"Test Accuracy: {test_acc:.4f}, Precision: {test_precision:.4f}, Recall: {test_recall:.4f}, F1: {test_f1:.4f}\")\n",
    "\n",
    "# Confusion Matrix\n",
    "print(\"Test Confusion Matrix:\")\n",
    "print(confusion_matrix(y_test, y_test_pred))"
   ]
  },
  {
   "cell_type": "markdown",
   "id": "8a819dfa-dd0f-432d-9b6f-9beab399c972",
   "metadata": {},
   "source": [
    "### C. Predicting the Amount of Charged-Off Principal\n",
    "\n",
    "Understanding what factors contribute to larger charge-offs can help refine lending policies."
   ]
  },
  {
   "cell_type": "markdown",
   "id": "c737ed89-e9e2-4b38-8d68-ede543d01770",
   "metadata": {},
   "source": [
    "1. Random Forest "
   ]
  },
  {
   "cell_type": "code",
   "execution_count": 37,
   "id": "fb2d7698-cfe0-4854-9bcf-66f7c06b8fa2",
   "metadata": {},
   "outputs": [
    {
     "name": "stdout",
     "output_type": "stream",
     "text": [
      "Train Accuracy: 0.8883, Precision: 0.8791, Recall: 0.6236, F1: 0.7297\n",
      "Validation Accuracy: 0.7409, Precision: 0.4460, Recall: 0.2736, F1: 0.3391\n",
      "Test Accuracy: 0.7407, Precision: 0.4401, Recall: 0.2749, F1: 0.3384\n",
      "\n",
      "Test Confusion Matrix:\n"
     ]
    },
    {
     "data": {
      "text/plain": [
       "<sklearn.metrics._plot.confusion_matrix.ConfusionMatrixDisplay at 0x25200a63040>"
      ]
     },
     "execution_count": 37,
     "metadata": {},
     "output_type": "execute_result"
    },
    {
     "data": {
      "image/png": "[encoded data removed]",
      "text/plain": [
       "<Figure size 640x480 with 2 Axes>"
      ]
     },
     "metadata": {},
     "output_type": "display_data"
    }
   ],
   "source": [
    "# Define features and target variable\n",
    "features = ['NoEmp', 'NewExist', 'DisbursementGross', 'GrAppv', 'SBA_Appv', 'UrbanRural_binary']\n",
    "X = df_clean[features]\n",
    "y = df_clean['ChgOffDate_binary']\n",
    "\n",
    "# Split data into 70% train, 10% validation, 20% test\n",
    "X_train_val, X_test, y_train_val, y_test = train_test_split(X, y, test_size=0.20, random_state=42)\n",
    "X_train, X_val, y_train, y_val = train_test_split(X_train_val, y_train_val, test_size=0.125, random_state=42)\n",
    "\n",
    "# Train Random Forest model\n",
    "rf_model = RandomForestClassifier(n_estimators=100, random_state=42)\n",
    "rf_model.fit(X_train, y_train)\n",
    "\n",
    "# Predictions\n",
    "y_train_pred = rf_model.predict(X_train)\n",
    "y_val_pred = rf_model.predict(X_val)\n",
    "y_test_pred = rf_model.predict(X_test)\n",
    "\n",
    "# Evaluate model performance\n",
    "train_acc = accuracy_score(y_train, y_train_pred)\n",
    "val_acc = accuracy_score(y_val, y_val_pred)\n",
    "test_acc = accuracy_score(y_test, y_test_pred)\n",
    "\n",
    "train_precision = precision_score(y_train, y_train_pred)\n",
    "val_precision = precision_score(y_val, y_val_pred)\n",
    "test_precision = precision_score(y_test, y_test_pred)\n",
    "\n",
    "train_recall = recall_score(y_train, y_train_pred)\n",
    "val_recall = recall_score(y_val, y_val_pred)\n",
    "test_recall = recall_score(y_test, y_test_pred)\n",
    "\n",
    "train_f1 = f1_score(y_train, y_train_pred)\n",
    "val_f1 = f1_score(y_val, y_val_pred)\n",
    "test_f1 = f1_score(y_test, y_test_pred)\n",
    "\n",
    "# Print results\n",
    "print(f\"Train Accuracy: {train_acc:.4f}, Precision: {train_precision:.4f}, Recall: {train_recall:.4f}, F1: {train_f1:.4f}\")\n",
    "print(f\"Validation Accuracy: {val_acc:.4f}, Precision: {val_precision:.4f}, Recall: {val_recall:.4f}, F1: {val_f1:.4f}\")\n",
    "print(f\"Test Accuracy: {test_acc:.4f}, Precision: {test_precision:.4f}, Recall: {test_recall:.4f}, F1: {test_f1:.4f}\")\n",
    "\n",
    "# Confusion Matrix\n",
    "print(\"\\nTest Confusion Matrix:\")\n",
    "cm = confusion_matrix(y_test, y_test_pred)\n",
    "disp = ConfusionMatrixDisplay(confusion_matrix=cm)\n",
    "disp.plot()"
   ]
  },
  {
   "cell_type": "markdown",
   "id": "a1e416cd-c154-471b-a264-caee27f38ccf",
   "metadata": {},
   "source": [
    "2. XG Boost\n",
    "\n",
    "Use XGBoost Regressor because 'ChgOffDate_binary' is a continuous variable "
   ]
  },
  {
   "cell_type": "code",
   "execution_count": 51,
   "id": "669e45ff-7101-4f99-9955-8e2155ffd593",
   "metadata": {},
   "outputs": [
    {
     "name": "stdout",
     "output_type": "stream",
     "text": [
      "Train MSE: 132.3159, R²: 0.1265\n",
      "Validation MSE: 109.8631, R²: -0.1325\n",
      "Test MSE: 365.5538, R²: 0.0125\n"
     ]
    }
   ],
   "source": [
    "from xgboost import XGBRegressor\n",
    "from sklearn.metrics import mean_squared_error, r2_score\n",
    "\n",
    "# Train XGBoost model (regression)\n",
    "xgb_model = XGBRegressor(n_estimators=50, random_state=42)\n",
    "xgb_model.fit(X_train, y_train)\n",
    "\n",
    "# Predictions\n",
    "y_train_pred = xgb_model.predict(X_train)\n",
    "y_val_pred = xgb_model.predict(X_val)\n",
    "y_test_pred = xgb_model.predict(X_test)\n",
    "\n",
    "# Evaluate model performance\n",
    "train_mse = mean_squared_error(y_train, y_train_pred)\n",
    "val_mse = mean_squared_error(y_val, y_val_pred)\n",
    "test_mse = mean_squared_error(y_test, y_test_pred)\n",
    "\n",
    "train_r2 = r2_score(y_train, y_train_pred)\n",
    "val_r2 = r2_score(y_val, y_val_pred)\n",
    "test_r2 = r2_score(y_test, y_test_pred)\n",
    "\n",
    "# Print results\n",
    "print(f\"Train MSE: {train_mse:.4f}, R²: {train_r2:.4f}\")\n",
    "print(f\"Validation MSE: {val_mse:.4f}, R²: {val_r2:.4f}\")\n",
    "print(f\"Test MSE: {test_mse:.4f}, R²: {test_r2:.4f}\")\n"
   ]
  },
  {
   "cell_type": "markdown",
   "id": "0f451488-3f9a-4f30-9aaf-3eaf35351996",
   "metadata": {},
   "source": [
    "### D. Job Creation Impact Prediction\n",
    "\n",
    "This prediction can help  analyze which loans create the most jobs, aiding in economic policy decisions."
   ]
  },
  {
   "cell_type": "markdown",
   "id": "d640fdbb-5c71-4721-a1e8-8c55a4d71ab3",
   "metadata": {},
   "source": [
    "1. Random Forest "
   ]
  },
  {
   "cell_type": "code",
   "execution_count": 52,
   "id": "96f68c96-90b1-4c70-a56d-674419bbd602",
   "metadata": {},
   "outputs": [
    {
     "name": "stderr",
     "output_type": "stream",
     "text": [
      "C:\\Users\\Ochieng' Oginga\\AppData\\Local\\Packages\\PythonSoftwareFoundation.Python.3.10_qbz5n2kfra8p0\\LocalCache\\local-packages\\Python310\\site-packages\\sklearn\\metrics\\_classification.py:1531: UndefinedMetricWarning: Precision is ill-defined and being set to 0.0 in labels with no predicted samples. Use `zero_division` parameter to control this behavior.\n",
      "  _warn_prf(average, modifier, f\"{metric.capitalize()} is\", len(result))\n",
      "C:\\Users\\Ochieng' Oginga\\AppData\\Local\\Packages\\PythonSoftwareFoundation.Python.3.10_qbz5n2kfra8p0\\LocalCache\\local-packages\\Python310\\site-packages\\sklearn\\metrics\\_classification.py:1531: UndefinedMetricWarning: Precision is ill-defined and being set to 0.0 in labels with no predicted samples. Use `zero_division` parameter to control this behavior.\n",
      "  _warn_prf(average, modifier, f\"{metric.capitalize()} is\", len(result))\n",
      "C:\\Users\\Ochieng' Oginga\\AppData\\Local\\Packages\\PythonSoftwareFoundation.Python.3.10_qbz5n2kfra8p0\\LocalCache\\local-packages\\Python310\\site-packages\\sklearn\\metrics\\_classification.py:1531: UndefinedMetricWarning: Precision is ill-defined and being set to 0.0 in labels with no predicted samples. Use `zero_division` parameter to control this behavior.\n",
      "  _warn_prf(average, modifier, f\"{metric.capitalize()} is\", len(result))\n",
      "C:\\Users\\Ochieng' Oginga\\AppData\\Local\\Packages\\PythonSoftwareFoundation.Python.3.10_qbz5n2kfra8p0\\LocalCache\\local-packages\\Python310\\site-packages\\sklearn\\metrics\\_classification.py:1531: UndefinedMetricWarning: Recall is ill-defined and being set to 0.0 in labels with no true samples. Use `zero_division` parameter to control this behavior.\n",
      "  _warn_prf(average, modifier, f\"{metric.capitalize()} is\", len(result))\n",
      "C:\\Users\\Ochieng' Oginga\\AppData\\Local\\Packages\\PythonSoftwareFoundation.Python.3.10_qbz5n2kfra8p0\\LocalCache\\local-packages\\Python310\\site-packages\\sklearn\\metrics\\_classification.py:1531: UndefinedMetricWarning: Recall is ill-defined and being set to 0.0 in labels with no true samples. Use `zero_division` parameter to control this behavior.\n",
      "  _warn_prf(average, modifier, f\"{metric.capitalize()} is\", len(result))\n"
     ]
    },
    {
     "name": "stdout",
     "output_type": "stream",
     "text": [
      "Train Accuracy: 0.7369, Precision: 0.5947, Recall: 0.3789, F1: 0.4370\n",
      "Validation Accuracy: 0.5170, Precision: 0.0137, Recall: 0.0116, F1: 0.0119\n",
      "Test Accuracy: 0.5161, Precision: 0.0152, Recall: 0.0115, F1: 0.0124\n"
     ]
    }
   ],
   "source": [
    "from sklearn.ensemble import RandomForestClassifier\n",
    "from sklearn.metrics import accuracy_score, precision_score, recall_score, f1_score, confusion_matrix, ConfusionMatrixDisplay\n",
    "from sklearn.model_selection import train_test_split\n",
    "\n",
    "\n",
    "# Define features and target variable\n",
    "features = [\"DisbursementGross\", \"Term\", \"NewExist\", \"UrbanRural_binary\"]\n",
    "X = df_clean[features]\n",
    "y = df_clean['CreateJob']  # Target variable changed to 'CreateJob'\n",
    "\n",
    "# Split data into 70% train, 10% validation, 20% test\n",
    "X_train_val, X_test, y_train_val, y_test = train_test_split(X, y, test_size=0.20, random_state=42)\n",
    "X_train, X_val, y_train, y_val = train_test_split(X_train_val, y_train_val, test_size=0.125, random_state=42)\n",
    "\n",
    "\n",
    "# Train Random Forest model\n",
    "rf_model = RandomForestClassifier(n_estimators=10, random_state=42)\n",
    "rf_model.fit(X_train, y_train)\n",
    "\n",
    "# Predictions\n",
    "y_train_pred = rf_model.predict(X_train)\n",
    "y_val_pred = rf_model.predict(X_val)\n",
    "y_test_pred = rf_model.predict(X_test)\n",
    "\n",
    "# Evaluate model performance\n",
    "train_acc = accuracy_score(y_train, y_train_pred)\n",
    "val_acc = accuracy_score(y_val, y_val_pred)\n",
    "test_acc = accuracy_score(y_test, y_test_pred)\n",
    "\n",
    "# For multiclass classification, set the 'average' parameter to 'macro', 'micro', or 'weighted'\n",
    "train_precision = precision_score(y_train, y_train_pred, average='macro')  # or 'micro' or 'weighted'\n",
    "val_precision = precision_score(y_val, y_val_pred, average='macro')\n",
    "test_precision = precision_score(y_test, y_test_pred, average='macro')\n",
    "\n",
    "train_recall = recall_score(y_train, y_train_pred, average='macro')\n",
    "val_recall = recall_score(y_val, y_val_pred, average='macro')\n",
    "test_recall = recall_score(y_test, y_test_pred, average='macro')\n",
    "\n",
    "train_f1 = f1_score(y_train, y_train_pred, average='macro')\n",
    "val_f1 = f1_score(y_val, y_val_pred, average='macro')\n",
    "test_f1 = f1_score(y_test, y_test_pred, average='macro')\n",
    "\n",
    "# Print results\n",
    "print(f\"Train Accuracy: {train_acc:.4f}, Precision: {train_precision:.4f}, Recall: {train_recall:.4f}, F1: {train_f1:.4f}\")\n",
    "print(f\"Validation Accuracy: {val_acc:.4f}, Precision: {val_precision:.4f}, Recall: {val_recall:.4f}, F1: {val_f1:.4f}\")\n",
    "print(f\"Test Accuracy: {test_acc:.4f}, Precision: {test_precision:.4f}, Recall: {test_recall:.4f}, F1: {test_f1:.4f}\")\n"
   ]
  },
  {
   "cell_type": "markdown",
   "id": "7695d304-2b0f-419f-9d38-2cb7bbcafb1e",
   "metadata": {},
   "source": [
    "2. XG Boost\n",
    "\n",
    "Use XGRegressor because 'CreateJob' is a continuous variable."
   ]
  },
  {
   "cell_type": "code",
   "execution_count": 45,
   "id": "1021e5ce-101e-4818-8e8d-72b573e2acfd",
   "metadata": {},
   "outputs": [
    {
     "name": "stdout",
     "output_type": "stream",
     "text": [
      "[   0    1    2    3    4    5    6    7    8    9   10   11   12   13\n",
      "   14   15   16   17   18   19   20   21   22   23   24   25   26   27\n",
      "   28   29   30   31   32   33   34   35   36   37   38   39   40   41\n",
      "   42   43   44   45   46   47   48   49   50   51   52   53   54   55\n",
      "   56   57   58   59   60   61   62   63   64   65   66   67   68   69\n",
      "   70   71   72   73   74   75   76   77   78   79   80   81   82   83\n",
      "   84   85   86   87   88   89   90   91   92   93   95   97   98   99\n",
      "  100  101  102  103  105  106  108  110  112  115  116  118  119  120\n",
      "  121  123  124  125  126  128  129  130  131  135  136  137  139  140\n",
      "  141  143  144  145  148  149  150  152  153  154  155  160  164  165\n",
      "  167  168  170  174  175  177  180  186  195  200  206  210  220  223\n",
      "  225  226  235  250  280  300  310  320  350  360  363  375  400  409\n",
      "  450  451  452  453  454  455  456  457  480  500  569  600  800 1000\n",
      " 1011 1150 1618 2020 3100]\n",
      "[   0    1    2    3    4    5    6    7    8    9   10   11   12   13\n",
      "   14   15   16   17   18   19   20   21   22   23   24   25   26   27\n",
      "   28   29   30   31   32   33   34   35   36   37   38   39   40   41\n",
      "   42   43   44   45   46   47   48   49   50   51   52   53   54   55\n",
      "   56   57   58   59   60   62   63   64   65   66   67   68   69   70\n",
      "   71   73   74   75   77   78   80   82   83   84   85   86   88   90\n",
      "   92   95   96   97   98   99  100  105  110  112  114  115  116  119\n",
      "  120  124  125  126  130  140  144  146  150  151  157  160  170  179\n",
      "  200  240  250  256  264  270  300  365  450  451  453  455  457  458\n",
      "  600  750 1200 1229 1711 5085]\n"
     ]
    }
   ],
   "source": [
    "# Convert target variable to integer type (if it's categorical)\n",
    "y_train = y_train.astype(int)\n",
    "y_test = y_test.astype(int)\n",
    "\n",
    "# Check unique classes in train and test sets\n",
    "print(np.unique(y_train))\n",
    "print(np.unique(y_test))"
   ]
  },
  {
   "cell_type": "code",
   "execution_count": 49,
   "id": "7ae175db-ee91-4d57-8897-82856085b107",
   "metadata": {},
   "outputs": [
    {
     "name": "stdout",
     "output_type": "stream",
     "text": [
      "Train MSE: 132.3159, R^2: 0.1265\n",
      "Validation MSE: 109.8631, R^2: -0.1325\n",
      "Test MSE: 365.5538, R^2: 0.0125\n"
     ]
    }
   ],
   "source": [
    "#make sure y is an integer\n",
    "#import library \n",
    "from xgboost import XGBRegressor\n",
    "# Train XGBoost model (regression)\n",
    "xgb_model = XGBRegressor(n_estimators=50, random_state=42)\n",
    "xgb_model.fit(X_train, y_train)\n",
    "\n",
    "# Predictions\n",
    "y_train_pred = xgb_model.predict(X_train)\n",
    "y_val_pred = xgb_model.predict(X_val)\n",
    "y_test_pred = xgb_model.predict(X_test)\n",
    "\n",
    "# Evaluate model performance\n",
    "train_mse = mean_squared_error(y_train, y_train_pred)\n",
    "val_mse = mean_squared_error(y_val, y_val_pred)\n",
    "test_mse = mean_squared_error(y_test, y_test_pred)\n",
    "\n",
    "train_r2 = r2_score(y_train, y_train_pred)\n",
    "val_r2 = r2_score(y_val, y_val_pred)\n",
    "test_r2 = r2_score(y_test, y_test_pred)\n",
    "\n",
    "# Print results\n",
    "print(f\"Train MSE: {train_mse:.4f}, R^2: {train_r2:.4f}\")\n",
    "print(f\"Validation MSE: {val_mse:.4f}, R^2: {val_r2:.4f}\")\n",
    "print(f\"Test MSE: {test_mse:.4f}, R^2: {test_r2:.4f}\")"
   ]
  },
  {
   "cell_type": "code",
   "execution_count": null,
   "id": "fde6618f-cd81-4268-8a58-0671241bea01",
   "metadata": {},
   "outputs": [],
   "source": []
  },
  {
   "cell_type": "code",
   "execution_count": null,
   "id": "054588a5-f777-44b0-a1ee-092f36342eff",
   "metadata": {},
   "outputs": [],
   "source": []
  }
 ],
 "metadata": {
  "kernelspec": {
   "display_name": "Python 3 (ipykernel)",
   "language": "python",
   "name": "python3"
  },
  "language_info": {
   "codemirror_mode": {
    "name": "ipython",
    "version": 3
   },
   "file_extension": ".py",
   "mimetype": "text/x-python",
   "name": "python",
   "nbconvert_exporter": "python",
   "pygments_lexer": "ipython3",
   "version": "3.10.11"
  }
 },
 "nbformat": 4,
 "nbformat_minor": 5
}
