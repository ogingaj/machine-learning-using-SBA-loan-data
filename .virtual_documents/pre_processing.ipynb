


#import libraries 
import pandas as pd
import numpy as np 


#load the data 
df = pd.read_csv(r"C:\Users\Ochieng' Oginga\Documents\Post_S\Spring_2025\Data_Science_II\Project\Data\Oginga_Stage1.csv")
#show head 
df.head()








# Check if there are any missing values in the entire DataFrame
any_missing = df.isnull().values.any()

print("Any missing values in the DataFrame:", any_missing)






# Calculate the percentage of missing values per column
missing_percentage = (df.isnull().mean()) * 100

# Print the percentage of missing values
print(missing_percentage)






# Drop rows where the 'Name',  "City", "State", "DisbursementDate", "MIS_Status" column has missing values (NaN)
df_clean = df.dropna(subset=['Name', "City", "State", "DisbursementDate", "MIS_Status", "NewExist", "BankState", "Bank"])

# Check new percentage of missing values per column
missing_percentage = (df_clean.isnull().mean()) * 100

# Print the percentage of missing values
print(missing_percentage)









#for charge off date 
# Use .loc to modify the original DataFrame and ensure you're creating the binary column
df_clean.loc[:, 'ChgOffDate_binary'] = df_clean['ChgOffDate'].notna().astype(int)

# Print the DataFrame to check the new column
print(df_clean[['ChgOffDate', 'ChgOffDate_binary']])



#check shape of data
df_clean.shape





#first check how many datapoints are undefuined 
#Calculate the percentage of '0' (undefined) in the 'UrbanRural' column
undefined_percentage = (df_clean['UrbanRural'] == 0).mean() * 100

# Print the result
print(f"Percentage of undefined values in 'UrbanRural': {undefined_percentage:.2f}%")

# Drop rows where 'UrbanRural' is 0
df_clean = df_clean.drop(df_clean[df_clean['UrbanRural'] == 0].index)



#create a binary column for UrbanRural for just urban and rural entries and create the 'UrbanRural_binary' column
df_clean.loc[:, 'UrbanRural_binary'] = df_clean['UrbanRural'].apply(lambda x: 0 if x == 1 else (1 if x == 2 else None))

# Print the DataFrame to check the new column
print(df_clean[['UrbanRural', 'UrbanRural_binary']].head(20))



df_clean.shape





#using MIS_status column, create a column MIS_Status_Binary with binary variable for paid in full = 1, and charged off = 0
df_clean['MIS_Status_Binary'] = df_clean['MIS_Status'].apply(lambda x: 1 if x == 'P I F' else 0)





df_clean['IsFranchise'] = df_clean['FranchiseCode'].apply(lambda x: 0 if x in [0, 1] else 1)





#transforming lowdoc into binary
df_clean['LowDoc_binary'] = df_clean['LowDoc'].str.strip().str.upper().apply(lambda x: 1 if x == 'Y' else 0)

#transforming revolving line of credit into binary 
df_clean['RevLineCr_binary'] = df_clean['RevLineCr'].str.strip().str.upper().apply(lambda x: 1 if x == 'Y' else 0)






# Define a function to extract the sector and map it
def map_naics_sector(code):
    try:
        code = int(code)
        if code == 0:
            return 'Unknown'
        prefix = int(str(code)[:2])  # first two digits
        if prefix == 11:
            return 'Agriculture'
        elif prefix == 21:
            return 'Mining'
        elif prefix == 22:
            return 'Utilities'
        elif prefix == 23:
            return 'Construction'
        elif 31 <= prefix <= 33:
            return 'Manufacturing'
        elif prefix == 42:
            return 'Wholesale Trade'
        elif 44 <= prefix <= 45:
            return 'Retail Trade'
        elif 48 <= prefix <= 49:
            return 'Transportation'
        elif prefix == 51:
            return 'Information'
        elif prefix == 52:
            return 'Finance'
        elif prefix == 53:
            return 'Real Estate'
        elif prefix == 54:
            return 'Professional Services'
        elif prefix == 55:
            return 'Management'
        elif prefix == 56:
            return 'Admin & Waste Mgmt'
        elif prefix == 61:
            return 'Education'
        elif prefix == 62:
            return 'Healthcare'
        elif prefix == 71:
            return 'Arts & Recreation'
        elif prefix == 72:
            return 'Accommodation & Food'
        elif prefix == 81:
            return 'Other Services'
        elif prefix == 92:
            return 'Public Admin'
        else:
            return 'Other'
    except:
        return 'Unknown'


# Apply the mapping
df_clean['NAICS_Sector'] = df_clean['NAICS'].apply(map_naics_sector)

# One-hot encode
df_clean = pd.get_dummies(df_clean, columns=['NAICS_Sector'], prefix='Sector')









# Drop the specified columns from the DataFrame
df_clean = df_clean.drop(columns=['LoanNr_ChkDgt', 'ChgOffDate','UrbanRural', 'RevLineCr', 'LowDoc', 'FranchiseCode','MIS_Status', 'NAICS'])

# Print the DataFrame to check the result
print(df_clean.head())


#see the final pre-processed dataset
df_clean.shape





# List of monetary columns
dollar_columns = ['DisbursementGross', 'ChgOffPrinGr', 'GrAppv', 'SBA_Appv']

# Remove $ and , then convert to float
df_clean[dollar_columns] = df_clean[dollar_columns].replace('[\$,]', '', regex=True).astype(float)






#save the clean dataframe to data folder
df_clean.to_csv(r"C:\Users\Ochieng' Oginga\Documents\Post_S\Spring_2025\Data_Science_II\Project\Data\Oginga_Stage3.csv", index=False)
