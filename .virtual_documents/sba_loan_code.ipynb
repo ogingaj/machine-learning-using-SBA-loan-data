


#import libraries 
import pandas as pd
import numpy as np 


#load the data 
df = pd.read_csv(r"C:\Users\Ochieng' Oginga\Documents\Post_S\Spring_2025\Data_Science_II\Project\Data\Oginga_Stage1.csv")
#show head 
df.head()





#check for missing values
# Check if there are any missing values in the entire DataFrame
any_missing = df.isnull().values.any()

print("Any missing values in the DataFrame:", any_missing)



# Calculate the percentage of missing values per column
missing_percentage = (df.isnull().mean()) * 100

# Print the percentage of missing values
print(missing_percentage)



# Drop rows where the 'Name' column has missing values (NaN)
df_clean = df.dropna(subset=['Name', "City", "State", "DisbursementDate", "MIS_Status"])


# Calculate the percentage of missing values per column
missing_percentage = (df_clean.isnull().mean()) * 100

# Print the percentage of missing values
print(missing_percentage)






#revolving line of credi
#eliminate 


#UrbanRural One-Hot Coding make it binary 

