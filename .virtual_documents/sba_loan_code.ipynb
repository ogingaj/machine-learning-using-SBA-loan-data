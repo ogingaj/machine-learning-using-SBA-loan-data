


#import libraries 
import pandas as pd
import numpy as np 


#load the data 
df = pd.read_csv(r"C:\Users\Ochieng' Oginga\Documents\Post_S\Spring_2025\Data_Science_II\Project\Data\Oginga_Stage1.csv")
#show head 
df.head()








# Check if there are any missing values in the entire DataFrame
any_missing = df.isnull().values.any()

print("Any missing values in the DataFrame:", any_missing)






# Calculate the percentage of missing values per column
missing_percentage = (df.isnull().mean()) * 100

# Print the percentage of missing values
print(missing_percentage)






# Drop rows where the 'Name',  "City", "State", "DisbursementDate", "MIS_Status" column has missing values (NaN)
df_clean = df.dropna(subset=['Name', "City", "State", "DisbursementDate", "MIS_Status", "NewExist", "BankState", "Bank"])

# Check new percentage of missing values per column
missing_percentage = (df_clean.isnull().mean()) * 100

# Print the percentage of missing values
print(missing_percentage)









#for charge off date 
# Use .loc to modify the original DataFrame and ensure you're creating the binary column
df_clean.loc[:, 'ChgOffDate_binary'] = df_clean['ChgOffDate'].notna().astype(int)

# Print the DataFrame to check the new column
print(df_clean[['ChgOffDate', 'ChgOffDate_binary']])



#check shape of data
df_clean.shape





#first check how many datapoints are undefuined 
#Calculate the percentage of '0' (undefined) in the 'UrbanRural' column
undefined_percentage = (df_clean['UrbanRural'] == 0).mean() * 100

# Print the result
print(f"Percentage of undefined values in 'UrbanRural': {undefined_percentage:.2f}%")

# Drop rows where 'UrbanRural' is 0
df_clean = df_clean.drop(df_clean[df_clean['UrbanRural'] == 0].index)



#create a binary column for UrbanRural for just urban and rural entries and create the 'UrbanRural_binary' column
df_clean.loc[:, 'UrbanRural_binary'] = df_clean['UrbanRural'].apply(lambda x: 0 if x == 1 else (1 if x == 2 else None))

# Print the DataFrame to check the new column
print(df_clean[['UrbanRural', 'UrbanRural_binary']].head(20))



df_clean.shape





df_clean['MIS_Status_Binary'] = df_clean['MIS_Status'].apply(lambda x: 1 if x == 'P I F' else 0)








# Drop the specified columns from the DataFrame
df_clean = df_clean.drop(columns=['LoanNr_ChkDgt', 'ChgOffDate','UrbanRural', 'RevLineCr', 'LowDoc', 'BalanceGross','MIS_Status'])

# Print the DataFrame to check the result
print(df_clean.head())


#see the final pre-processed dataset
df_clean.shape





# List of monetary columns
dollar_columns = ['DisbursementGross', 'ChgOffPrinGr', 'GrAppv', 'SBA_Appv']

# Remove $ and , then convert to float
df_clean[dollar_columns] = df_clean[dollar_columns].replace('[\$,]', '', regex=True).astype(float)









#get description of the data 
df_clean.describe(include='all')






#get summary of the numeric variables 
df_clean.describe()





#summary of categorical variables 
df_clean.describe(include=[object])









#create a histogram for bumeric variables with bins of 20 
df_clean.hist(figsize=(12, 10), bins=20)






import matplotlib.pyplot as plt
import matplotlib.ticker as mtick

 # Ensure ApprovalFY is numeric
df_clean['ApprovalFY'] = pd.to_numeric(df_clean['ApprovalFY'], errors='coerce')

# Drop any NaN values that might have been introduced during conversion
df_clean = df_clean.dropna(subset=['ApprovalFY'])

# Aggregate and plot
df_clean.groupby('ApprovalFY')['GrAppv'].sum().plot(kind='bar', figsize=(10, 5))

plt.xlabel("Approval Fiscal Year")
plt.ylabel("Approved Gross ($)")
plt.title("Total Approved Gross by ApprovalFY")
plt.xticks(rotation=45)
plt.show()










# Extract the last two digits (year) from DisbursementDate and convert to integer
df_clean['DisbursementYear'] = df_clean['DisbursementDate'].str[-2:].astype(int)

# Fix potential century issue: Convert 00-23 to 2000-2023, and 80-99 to 1980-1999
df_clean['DisbursementYear'] = df_clean['DisbursementYear'].apply(lambda x: x + 2000 if x < 24 else x + 1900)

# Aggregate total disbursement by year
yearly_disbursement = df_clean.groupby('DisbursementYear')['DisbursementGross'].sum()

# Plot
fig, ax = plt.subplots(figsize=(10, 5))
yearly_disbursement.plot(kind='bar', ax=ax)

# Formatting
ax.set_xlabel("Disbursement Year")
ax.set_ylabel("Total Loan Disbursement ($)")
ax.set_title("Total Loan Disbursement by Year")
ax.yaxis.set_major_formatter(mtick.StrMethodFormatter('${x:,.0f}'))  # Format as dollars
plt.xticks(rotation=45)

plt.show()








import seaborn as sns
import matplotlib.pyplot as plt

plt.figure(figsize=(12, 6))
sns.boxplot(data=df_clean.select_dtypes(include=['number']))
plt.xticks(rotation=90)
plt.show()













