{
 "cells": [
  {
   "cell_type": "markdown",
   "id": "7bdc2641-d359-44e2-8269-7598e4b3d1b8",
   "metadata": {},
   "source": [
    "### SBA Loan Project \n",
    "\n",
    "#### Josahn Oginga \n",
    "\n",
    "#### Stage 2"
   ]
  },
  {
   "cell_type": "code",
   "execution_count": 1,
   "id": "015dd7d3-fb6a-46b5-8689-5a8ddd165cb2",
   "metadata": {},
   "outputs": [],
   "source": [
    "#import libraries \n",
    "import pandas as pd\n",
    "import numpy as np "
   ]
  },
  {
   "cell_type": "code",
   "execution_count": 2,
   "id": "3cd35019-1a7e-4be7-85e2-3d58c7adbff8",
   "metadata": {},
   "outputs": [
    {
     "name": "stderr",
     "output_type": "stream",
     "text": [
      "C:\\Users\\Ochieng' Oginga\\AppData\\Local\\Temp\\ipykernel_17364\\2981810954.py:2: DtypeWarning: Columns (9) have mixed types. Specify dtype option on import or set low_memory=False.\n",
      "  df = pd.read_csv(r\"C:\\Users\\Ochieng' Oginga\\Documents\\Post_S\\Spring_2025\\Data_Science_II\\Project\\Data\\Oginga_Stage1.csv\")\n"
     ]
    },
    {
     "data": {
      "text/html": [
       "<div>\n",
       "<style scoped>\n",
       "    .dataframe tbody tr th:only-of-type {\n",
       "        vertical-align: middle;\n",
       "    }\n",
       "\n",
       "    .dataframe tbody tr th {\n",
       "        vertical-align: top;\n",
       "    }\n",
       "\n",
       "    .dataframe thead th {\n",
       "        text-align: right;\n",
       "    }\n",
       "</style>\n",
       "<table border=\"1\" class=\"dataframe\">\n",
       "  <thead>\n",
       "    <tr style=\"text-align: right;\">\n",
       "      <th></th>\n",
       "      <th>LoanNr_ChkDgt</th>\n",
       "      <th>Name</th>\n",
       "      <th>City</th>\n",
       "      <th>State</th>\n",
       "      <th>Zip</th>\n",
       "      <th>Bank</th>\n",
       "      <th>BankState</th>\n",
       "      <th>NAICS</th>\n",
       "      <th>ApprovalDate</th>\n",
       "      <th>ApprovalFY</th>\n",
       "      <th>...</th>\n",
       "      <th>RevLineCr</th>\n",
       "      <th>LowDoc</th>\n",
       "      <th>ChgOffDate</th>\n",
       "      <th>DisbursementDate</th>\n",
       "      <th>DisbursementGross</th>\n",
       "      <th>BalanceGross</th>\n",
       "      <th>MIS_Status</th>\n",
       "      <th>ChgOffPrinGr</th>\n",
       "      <th>GrAppv</th>\n",
       "      <th>SBA_Appv</th>\n",
       "    </tr>\n",
       "  </thead>\n",
       "  <tbody>\n",
       "    <tr>\n",
       "      <th>0</th>\n",
       "      <td>1000014003</td>\n",
       "      <td>ABC HOBBYCRAFT</td>\n",
       "      <td>EVANSVILLE</td>\n",
       "      <td>IN</td>\n",
       "      <td>47711</td>\n",
       "      <td>FIFTH THIRD BANK</td>\n",
       "      <td>OH</td>\n",
       "      <td>451120</td>\n",
       "      <td>28-Feb-97</td>\n",
       "      <td>1997</td>\n",
       "      <td>...</td>\n",
       "      <td>N</td>\n",
       "      <td>Y</td>\n",
       "      <td>NaN</td>\n",
       "      <td>28-Feb-99</td>\n",
       "      <td>$60,000.00</td>\n",
       "      <td>$0.00</td>\n",
       "      <td>P I F</td>\n",
       "      <td>$0.00</td>\n",
       "      <td>$60,000.00</td>\n",
       "      <td>$48,000.00</td>\n",
       "    </tr>\n",
       "    <tr>\n",
       "      <th>1</th>\n",
       "      <td>1000024006</td>\n",
       "      <td>LANDMARK BAR &amp; GRILLE (THE)</td>\n",
       "      <td>NEW PARIS</td>\n",
       "      <td>IN</td>\n",
       "      <td>46526</td>\n",
       "      <td>1ST SOURCE BANK</td>\n",
       "      <td>IN</td>\n",
       "      <td>722410</td>\n",
       "      <td>28-Feb-97</td>\n",
       "      <td>1997</td>\n",
       "      <td>...</td>\n",
       "      <td>N</td>\n",
       "      <td>Y</td>\n",
       "      <td>NaN</td>\n",
       "      <td>31-May-97</td>\n",
       "      <td>$40,000.00</td>\n",
       "      <td>$0.00</td>\n",
       "      <td>P I F</td>\n",
       "      <td>$0.00</td>\n",
       "      <td>$40,000.00</td>\n",
       "      <td>$32,000.00</td>\n",
       "    </tr>\n",
       "    <tr>\n",
       "      <th>2</th>\n",
       "      <td>1000034009</td>\n",
       "      <td>WHITLOCK DDS, TODD M.</td>\n",
       "      <td>BLOOMINGTON</td>\n",
       "      <td>IN</td>\n",
       "      <td>47401</td>\n",
       "      <td>GRANT COUNTY STATE BANK</td>\n",
       "      <td>IN</td>\n",
       "      <td>621210</td>\n",
       "      <td>28-Feb-97</td>\n",
       "      <td>1997</td>\n",
       "      <td>...</td>\n",
       "      <td>N</td>\n",
       "      <td>N</td>\n",
       "      <td>NaN</td>\n",
       "      <td>31-Dec-97</td>\n",
       "      <td>$287,000.00</td>\n",
       "      <td>$0.00</td>\n",
       "      <td>P I F</td>\n",
       "      <td>$0.00</td>\n",
       "      <td>$287,000.00</td>\n",
       "      <td>$215,250.00</td>\n",
       "    </tr>\n",
       "    <tr>\n",
       "      <th>3</th>\n",
       "      <td>1000044001</td>\n",
       "      <td>BIG BUCKS PAWN &amp; JEWELRY, LLC</td>\n",
       "      <td>BROKEN ARROW</td>\n",
       "      <td>OK</td>\n",
       "      <td>74012</td>\n",
       "      <td>1ST NATL BK &amp; TR CO OF BROKEN</td>\n",
       "      <td>OK</td>\n",
       "      <td>0</td>\n",
       "      <td>28-Feb-97</td>\n",
       "      <td>1997</td>\n",
       "      <td>...</td>\n",
       "      <td>N</td>\n",
       "      <td>Y</td>\n",
       "      <td>NaN</td>\n",
       "      <td>30-Jun-97</td>\n",
       "      <td>$35,000.00</td>\n",
       "      <td>$0.00</td>\n",
       "      <td>P I F</td>\n",
       "      <td>$0.00</td>\n",
       "      <td>$35,000.00</td>\n",
       "      <td>$28,000.00</td>\n",
       "    </tr>\n",
       "    <tr>\n",
       "      <th>4</th>\n",
       "      <td>1000054004</td>\n",
       "      <td>ANASTASIA CONFECTIONS, INC.</td>\n",
       "      <td>ORLANDO</td>\n",
       "      <td>FL</td>\n",
       "      <td>32801</td>\n",
       "      <td>FLORIDA BUS. DEVEL CORP</td>\n",
       "      <td>FL</td>\n",
       "      <td>0</td>\n",
       "      <td>28-Feb-97</td>\n",
       "      <td>1997</td>\n",
       "      <td>...</td>\n",
       "      <td>N</td>\n",
       "      <td>N</td>\n",
       "      <td>NaN</td>\n",
       "      <td>14-May-97</td>\n",
       "      <td>$229,000.00</td>\n",
       "      <td>$0.00</td>\n",
       "      <td>P I F</td>\n",
       "      <td>$0.00</td>\n",
       "      <td>$229,000.00</td>\n",
       "      <td>$229,000.00</td>\n",
       "    </tr>\n",
       "  </tbody>\n",
       "</table>\n",
       "<p>5 rows × 27 columns</p>\n",
       "</div>"
      ],
      "text/plain": [
       "   LoanNr_ChkDgt                           Name          City State    Zip  \\\n",
       "0     1000014003                 ABC HOBBYCRAFT    EVANSVILLE    IN  47711   \n",
       "1     1000024006    LANDMARK BAR & GRILLE (THE)     NEW PARIS    IN  46526   \n",
       "2     1000034009          WHITLOCK DDS, TODD M.   BLOOMINGTON    IN  47401   \n",
       "3     1000044001  BIG BUCKS PAWN & JEWELRY, LLC  BROKEN ARROW    OK  74012   \n",
       "4     1000054004    ANASTASIA CONFECTIONS, INC.       ORLANDO    FL  32801   \n",
       "\n",
       "                            Bank BankState   NAICS ApprovalDate ApprovalFY  \\\n",
       "0               FIFTH THIRD BANK        OH  451120    28-Feb-97       1997   \n",
       "1                1ST SOURCE BANK        IN  722410    28-Feb-97       1997   \n",
       "2        GRANT COUNTY STATE BANK        IN  621210    28-Feb-97       1997   \n",
       "3  1ST NATL BK & TR CO OF BROKEN        OK       0    28-Feb-97       1997   \n",
       "4        FLORIDA BUS. DEVEL CORP        FL       0    28-Feb-97       1997   \n",
       "\n",
       "   ...  RevLineCr  LowDoc  ChgOffDate  DisbursementDate  DisbursementGross  \\\n",
       "0  ...          N       Y         NaN         28-Feb-99        $60,000.00    \n",
       "1  ...          N       Y         NaN         31-May-97        $40,000.00    \n",
       "2  ...          N       N         NaN         31-Dec-97       $287,000.00    \n",
       "3  ...          N       Y         NaN         30-Jun-97        $35,000.00    \n",
       "4  ...          N       N         NaN         14-May-97       $229,000.00    \n",
       "\n",
       "   BalanceGross  MIS_Status ChgOffPrinGr        GrAppv      SBA_Appv  \n",
       "0        $0.00        P I F       $0.00    $60,000.00    $48,000.00   \n",
       "1        $0.00        P I F       $0.00    $40,000.00    $32,000.00   \n",
       "2        $0.00        P I F       $0.00   $287,000.00   $215,250.00   \n",
       "3        $0.00        P I F       $0.00    $35,000.00    $28,000.00   \n",
       "4        $0.00        P I F       $0.00   $229,000.00   $229,000.00   \n",
       "\n",
       "[5 rows x 27 columns]"
      ]
     },
     "execution_count": 2,
     "metadata": {},
     "output_type": "execute_result"
    }
   ],
   "source": [
    "#load the data \n",
    "df = pd.read_csv(r\"C:\\Users\\Ochieng' Oginga\\Documents\\Post_S\\Spring_2025\\Data_Science_II\\Project\\Data\\Oginga_Stage1.csv\")\n",
    "#show head \n",
    "df.head()"
   ]
  },
  {
   "cell_type": "markdown",
   "id": "9f2c744a-c7aa-4691-80d3-48ee423679bc",
   "metadata": {},
   "source": [
    "#### Preprocessing "
   ]
  },
  {
   "cell_type": "markdown",
   "id": "67da38ef-f831-41f3-b544-a97b1576d19c",
   "metadata": {},
   "source": [
    "1. Handle Missing Values "
   ]
  },
  {
   "cell_type": "code",
   "execution_count": 3,
   "id": "0f07958a-6ddf-4db8-9536-71c861e0f31e",
   "metadata": {},
   "outputs": [
    {
     "name": "stdout",
     "output_type": "stream",
     "text": [
      "Any missing values in the DataFrame: True\n"
     ]
    }
   ],
   "source": [
    "# Check if there are any missing values in the entire DataFrame\n",
    "any_missing = df.isnull().values.any()\n",
    "\n",
    "print(\"Any missing values in the DataFrame:\", any_missing)\n"
   ]
  },
  {
   "cell_type": "markdown",
   "id": "d45a9638-83ec-479d-978b-84d490355d10",
   "metadata": {},
   "source": [
    "Calculate the percentage of missing values per column to identify columns that need to be imputed or if the missing values are too low and won’t reduce the data’s richness and complexity. "
   ]
  },
  {
   "cell_type": "code",
   "execution_count": 4,
   "id": "a39ff43c-a6a9-4f9d-aa21-d4366beebac1",
   "metadata": {},
   "outputs": [
    {
     "name": "stdout",
     "output_type": "stream",
     "text": [
      "LoanNr_ChkDgt         0.000000\n",
      "Name                  0.001557\n",
      "City                  0.003336\n",
      "State                 0.001557\n",
      "Zip                   0.000000\n",
      "Bank                  0.173383\n",
      "BankState             0.174162\n",
      "NAICS                 0.000000\n",
      "ApprovalDate          0.000000\n",
      "ApprovalFY            0.000000\n",
      "Term                  0.000000\n",
      "NoEmp                 0.000000\n",
      "NewExist              0.015125\n",
      "CreateJob             0.000000\n",
      "RetainedJob           0.000000\n",
      "FranchiseCode         0.000000\n",
      "UrbanRural            0.000000\n",
      "RevLineCr             0.503579\n",
      "LowDoc                0.287156\n",
      "ChgOffDate           81.905526\n",
      "DisbursementDate      0.263356\n",
      "DisbursementGross     0.000000\n",
      "BalanceGross          0.000000\n",
      "MIS_Status            0.222095\n",
      "ChgOffPrinGr          0.000000\n",
      "GrAppv                0.000000\n",
      "SBA_Appv              0.000000\n",
      "dtype: float64\n"
     ]
    }
   ],
   "source": [
    "# Calculate the percentage of missing values per column\n",
    "missing_percentage = (df.isnull().mean()) * 100\n",
    "\n",
    "# Print the percentage of missing values\n",
    "print(missing_percentage)\n"
   ]
  },
  {
   "cell_type": "markdown",
   "id": "4b8386c7-f17e-4fd4-8659-f1c71a17388b",
   "metadata": {},
   "source": [
    "Drop rows that have missing values on key variables that cannot be imputed. In this case, empty rows in these columns were dropped: Name, City, State, DisbursementDate, NewExist, Bank, BankState and MIS status. \n",
    "\n",
    "Since this is a large dataset and the variables are non-numeric, it is challenging to impute with a mean or median. "
   ]
  },
  {
   "cell_type": "code",
   "execution_count": 5,
   "id": "f391f4d2-8522-4d84-9791-2ed1c741cde5",
   "metadata": {},
   "outputs": [
    {
     "name": "stdout",
     "output_type": "stream",
     "text": [
      "LoanNr_ChkDgt         0.000000\n",
      "Name                  0.000000\n",
      "City                  0.000000\n",
      "State                 0.000000\n",
      "Zip                   0.000000\n",
      "Bank                  0.000000\n",
      "BankState             0.000000\n",
      "NAICS                 0.000000\n",
      "ApprovalDate          0.000000\n",
      "ApprovalFY            0.000000\n",
      "Term                  0.000000\n",
      "NoEmp                 0.000000\n",
      "NewExist              0.000000\n",
      "CreateJob             0.000000\n",
      "RetainedJob           0.000000\n",
      "FranchiseCode         0.000000\n",
      "UrbanRural            0.000000\n",
      "RevLineCr             0.504762\n",
      "LowDoc                0.284677\n",
      "ChgOffDate           81.863937\n",
      "DisbursementDate      0.000000\n",
      "DisbursementGross     0.000000\n",
      "BalanceGross          0.000000\n",
      "MIS_Status            0.000000\n",
      "ChgOffPrinGr          0.000000\n",
      "GrAppv                0.000000\n",
      "SBA_Appv              0.000000\n",
      "dtype: float64\n"
     ]
    }
   ],
   "source": [
    "# Drop rows where the 'Name',  \"City\", \"State\", \"DisbursementDate\", \"MIS_Status\" column has missing values (NaN)\n",
    "df_clean = df.dropna(subset=['Name', \"City\", \"State\", \"DisbursementDate\", \"MIS_Status\", \"NewExist\", \"BankState\", \"Bank\"])\n",
    "\n",
    "# Check new percentage of missing values per column\n",
    "missing_percentage = (df_clean.isnull().mean()) * 100\n",
    "\n",
    "# Print the percentage of missing values\n",
    "print(missing_percentage)\n"
   ]
  },
  {
   "cell_type": "markdown",
   "id": "300ef006-4437-4f00-87a3-223fefc88d41",
   "metadata": {},
   "source": [
    "2. Binary Ecoding "
   ]
  },
  {
   "cell_type": "markdown",
   "id": "80094b57-5abe-4dfd-95fd-2c024387b7d5",
   "metadata": {},
   "source": [
    "i. Convert charge off date from a date into a binary to handle the missing values: 0 – if there is no date, and 1 if there is a date, and store in ChgOffDate_binary column. "
   ]
  },
  {
   "cell_type": "code",
   "execution_count": 7,
   "id": "3ff696fd-5cdf-46a1-8a82-ab02142e356b",
   "metadata": {},
   "outputs": [
    {
     "name": "stdout",
     "output_type": "stream",
     "text": [
      "       ChgOffDate  ChgOffDate_binary\n",
      "0             NaN                  0\n",
      "1             NaN                  0\n",
      "2             NaN                  0\n",
      "3             NaN                  0\n",
      "4             NaN                  0\n",
      "...           ...                ...\n",
      "899159        NaN                  0\n",
      "899160        NaN                  0\n",
      "899161        NaN                  0\n",
      "899162   8-Mar-00                  1\n",
      "899163        NaN                  0\n",
      "\n",
      "[893292 rows x 2 columns]\n"
     ]
    }
   ],
   "source": [
    "#for charge off date \n",
    "# Use .loc to modify the original DataFrame and ensure you're creating the binary column\n",
    "df_clean.loc[:, 'ChgOffDate_binary'] = df_clean['ChgOffDate'].notna().astype(int)\n",
    "\n",
    "# Print the DataFrame to check the new column\n",
    "print(df_clean[['ChgOffDate', 'ChgOffDate_binary']])\n"
   ]
  },
  {
   "cell_type": "code",
   "execution_count": 8,
   "id": "934b55a3-0915-4ef6-84ae-010442c39b2e",
   "metadata": {},
   "outputs": [
    {
     "data": {
      "text/plain": [
       "(893292, 28)"
      ]
     },
     "execution_count": 8,
     "metadata": {},
     "output_type": "execute_result"
    }
   ],
   "source": [
    "#check shape of data\n",
    "df_clean.shape"
   ]
  },
  {
   "cell_type": "markdown",
   "id": "74c139f9-e33d-4f1f-9b8c-fb3759396992",
   "metadata": {},
   "source": [
    "ii. Remove undefined location in UrbanRural column, and using the new information, create UrbanRural_binary column, assign 0 to urban and 1 to rural. "
   ]
  },
  {
   "cell_type": "code",
   "execution_count": 9,
   "id": "c8ae7c5f-8a7b-4d31-8824-06b275c063bd",
   "metadata": {},
   "outputs": [
    {
     "name": "stdout",
     "output_type": "stream",
     "text": [
      "Percentage of undefined values in 'UrbanRural': 35.93%\n"
     ]
    }
   ],
   "source": [
    "#first check how many datapoints are undefuined \n",
    "#Calculate the percentage of '0' (undefined) in the 'UrbanRural' column\n",
    "undefined_percentage = (df_clean['UrbanRural'] == 0).mean() * 100\n",
    "\n",
    "# Print the result\n",
    "print(f\"Percentage of undefined values in 'UrbanRural': {undefined_percentage:.2f}%\")\n",
    "\n",
    "# Drop rows where 'UrbanRural' is 0\n",
    "df_clean = df_clean.drop(df_clean[df_clean['UrbanRural'] == 0].index)\n"
   ]
  },
  {
   "cell_type": "code",
   "execution_count": 10,
   "id": "b0489ba2-9a6f-4f58-9cc4-2fc9525695fd",
   "metadata": {},
   "outputs": [
    {
     "name": "stdout",
     "output_type": "stream",
     "text": [
      "     UrbanRural  UrbanRural_binary\n",
      "12            1                  0\n",
      "24            1                  0\n",
      "28            1                  0\n",
      "30            1                  0\n",
      "32            1                  0\n",
      "34            2                  1\n",
      "38            1                  0\n",
      "49            1                  0\n",
      "58            1                  0\n",
      "62            1                  0\n",
      "65            1                  0\n",
      "67            2                  1\n",
      "71            1                  0\n",
      "76            2                  1\n",
      "77            1                  0\n",
      "80            1                  0\n",
      "83            1                  0\n",
      "89            2                  1\n",
      "123           1                  0\n",
      "127           2                  1\n"
     ]
    }
   ],
   "source": [
    "#create a binary column for UrbanRural for just urban and rural entries and create the 'UrbanRural_binary' column\n",
    "df_clean.loc[:, 'UrbanRural_binary'] = df_clean['UrbanRural'].apply(lambda x: 0 if x == 1 else (1 if x == 2 else None))\n",
    "\n",
    "# Print the DataFrame to check the new column\n",
    "print(df_clean[['UrbanRural', 'UrbanRural_binary']].head(20))\n"
   ]
  },
  {
   "cell_type": "code",
   "execution_count": 10,
   "id": "daf6ce70-2f83-4dc5-882d-b29e0291588e",
   "metadata": {},
   "outputs": [
    {
     "data": {
      "text/plain": [
       "(572333, 29)"
      ]
     },
     "execution_count": 10,
     "metadata": {},
     "output_type": "execute_result"
    }
   ],
   "source": [
    "df_clean.shape"
   ]
  },
  {
   "cell_type": "markdown",
   "id": "f8f3144f-b0ae-41ce-98a9-9f20a18a718b",
   "metadata": {},
   "source": [
    "iii. Convert MIS_Status into a binary category. 1 = PIF, and 0 = charged off "
   ]
  },
  {
   "cell_type": "code",
   "execution_count": 11,
   "id": "b3ea0ebe-b6a2-4fde-b979-7142e3fa9257",
   "metadata": {},
   "outputs": [],
   "source": [
    "#using MIS_status column, create a column MIS_Status_Binary with binary variable for paid in full = 1, and charged off = 0\n",
    "df_clean['MIS_Status_Binary'] = df_clean['MIS_Status'].apply(lambda x: 1 if x == 'P I F' else 0)"
   ]
  },
  {
   "cell_type": "markdown",
   "id": "e37e6463-9406-4868-b3a1-440bfa337605",
   "metadata": {},
   "source": [
    "iv. convert franchise column into binary \n",
    "\n",
    "Interested in seeing if a business is a franchise or not "
   ]
  },
  {
   "cell_type": "code",
   "execution_count": 12,
   "id": "510752ec-ff21-4191-887d-7288b01ef91a",
   "metadata": {},
   "outputs": [],
   "source": [
    "df_clean['IsFranchise'] = df_clean['FranchiseCode'].apply(lambda x: 0 if x in [0, 1] else 1)"
   ]
  },
  {
   "cell_type": "markdown",
   "id": "a4e03e67-4e76-468c-a498-802b4d764b81",
   "metadata": {},
   "source": [
    "v. Transform low doc and revline of credit into binary "
   ]
  },
  {
   "cell_type": "code",
   "execution_count": 14,
   "id": "8feb4d9e-5f85-49b6-98f8-b024c5c103f5",
   "metadata": {},
   "outputs": [],
   "source": [
    "#transforming lowdoc into binary\n",
    "df_clean['LowDoc_binary'] = df_clean['LowDoc'].str.strip().str.upper().apply(lambda x: 1 if x == 'Y' else 0)\n",
    "\n",
    "#transforming revolving line of credit into binary \n",
    "df_clean['RevLineCr_binary'] = df_clean['RevLineCr'].str.strip().str.upper().apply(lambda x: 1 if x == 'Y' else 0)\n"
   ]
  },
  {
   "cell_type": "markdown",
   "id": "c88c9cc6-74fe-4367-ba8e-6be24ddf9995",
   "metadata": {},
   "source": [
    "vi. Hot Encoding NAICS using industrial standard "
   ]
  },
  {
   "cell_type": "code",
   "execution_count": 16,
   "id": "2d7508d3-fcb3-4eee-b5ba-4298cae99b1d",
   "metadata": {},
   "outputs": [],
   "source": [
    "# Define a function to extract the sector and map it\n",
    "def map_naics_sector(code):\n",
    "    try:\n",
    "        code = int(code)\n",
    "        if code == 0:\n",
    "            return 'Unknown'\n",
    "        prefix = int(str(code)[:2])  # first two digits\n",
    "        if prefix == 11:\n",
    "            return 'Agriculture'\n",
    "        elif prefix == 21:\n",
    "            return 'Mining'\n",
    "        elif prefix == 22:\n",
    "            return 'Utilities'\n",
    "        elif prefix == 23:\n",
    "            return 'Construction'\n",
    "        elif 31 <= prefix <= 33:\n",
    "            return 'Manufacturing'\n",
    "        elif prefix == 42:\n",
    "            return 'Wholesale Trade'\n",
    "        elif 44 <= prefix <= 45:\n",
    "            return 'Retail Trade'\n",
    "        elif 48 <= prefix <= 49:\n",
    "            return 'Transportation'\n",
    "        elif prefix == 51:\n",
    "            return 'Information'\n",
    "        elif prefix == 52:\n",
    "            return 'Finance'\n",
    "        elif prefix == 53:\n",
    "            return 'Real Estate'\n",
    "        elif prefix == 54:\n",
    "            return 'Professional Services'\n",
    "        elif prefix == 55:\n",
    "            return 'Management'\n",
    "        elif prefix == 56:\n",
    "            return 'Admin & Waste Mgmt'\n",
    "        elif prefix == 61:\n",
    "            return 'Education'\n",
    "        elif prefix == 62:\n",
    "            return 'Healthcare'\n",
    "        elif prefix == 71:\n",
    "            return 'Arts & Recreation'\n",
    "        elif prefix == 72:\n",
    "            return 'Accommodation & Food'\n",
    "        elif prefix == 81:\n",
    "            return 'Other Services'\n",
    "        elif prefix == 92:\n",
    "            return 'Public Admin'\n",
    "        else:\n",
    "            return 'Other'\n",
    "    except:\n",
    "        return 'Unknown'\n",
    "\n",
    "\n",
    "# Apply the mapping\n",
    "df_clean['NAICS_Sector'] = df_clean['NAICS'].apply(map_naics_sector)\n",
    "\n",
    "# One-hot encode\n",
    "df_clean = pd.get_dummies(df_clean, columns=['NAICS_Sector'], prefix='Sector')\n"
   ]
  },
  {
   "cell_type": "markdown",
   "id": "fb25d8df-a051-4bfc-abd7-b1ee24911463",
   "metadata": {},
   "source": [
    "3. Drop off non-key variables"
   ]
  },
  {
   "cell_type": "markdown",
   "id": "601db770-8883-4d75-a853-fe9c6e67a309",
   "metadata": {},
   "source": [
    "Drop off columns that are not part of the key variables: 'LoanNr_ChkDgt', 'ChgOffDate','UrbanRural', 'RevLineCr', 'LowDoc', 'BalanceGross', 'MIS_Status'"
   ]
  },
  {
   "cell_type": "code",
   "execution_count": 17,
   "id": "1147f270-2bbb-4877-a184-f2cf666629a7",
   "metadata": {},
   "outputs": [
    {
     "name": "stdout",
     "output_type": "stream",
     "text": [
      "                           Name         City State    Zip  \\\n",
      "12                       CARVEL         APEX    NC  27502   \n",
      "24                       SUBWAY  LITTLE ROCK    AR  72223   \n",
      "28          WEYLAND CORPORATION    CAMARILLO    CA  93010   \n",
      "30  CHICAGO BRICK UNLIMITED INC        MIAMI    FL  33186   \n",
      "32                    RZI, INC.  NEW ORLEANS    LA  70130   \n",
      "\n",
      "                              Bank BankState ApprovalDate ApprovalFY  Term  \\\n",
      "12           STEARNS BK NATL ASSOC        MN     7-Feb-06       2006   162   \n",
      "24                        HOPE FCU        MS     7-Feb-06       2006   126   \n",
      "28     WELLS FARGO BANK NATL ASSOC        SD     7-Feb-06       2006    83   \n",
      "30                  CITIBANK, N.A.        FL     7-Feb-06       2006    84   \n",
      "32  BUSINESS RES. CAP. SPECIALTY B        LA     7-Feb-06       2006    60   \n",
      "\n",
      "    NoEmp  ...  Sector_Mining  Sector_Other Services  \\\n",
      "12      2  ...          False                  False   \n",
      "24      7  ...          False                  False   \n",
      "28     18  ...          False                  False   \n",
      "30      4  ...          False                  False   \n",
      "32      3  ...          False                  False   \n",
      "\n",
      "    Sector_Professional Services Sector_Public Admin Sector_Real Estate  \\\n",
      "12                         False               False              False   \n",
      "24                         False               False              False   \n",
      "28                         False               False              False   \n",
      "30                         False               False              False   \n",
      "32                         False               False               True   \n",
      "\n",
      "   Sector_Retail Trade Sector_Transportation Sector_Unknown Sector_Utilities  \\\n",
      "12                True                 False          False            False   \n",
      "24               False                 False          False            False   \n",
      "28               False                 False          False            False   \n",
      "30               False                 False          False            False   \n",
      "32               False                 False          False            False   \n",
      "\n",
      "    Sector_Wholesale Trade  \n",
      "12                   False  \n",
      "24                   False  \n",
      "28                   False  \n",
      "30                   False  \n",
      "32                   False  \n",
      "\n",
      "[5 rows x 46 columns]\n"
     ]
    }
   ],
   "source": [
    "# Drop the specified columns from the DataFrame\n",
    "df_clean = df_clean.drop(columns=['LoanNr_ChkDgt', 'ChgOffDate','UrbanRural', 'RevLineCr', 'LowDoc', 'FranchiseCode','MIS_Status', 'NAICS'])\n",
    "\n",
    "# Print the DataFrame to check the result\n",
    "print(df_clean.head())"
   ]
  },
  {
   "cell_type": "code",
   "execution_count": 18,
   "id": "aafc86dc-3981-4c26-98a5-cad832b5746e",
   "metadata": {},
   "outputs": [
    {
     "data": {
      "text/plain": [
       "(572333, 46)"
      ]
     },
     "execution_count": 18,
     "metadata": {},
     "output_type": "execute_result"
    }
   ],
   "source": [
    "#see the final pre-processed dataset\n",
    "df_clean.shape"
   ]
  },
  {
   "cell_type": "markdown",
   "id": "920977f8-53f8-4796-9b09-db5f63fc24ff",
   "metadata": {},
   "source": [
    "4. Convert monetary values into numeric values  "
   ]
  },
  {
   "cell_type": "code",
   "execution_count": 19,
   "id": "7f53ac64-572e-42f3-9b4c-becb580fbea2",
   "metadata": {},
   "outputs": [],
   "source": [
    "# List of monetary columns\n",
    "dollar_columns = ['DisbursementGross', 'ChgOffPrinGr', 'GrAppv', 'SBA_Appv']\n",
    "\n",
    "# Remove $ and , then convert to float\n",
    "df_clean[dollar_columns] = df_clean[dollar_columns].replace('[\\$,]', '', regex=True).astype(float)\n"
   ]
  },
  {
   "cell_type": "markdown",
   "id": "ea67fcc2-f50d-4fdf-85ab-48c525d25ec3",
   "metadata": {},
   "source": [
    "Save processed data into data folder "
   ]
  },
  {
   "cell_type": "code",
   "execution_count": 20,
   "id": "0fbac699-0cad-417b-a657-892d5f1f406e",
   "metadata": {},
   "outputs": [],
   "source": [
    "#save the clean dataframe to data folder\n",
    "df_clean.to_csv(r\"C:\\Users\\Ochieng' Oginga\\Documents\\Post_S\\Spring_2025\\Data_Science_II\\Project\\Data\\Oginga_Stage3.csv\", index=False)"
   ]
  }
 ],
 "metadata": {
  "kernelspec": {
   "display_name": "Python 3 (ipykernel)",
   "language": "python",
   "name": "python3"
  },
  "language_info": {
   "codemirror_mode": {
    "name": "ipython",
    "version": 3
   },
   "file_extension": ".py",
   "mimetype": "text/x-python",
   "name": "python",
   "nbconvert_exporter": "python",
   "pygments_lexer": "ipython3",
   "version": "3.10.11"
  }
 },
 "nbformat": 4,
 "nbformat_minor": 5
}
